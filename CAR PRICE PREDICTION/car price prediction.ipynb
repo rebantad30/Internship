{
 "cells": [
  {
   "cell_type": "markdown",
   "id": "eff954cd",
   "metadata": {},
   "source": [
    "# importing the libraries"
   ]
  },
  {
   "cell_type": "code",
   "execution_count": 1,
   "id": "4ae7f36a",
   "metadata": {},
   "outputs": [],
   "source": [
    "import numpy as np\n",
    "import pandas as pd\n",
    "import matplotlib.pyplot as plt\n",
    "import warnings\n",
    "warnings.filterwarnings(\"ignore\")\n",
    "import seaborn as sns\n",
    "from scipy.stats import zscore\n"
   ]
  },
  {
   "cell_type": "markdown",
   "id": "d7c0a024",
   "metadata": {},
   "source": [
    "# loading the dataset"
   ]
  },
  {
   "cell_type": "code",
   "execution_count": 134,
   "id": "b193c4e9",
   "metadata": {},
   "outputs": [],
   "source": [
    "df=pd.read_excel(\"cardetails2.xlsx\")"
   ]
  },
  {
   "cell_type": "code",
   "execution_count": 135,
   "id": "e05545e8",
   "metadata": {},
   "outputs": [
    {
     "data": {
      "text/html": [
       "<div>\n",
       "<style scoped>\n",
       "    .dataframe tbody tr th:only-of-type {\n",
       "        vertical-align: middle;\n",
       "    }\n",
       "\n",
       "    .dataframe tbody tr th {\n",
       "        vertical-align: top;\n",
       "    }\n",
       "\n",
       "    .dataframe thead th {\n",
       "        text-align: right;\n",
       "    }\n",
       "</style>\n",
       "<table border=\"1\" class=\"dataframe\">\n",
       "  <thead>\n",
       "    <tr style=\"text-align: right;\">\n",
       "      <th></th>\n",
       "      <th>Brand</th>\n",
       "      <th>model</th>\n",
       "      <th>year</th>\n",
       "      <th>history</th>\n",
       "      <th>ownership</th>\n",
       "      <th>km_driven</th>\n",
       "      <th>fuel</th>\n",
       "      <th>transmission</th>\n",
       "      <th>location</th>\n",
       "      <th>price</th>\n",
       "    </tr>\n",
       "  </thead>\n",
       "  <tbody>\n",
       "    <tr>\n",
       "      <th>1477</th>\n",
       "      <td>Maruti</td>\n",
       "      <td>Dzire</td>\n",
       "      <td>2018</td>\n",
       "      <td>Non-Accidental</td>\n",
       "      <td>1st</td>\n",
       "      <td>50254</td>\n",
       "      <td>Petrol</td>\n",
       "      <td>MANUAL</td>\n",
       "      <td>['Kolkata']</td>\n",
       "      <td>489399</td>\n",
       "    </tr>\n",
       "    <tr>\n",
       "      <th>4779</th>\n",
       "      <td>Maruti</td>\n",
       "      <td>Alto</td>\n",
       "      <td>2017</td>\n",
       "      <td>Non-Accidental</td>\n",
       "      <td>1st</td>\n",
       "      <td>30699</td>\n",
       "      <td>Petrol</td>\n",
       "      <td>MANUAL</td>\n",
       "      <td>['Chandigarh']</td>\n",
       "      <td>323399</td>\n",
       "    </tr>\n",
       "    <tr>\n",
       "      <th>4500</th>\n",
       "      <td>Hyundai</td>\n",
       "      <td>i10</td>\n",
       "      <td>2015</td>\n",
       "      <td>Non-Accidental</td>\n",
       "      <td>1st</td>\n",
       "      <td>11570</td>\n",
       "      <td>Diesel</td>\n",
       "      <td>MANUAL</td>\n",
       "      <td>['Ahmedabad']</td>\n",
       "      <td>390199</td>\n",
       "    </tr>\n",
       "    <tr>\n",
       "      <th>715</th>\n",
       "      <td>Skoda</td>\n",
       "      <td>Rapid</td>\n",
       "      <td>2021</td>\n",
       "      <td>Non-Accidental</td>\n",
       "      <td>1st</td>\n",
       "      <td>9999</td>\n",
       "      <td>Petrol</td>\n",
       "      <td>MANUAL</td>\n",
       "      <td>['Rohtak']</td>\n",
       "      <td>1132399</td>\n",
       "    </tr>\n",
       "    <tr>\n",
       "      <th>4099</th>\n",
       "      <td>Maruti</td>\n",
       "      <td>Swift</td>\n",
       "      <td>2011</td>\n",
       "      <td>Non-Accidental</td>\n",
       "      <td>2nd</td>\n",
       "      <td>26495</td>\n",
       "      <td>Petrol</td>\n",
       "      <td>MANUAL</td>\n",
       "      <td>['New', 'Delhi']</td>\n",
       "      <td>281299</td>\n",
       "    </tr>\n",
       "  </tbody>\n",
       "</table>\n",
       "</div>"
      ],
      "text/plain": [
       "        Brand  model  year         history ownership  km_driven    fuel  \\\n",
       "1477   Maruti  Dzire  2018  Non-Accidental       1st      50254  Petrol   \n",
       "4779   Maruti   Alto  2017  Non-Accidental       1st      30699  Petrol   \n",
       "4500  Hyundai    i10  2015  Non-Accidental       1st      11570  Diesel   \n",
       "715     Skoda  Rapid  2021  Non-Accidental       1st       9999  Petrol   \n",
       "4099   Maruti  Swift  2011  Non-Accidental       2nd      26495  Petrol   \n",
       "\n",
       "     transmission          location    price  \n",
       "1477       MANUAL       ['Kolkata']   489399  \n",
       "4779       MANUAL    ['Chandigarh']   323399  \n",
       "4500       MANUAL     ['Ahmedabad']   390199  \n",
       "715        MANUAL        ['Rohtak']  1132399  \n",
       "4099       MANUAL  ['New', 'Delhi']   281299  "
      ]
     },
     "execution_count": 135,
     "metadata": {},
     "output_type": "execute_result"
    }
   ],
   "source": [
    "df.sample(5)"
   ]
  },
  {
   "cell_type": "code",
   "execution_count": 136,
   "id": "38ae5d09",
   "metadata": {},
   "outputs": [
    {
     "data": {
      "text/plain": [
       "(5242, 10)"
      ]
     },
     "execution_count": 136,
     "metadata": {},
     "output_type": "execute_result"
    }
   ],
   "source": [
    "df.shape"
   ]
  },
  {
   "cell_type": "markdown",
   "id": "170716a8",
   "metadata": {},
   "source": [
    "the dataset contains 5242 rows and 10 columns"
   ]
  },
  {
   "cell_type": "code",
   "execution_count": null,
   "id": "18600488",
   "metadata": {},
   "outputs": [],
   "source": []
  },
  {
   "cell_type": "code",
   "execution_count": 137,
   "id": "1a16e7be",
   "metadata": {},
   "outputs": [],
   "source": [
    "df['km_driven']=pd.to_numeric(df['km_driven'])"
   ]
  },
  {
   "cell_type": "code",
   "execution_count": null,
   "id": "33eb0c27",
   "metadata": {},
   "outputs": [],
   "source": []
  },
  {
   "cell_type": "code",
   "execution_count": 138,
   "id": "83d2bcf7",
   "metadata": {},
   "outputs": [
    {
     "data": {
      "text/plain": [
       "Brand           object\n",
       "model           object\n",
       "year             int64\n",
       "history         object\n",
       "ownership       object\n",
       "km_driven        int64\n",
       "fuel            object\n",
       "transmission    object\n",
       "location        object\n",
       "price            int64\n",
       "dtype: object"
      ]
     },
     "execution_count": 138,
     "metadata": {},
     "output_type": "execute_result"
    }
   ],
   "source": [
    "df.dtypes"
   ]
  },
  {
   "cell_type": "markdown",
   "id": "34751e91",
   "metadata": {},
   "source": [
    "there is a mix of object and int64 type data"
   ]
  },
  {
   "cell_type": "code",
   "execution_count": 91,
   "id": "1db8c89b",
   "metadata": {},
   "outputs": [
    {
     "data": {
      "text/plain": [
       "Brand             0\n",
       "model             0\n",
       "year              0\n",
       "history           0\n",
       "ownership         0\n",
       "km_driven         0\n",
       "fuel              0\n",
       "transmission    281\n",
       "location          0\n",
       "price             0\n",
       "dtype: int64"
      ]
     },
     "execution_count": 91,
     "metadata": {},
     "output_type": "execute_result"
    }
   ],
   "source": [
    "df.isnull().sum()"
   ]
  },
  {
   "cell_type": "markdown",
   "id": "22daae66",
   "metadata": {},
   "source": [
    "transmission variable contains 281 null values"
   ]
  },
  {
   "cell_type": "code",
   "execution_count": 92,
   "id": "6fffe16c",
   "metadata": {},
   "outputs": [
    {
     "data": {
      "text/plain": [
       "Brand             19\n",
       "model            106\n",
       "year              14\n",
       "history            1\n",
       "ownership          3\n",
       "km_driven       2764\n",
       "fuel               2\n",
       "transmission       3\n",
       "location          25\n",
       "price           2399\n",
       "dtype: int64"
      ]
     },
     "execution_count": 92,
     "metadata": {},
     "output_type": "execute_result"
    }
   ],
   "source": [
    "df.nunique()"
   ]
  },
  {
   "cell_type": "code",
   "execution_count": 124,
   "id": "386fb6b0",
   "metadata": {},
   "outputs": [
    {
     "data": {
      "text/plain": [
       "array(['MANUAL', 'AUTOMATIC', nan, 'HR-02-x-xxxx'], dtype=object)"
      ]
     },
     "execution_count": 124,
     "metadata": {},
     "output_type": "execute_result"
    }
   ],
   "source": [
    "df['transmission'].unique()"
   ]
  },
  {
   "cell_type": "code",
   "execution_count": 154,
   "id": "d4a7b7fe",
   "metadata": {},
   "outputs": [],
   "source": [
    "df = df[df['transmission'] != \"HR-02-x-xxxx\"]"
   ]
  },
  {
   "cell_type": "code",
   "execution_count": 155,
   "id": "96c24d1f",
   "metadata": {},
   "outputs": [
    {
     "data": {
      "text/plain": [
       "array(['MANUAL', 'AUTOMATIC', nan], dtype=object)"
      ]
     },
     "execution_count": 155,
     "metadata": {},
     "output_type": "execute_result"
    }
   ],
   "source": [
    "df['transmission'].unique()"
   ]
  },
  {
   "cell_type": "code",
   "execution_count": 133,
   "id": "0a5ab9a1",
   "metadata": {},
   "outputs": [
    {
     "data": {
      "text/plain": [
       "(5239, 10)"
      ]
     },
     "execution_count": 133,
     "metadata": {},
     "output_type": "execute_result"
    }
   ],
   "source": [
    "df.shape"
   ]
  },
  {
   "cell_type": "code",
   "execution_count": 141,
   "id": "e9ed0a09",
   "metadata": {},
   "outputs": [
    {
     "data": {
      "text/plain": [
       "array(['Maruti', 'Hyundai', 'Mercedes', 'KIA', 'MG', 'Tata', 'Nissan',\n",
       "       'Renault', 'Honda', 'Mahindra', 'Datsun', 'Ford', 'Toyota',\n",
       "       'Volkswagen', 'Jeep', 'Skoda', 'Audi', 'BMW', 'Fiat'], dtype=object)"
      ]
     },
     "execution_count": 141,
     "metadata": {},
     "output_type": "execute_result"
    }
   ],
   "source": [
    "df['Brand'].unique()"
   ]
  },
  {
   "cell_type": "code",
   "execution_count": 142,
   "id": "8d6faccc",
   "metadata": {},
   "outputs": [
    {
     "data": {
      "text/plain": [
       "array(['Swift', 'Grand', 'i20', 'Eon', 'Ritz', 'Wagon', 'Benz', 'SELTOS',\n",
       "       'HECTOR', 'CARENS', 'i10', 'ALTROZ', 'MAGNITE', 'VENUE', 'Kiger',\n",
       "       'Brio', 'NEW', 'New', 'Baleno', 'NEXON', 'Tiago', 'Kwid', 'Alto',\n",
       "       'Kuv100', 'Go', 'City', 'SONET', 'Jazz', 'Verna', 'Scorpio',\n",
       "       'XUV500', 'Dzire', 'Figo', 'URBAN', 'Polo', 'Compass', 'Zen',\n",
       "       'Creta', 'Ertiga', 'Ecosport', 'AURA', 'Celerio', 'Glanza', 'Ciaz',\n",
       "       'Redi', 'Vitara', 'Elite', 'Amaze', 'T-ROC', 'S', 'WR-V',\n",
       "       'Corolla', 'Etios', 'Vento', 'YARIS', 'Xcent', 'Fortuner', 'KUV',\n",
       "       'XL6', 'GRAND', 'TIGOR', 'Thar', 'IGNIS', 'Tucson', 'Innova',\n",
       "       'TIGUAN', 'TRIBER', 'Harrier', 'XUV', 'Duster', 'Rapid', 'Safari',\n",
       "       'Ameo', 'Hexa', 'Q3', 'Octavia', 'A3', 'A6', 'Q5', 'A', 'Santro',\n",
       "       'Endeavour', 'Micra', '5', 'CRV', 'Eeco', 'Civic', 'TUV300',\n",
       "       'Camry', 'BOLERO', 'ALCAZAR', 'OMNI', 'TAIGUN', 'PUNCH', 'Kicks',\n",
       "       'MARAZZO', 'SLAVIA', 'Terrano', 'Captur', 'FREESTYLE', 'BR-V',\n",
       "       'KUSHAQ', 'ASTOR', 'Sonata', 'TIAGO', '3'], dtype=object)"
      ]
     },
     "execution_count": 142,
     "metadata": {},
     "output_type": "execute_result"
    }
   ],
   "source": [
    "df['model'].unique()"
   ]
  },
  {
   "cell_type": "code",
   "execution_count": 143,
   "id": "b6245088",
   "metadata": {},
   "outputs": [
    {
     "data": {
      "text/html": [
       "<div>\n",
       "<style scoped>\n",
       "    .dataframe tbody tr th:only-of-type {\n",
       "        vertical-align: middle;\n",
       "    }\n",
       "\n",
       "    .dataframe tbody tr th {\n",
       "        vertical-align: top;\n",
       "    }\n",
       "\n",
       "    .dataframe thead th {\n",
       "        text-align: right;\n",
       "    }\n",
       "</style>\n",
       "<table border=\"1\" class=\"dataframe\">\n",
       "  <thead>\n",
       "    <tr style=\"text-align: right;\">\n",
       "      <th></th>\n",
       "      <th>Brand</th>\n",
       "      <th>model</th>\n",
       "      <th>year</th>\n",
       "      <th>history</th>\n",
       "      <th>ownership</th>\n",
       "      <th>km_driven</th>\n",
       "      <th>fuel</th>\n",
       "      <th>transmission</th>\n",
       "      <th>location</th>\n",
       "      <th>price</th>\n",
       "    </tr>\n",
       "  </thead>\n",
       "  <tbody>\n",
       "    <tr>\n",
       "      <th>4742</th>\n",
       "      <td>BMW</td>\n",
       "      <td>3</td>\n",
       "      <td>2013</td>\n",
       "      <td>Non-Accidental</td>\n",
       "      <td>1st</td>\n",
       "      <td>93590</td>\n",
       "      <td>Diesel</td>\n",
       "      <td>MANUAL</td>\n",
       "      <td>['Chandigarh']</td>\n",
       "      <td>1081599</td>\n",
       "    </tr>\n",
       "  </tbody>\n",
       "</table>\n",
       "</div>"
      ],
      "text/plain": [
       "     Brand model  year         history ownership  km_driven    fuel  \\\n",
       "4742   BMW     3  2013  Non-Accidental       1st      93590  Diesel   \n",
       "\n",
       "     transmission        location    price  \n",
       "4742       MANUAL  ['Chandigarh']  1081599  "
      ]
     },
     "execution_count": 143,
     "metadata": {},
     "output_type": "execute_result"
    }
   ],
   "source": [
    "df[df['model']==\"3\"]"
   ]
  },
  {
   "cell_type": "code",
   "execution_count": 144,
   "id": "91dbfbd5",
   "metadata": {},
   "outputs": [
    {
     "data": {
      "text/plain": [
       "array(['Petrol', 'Diesel'], dtype=object)"
      ]
     },
     "execution_count": 144,
     "metadata": {},
     "output_type": "execute_result"
    }
   ],
   "source": [
    "df['fuel'].unique()"
   ]
  },
  {
   "cell_type": "code",
   "execution_count": 145,
   "id": "2bfa8080",
   "metadata": {},
   "outputs": [
    {
     "data": {
      "text/plain": [
       "array(['Non-Accidental'], dtype=object)"
      ]
     },
     "execution_count": 145,
     "metadata": {},
     "output_type": "execute_result"
    }
   ],
   "source": [
    "df['history'].unique()"
   ]
  },
  {
   "cell_type": "code",
   "execution_count": 146,
   "id": "8e78dfb1",
   "metadata": {},
   "outputs": [
    {
     "data": {
      "text/plain": [
       "array(['2nd', '1st', '3rd'], dtype=object)"
      ]
     },
     "execution_count": 146,
     "metadata": {},
     "output_type": "execute_result"
    }
   ],
   "source": [
    "df['ownership'].unique()"
   ]
  },
  {
   "cell_type": "markdown",
   "id": "cbce1533",
   "metadata": {},
   "source": [
    "the above is clean and any unwanted column or date has been removed"
   ]
  },
  {
   "cell_type": "code",
   "execution_count": null,
   "id": "40974519",
   "metadata": {},
   "outputs": [],
   "source": []
  },
  {
   "cell_type": "markdown",
   "id": "6b01dcfb",
   "metadata": {},
   "source": [
    "#  EDA process"
   ]
  },
  {
   "cell_type": "code",
   "execution_count": 147,
   "id": "6a127e97",
   "metadata": {},
   "outputs": [
    {
     "data": {
      "text/plain": [
       "(array([ 0,  1,  2,  3,  4,  5,  6,  7,  8,  9, 10, 11, 12, 13, 14, 15, 16,\n",
       "        17, 18]),\n",
       " [Text(0, 0, 'Maruti'),\n",
       "  Text(1, 0, 'Hyundai'),\n",
       "  Text(2, 0, 'Mercedes'),\n",
       "  Text(3, 0, 'KIA'),\n",
       "  Text(4, 0, 'MG'),\n",
       "  Text(5, 0, 'Tata'),\n",
       "  Text(6, 0, 'Nissan'),\n",
       "  Text(7, 0, 'Renault'),\n",
       "  Text(8, 0, 'Honda'),\n",
       "  Text(9, 0, 'Mahindra'),\n",
       "  Text(10, 0, 'Datsun'),\n",
       "  Text(11, 0, 'Ford'),\n",
       "  Text(12, 0, 'Toyota'),\n",
       "  Text(13, 0, 'Volkswagen'),\n",
       "  Text(14, 0, 'Jeep'),\n",
       "  Text(15, 0, 'Skoda'),\n",
       "  Text(16, 0, 'Audi'),\n",
       "  Text(17, 0, 'BMW'),\n",
       "  Text(18, 0, 'Fiat')])"
      ]
     },
     "execution_count": 147,
     "metadata": {},
     "output_type": "execute_result"
    },
    {
     "data": {
      "image/png": "[encoded data removed]",
      "text/plain": [
       "<Figure size 432x288 with 1 Axes>"
      ]
     },
     "metadata": {
      "needs_background": "light"
     },
     "output_type": "display_data"
    }
   ],
   "source": [
    "sns.barplot(x=df['Brand'],y=df['price'])\n",
    "plt.xticks(rotation=90)"
   ]
  },
  {
   "cell_type": "markdown",
   "id": "f8678937",
   "metadata": {},
   "source": [
    "from the plot we can see that cars of expensive brands like BMW , Mercedes,MG, Audi, Skoda have high price "
   ]
  },
  {
   "cell_type": "code",
   "execution_count": 148,
   "id": "4cd45a7f",
   "metadata": {},
   "outputs": [
    {
     "data": {
      "text/plain": [
       "(array([ 0,  1,  2,  3,  4,  5,  6,  7,  8,  9, 10, 11, 12, 13]),\n",
       " [Text(0, 0, '2009'),\n",
       "  Text(1, 0, '2010'),\n",
       "  Text(2, 0, '2011'),\n",
       "  Text(3, 0, '2012'),\n",
       "  Text(4, 0, '2013'),\n",
       "  Text(5, 0, '2014'),\n",
       "  Text(6, 0, '2015'),\n",
       "  Text(7, 0, '2016'),\n",
       "  Text(8, 0, '2017'),\n",
       "  Text(9, 0, '2018'),\n",
       "  Text(10, 0, '2019'),\n",
       "  Text(11, 0, '2020'),\n",
       "  Text(12, 0, '2021'),\n",
       "  Text(13, 0, '2022')])"
      ]
     },
     "execution_count": 148,
     "metadata": {},
     "output_type": "execute_result"
    },
    {
     "data": {
      "image/png": "[encoded data removed]",
      "text/plain": [
       "<Figure size 432x288 with 1 Axes>"
      ]
     },
     "metadata": {
      "needs_background": "light"
     },
     "output_type": "display_data"
    }
   ],
   "source": [
    "sns.barplot(x=df['year'],y=df['price'])\n",
    "plt.xticks(rotation=90)"
   ]
  },
  {
   "cell_type": "markdown",
   "id": "75e6686a",
   "metadata": {},
   "source": [
    "from the bar chart, it can be observed that as the car gets old, the resale value decreases, \n",
    "the resale price is high for cars of 2022 as manufacturing year"
   ]
  },
  {
   "cell_type": "code",
   "execution_count": 149,
   "id": "33e6a933",
   "metadata": {},
   "outputs": [
    {
     "data": {
      "text/plain": [
       "(array([0, 1, 2]), [Text(0, 0, '2nd'), Text(1, 0, '1st'), Text(2, 0, '3rd')])"
      ]
     },
     "execution_count": 149,
     "metadata": {},
     "output_type": "execute_result"
    },
    {
     "data": {
      "image/png": "[encoded data removed]",
      "text/plain": [
       "<Figure size 432x288 with 1 Axes>"
      ]
     },
     "metadata": {
      "needs_background": "light"
     },
     "output_type": "display_data"
    }
   ],
   "source": [
    "sns.barplot(x=df['ownership'],y=df['price'])\n",
    "plt.xticks(rotation=90)"
   ]
  },
  {
   "cell_type": "markdown",
   "id": "152f8925",
   "metadata": {},
   "source": [
    "we can see that the price of the cars are slightly high for 1 st ownership"
   ]
  },
  {
   "cell_type": "code",
   "execution_count": 150,
   "id": "ce6acebb",
   "metadata": {},
   "outputs": [
    {
     "data": {
      "text/plain": [
       "(array([0, 1]), [Text(0, 0, 'Petrol'), Text(1, 0, 'Diesel')])"
      ]
     },
     "execution_count": 150,
     "metadata": {},
     "output_type": "execute_result"
    },
    {
     "data": {
      "image/png": "[encoded data removed]",
      "text/plain": [
       "<Figure size 432x288 with 1 Axes>"
      ]
     },
     "metadata": {
      "needs_background": "light"
     },
     "output_type": "display_data"
    }
   ],
   "source": [
    "sns.barplot(x=df['fuel'],y=df['price'])\n",
    "plt.xticks(rotation=90)"
   ]
  },
  {
   "cell_type": "markdown",
   "id": "7b27e06b",
   "metadata": {},
   "source": [
    "the resale price diesel cars are higher"
   ]
  },
  {
   "cell_type": "code",
   "execution_count": 151,
   "id": "f504d9d1",
   "metadata": {},
   "outputs": [
    {
     "data": {
      "text/plain": [
       "(array([ 0,  1,  2,  3,  4,  5,  6,  7,  8,  9, 10, 11, 12, 13, 14, 15, 16,\n",
       "        17, 18, 19, 20, 21, 22, 23, 24]),\n",
       " [Text(0, 0, \"['New', 'Delhi']\"),\n",
       "  Text(1, 0, \"['Noida']\"),\n",
       "  Text(2, 0, \"['Ghaziabad']\"),\n",
       "  Text(3, 0, \"['Faridabad']\"),\n",
       "  Text(4, 0, \"['Gurgaon']\"),\n",
       "  Text(5, 0, \"['Panipat']\"),\n",
       "  Text(6, 0, \"['Rohtak']\"),\n",
       "  Text(7, 0, \"['Rewari']\"),\n",
       "  Text(8, 0, \"['Sonipat']\"),\n",
       "  Text(9, 0, \"['Mumbai']\"),\n",
       "  Text(10, 0, \"['Nasik']\"),\n",
       "  Text(11, 0, \"['Pune']\"),\n",
       "  Text(12, 0, \"['North', '24', 'Parganas']\"),\n",
       "  Text(13, 0, \"['Kolkata']\"),\n",
       "  Text(14, 0, \"['Howrah']\"),\n",
       "  Text(15, 0, \"['Hooghly']\"),\n",
       "  Text(16, 0, \"['Chennai']\"),\n",
       "  Text(17, 0, \"['Vadodara']\"),\n",
       "  Text(18, 0, \"['Ahmedabad']\"),\n",
       "  Text(19, 0, \"['Gandhinagar']\"),\n",
       "  Text(20, 0, \"['Rajkot']\"),\n",
       "  Text(21, 0, \"['Surat']\"),\n",
       "  Text(22, 0, \"['Jaipur']\"),\n",
       "  Text(23, 0, \"['Chandigarh']\"),\n",
       "  Text(24, 0, \"['Ludhiana']\")])"
      ]
     },
     "execution_count": 151,
     "metadata": {},
     "output_type": "execute_result"
    },
    {
     "data": {
      "image/png": "[encoded data removed]",
      "text/plain": [
       "<Figure size 432x288 with 1 Axes>"
      ]
     },
     "metadata": {
      "needs_background": "light"
     },
     "output_type": "display_data"
    }
   ],
   "source": [
    "sns.barplot(x=df['location'],y=df['price'])\n",
    "plt.xticks(rotation=90)"
   ]
  },
  {
   "cell_type": "code",
   "execution_count": 156,
   "id": "b6153642",
   "metadata": {},
   "outputs": [
    {
     "data": {
      "text/plain": [
       "(array([0, 1]), [Text(0, 0, 'MANUAL'), Text(1, 0, 'AUTOMATIC')])"
      ]
     },
     "execution_count": 156,
     "metadata": {},
     "output_type": "execute_result"
    },
    {
     "data": {
      "image/png": "[encoded data removed]",
      "text/plain": [
       "<Figure size 432x288 with 1 Axes>"
      ]
     },
     "metadata": {
      "needs_background": "light"
     },
     "output_type": "display_data"
    }
   ],
   "source": [
    "sns.barplot(x=df['transmission'],y=df['price'])\n",
    "plt.xticks(rotation=90)"
   ]
  },
  {
   "cell_type": "markdown",
   "id": "23ba459e",
   "metadata": {},
   "source": [
    "cars with automatic transmission have higher price"
   ]
  },
  {
   "cell_type": "code",
   "execution_count": 168,
   "id": "ceb5b64a",
   "metadata": {},
   "outputs": [
    {
     "data": {
      "text/plain": [
       "(array([0]), [Text(0, 0, 'Non-Accidental')])"
      ]
     },
     "execution_count": 168,
     "metadata": {},
     "output_type": "execute_result"
    },
    {
     "data": {
      "image/png": "[encoded data removed]",
      "text/plain": [
       "<Figure size 432x288 with 1 Axes>"
      ]
     },
     "metadata": {
      "needs_background": "light"
     },
     "output_type": "display_data"
    }
   ],
   "source": [
    "sns.barplot(x=df['history'],y=df['price'])\n",
    "plt.xticks(rotation=90)"
   ]
  },
  {
   "cell_type": "markdown",
   "id": "8bb309dc",
   "metadata": {},
   "source": [
    "there is only 1 value so we can drop this column"
   ]
  },
  {
   "cell_type": "code",
   "execution_count": 169,
   "id": "63bf9c0d",
   "metadata": {},
   "outputs": [],
   "source": [
    "df.drop(['history'],axis=1,inplace=True)"
   ]
  },
  {
   "cell_type": "code",
   "execution_count": null,
   "id": "a2888fe5",
   "metadata": {},
   "outputs": [],
   "source": []
  },
  {
   "cell_type": "markdown",
   "id": "748d31db",
   "metadata": {},
   "source": [
    "## imputation"
   ]
  },
  {
   "cell_type": "code",
   "execution_count": 158,
   "id": "fd31326a",
   "metadata": {},
   "outputs": [],
   "source": [
    "from sklearn.impute import SimpleImputer"
   ]
  },
  {
   "cell_type": "code",
   "execution_count": 159,
   "id": "984a0722",
   "metadata": {},
   "outputs": [],
   "source": [
    "imp=SimpleImputer(missing_values=np.NaN,strategy=\"most_frequent\")"
   ]
  },
  {
   "cell_type": "code",
   "execution_count": 161,
   "id": "b82dd6d2",
   "metadata": {},
   "outputs": [],
   "source": [
    "df['transmission']=imp.fit_transform(df['transmission'].values.reshape(-1,1))"
   ]
  },
  {
   "cell_type": "code",
   "execution_count": 170,
   "id": "07da1325",
   "metadata": {},
   "outputs": [
    {
     "data": {
      "text/plain": [
       "Brand           0\n",
       "model           0\n",
       "year            0\n",
       "ownership       0\n",
       "km_driven       0\n",
       "fuel            0\n",
       "transmission    0\n",
       "location        0\n",
       "price           0\n",
       "dtype: int64"
      ]
     },
     "execution_count": 170,
     "metadata": {},
     "output_type": "execute_result"
    }
   ],
   "source": [
    "df.isnull().sum()"
   ]
  },
  {
   "cell_type": "markdown",
   "id": "702aed71",
   "metadata": {},
   "source": [
    "null values have been removed"
   ]
  },
  {
   "cell_type": "markdown",
   "id": "81bbac67",
   "metadata": {},
   "source": [
    "## label encoding"
   ]
  },
  {
   "cell_type": "code",
   "execution_count": 166,
   "id": "b088a097",
   "metadata": {},
   "outputs": [],
   "source": [
    "from sklearn.preprocessing import LabelEncoder"
   ]
  },
  {
   "cell_type": "code",
   "execution_count": 167,
   "id": "645465f7",
   "metadata": {},
   "outputs": [],
   "source": [
    "le=LabelEncoder()"
   ]
  },
  {
   "cell_type": "code",
   "execution_count": 171,
   "id": "e32e0d31",
   "metadata": {},
   "outputs": [],
   "source": [
    "list=[\"Brand\",\"model\",\"year\",\"ownership\",\"fuel\",\"transmission\",\"location\"]\n",
    "for i in list:\n",
    "    df[i]=le.fit_transform(df[i])"
   ]
  },
  {
   "cell_type": "markdown",
   "id": "27664c87",
   "metadata": {},
   "source": [
    "## Descriptive Statistics"
   ]
  },
  {
   "cell_type": "code",
   "execution_count": 172,
   "id": "55e536ce",
   "metadata": {},
   "outputs": [
    {
     "data": {
      "text/html": [
       "<div>\n",
       "<style scoped>\n",
       "    .dataframe tbody tr th:only-of-type {\n",
       "        vertical-align: middle;\n",
       "    }\n",
       "\n",
       "    .dataframe tbody tr th {\n",
       "        vertical-align: top;\n",
       "    }\n",
       "\n",
       "    .dataframe thead th {\n",
       "        text-align: right;\n",
       "    }\n",
       "</style>\n",
       "<table border=\"1\" class=\"dataframe\">\n",
       "  <thead>\n",
       "    <tr style=\"text-align: right;\">\n",
       "      <th></th>\n",
       "      <th>Brand</th>\n",
       "      <th>model</th>\n",
       "      <th>year</th>\n",
       "      <th>ownership</th>\n",
       "      <th>km_driven</th>\n",
       "      <th>fuel</th>\n",
       "      <th>transmission</th>\n",
       "      <th>location</th>\n",
       "      <th>price</th>\n",
       "    </tr>\n",
       "  </thead>\n",
       "  <tbody>\n",
       "    <tr>\n",
       "      <th>count</th>\n",
       "      <td>5239.000000</td>\n",
       "      <td>5239.000000</td>\n",
       "      <td>5239.000000</td>\n",
       "      <td>5239.000000</td>\n",
       "      <td>5239.000000</td>\n",
       "      <td>5239.000000</td>\n",
       "      <td>5239.000000</td>\n",
       "      <td>5239.000000</td>\n",
       "      <td>5.239000e+03</td>\n",
       "    </tr>\n",
       "    <tr>\n",
       "      <th>mean</th>\n",
       "      <td>9.594006</td>\n",
       "      <td>48.456957</td>\n",
       "      <td>8.908761</td>\n",
       "      <td>0.232678</td>\n",
       "      <td>38616.262646</td>\n",
       "      <td>0.859897</td>\n",
       "      <td>0.832220</td>\n",
       "      <td>8.928421</td>\n",
       "      <td>6.835562e+05</td>\n",
       "    </tr>\n",
       "    <tr>\n",
       "      <th>std</th>\n",
       "      <td>3.590468</td>\n",
       "      <td>30.407447</td>\n",
       "      <td>2.466824</td>\n",
       "      <td>0.464338</td>\n",
       "      <td>25136.663699</td>\n",
       "      <td>0.347127</td>\n",
       "      <td>0.373707</td>\n",
       "      <td>5.877620</td>\n",
       "      <td>3.738273e+05</td>\n",
       "    </tr>\n",
       "    <tr>\n",
       "      <th>min</th>\n",
       "      <td>0.000000</td>\n",
       "      <td>0.000000</td>\n",
       "      <td>0.000000</td>\n",
       "      <td>0.000000</td>\n",
       "      <td>202.000000</td>\n",
       "      <td>0.000000</td>\n",
       "      <td>0.000000</td>\n",
       "      <td>0.000000</td>\n",
       "      <td>1.390990e+05</td>\n",
       "    </tr>\n",
       "    <tr>\n",
       "      <th>25%</th>\n",
       "      <td>6.000000</td>\n",
       "      <td>23.000000</td>\n",
       "      <td>8.000000</td>\n",
       "      <td>0.000000</td>\n",
       "      <td>18227.500000</td>\n",
       "      <td>1.000000</td>\n",
       "      <td>1.000000</td>\n",
       "      <td>2.000000</td>\n",
       "      <td>4.341990e+05</td>\n",
       "    </tr>\n",
       "    <tr>\n",
       "      <th>50%</th>\n",
       "      <td>11.000000</td>\n",
       "      <td>43.000000</td>\n",
       "      <td>9.000000</td>\n",
       "      <td>0.000000</td>\n",
       "      <td>34469.000000</td>\n",
       "      <td>1.000000</td>\n",
       "      <td>1.000000</td>\n",
       "      <td>10.000000</td>\n",
       "      <td>5.767990e+05</td>\n",
       "    </tr>\n",
       "    <tr>\n",
       "      <th>75%</th>\n",
       "      <td>11.000000</td>\n",
       "      <td>79.000000</td>\n",
       "      <td>11.000000</td>\n",
       "      <td>0.000000</td>\n",
       "      <td>54771.500000</td>\n",
       "      <td>1.000000</td>\n",
       "      <td>1.000000</td>\n",
       "      <td>14.000000</td>\n",
       "      <td>8.100490e+05</td>\n",
       "    </tr>\n",
       "    <tr>\n",
       "      <th>max</th>\n",
       "      <td>18.000000</td>\n",
       "      <td>105.000000</td>\n",
       "      <td>13.000000</td>\n",
       "      <td>2.000000</td>\n",
       "      <td>242614.000000</td>\n",
       "      <td>1.000000</td>\n",
       "      <td>1.000000</td>\n",
       "      <td>24.000000</td>\n",
       "      <td>3.131049e+06</td>\n",
       "    </tr>\n",
       "  </tbody>\n",
       "</table>\n",
       "</div>"
      ],
      "text/plain": [
       "             Brand        model         year    ownership      km_driven  \\\n",
       "count  5239.000000  5239.000000  5239.000000  5239.000000    5239.000000   \n",
       "mean      9.594006    48.456957     8.908761     0.232678   38616.262646   \n",
       "std       3.590468    30.407447     2.466824     0.464338   25136.663699   \n",
       "min       0.000000     0.000000     0.000000     0.000000     202.000000   \n",
       "25%       6.000000    23.000000     8.000000     0.000000   18227.500000   \n",
       "50%      11.000000    43.000000     9.000000     0.000000   34469.000000   \n",
       "75%      11.000000    79.000000    11.000000     0.000000   54771.500000   \n",
       "max      18.000000   105.000000    13.000000     2.000000  242614.000000   \n",
       "\n",
       "              fuel  transmission     location         price  \n",
       "count  5239.000000   5239.000000  5239.000000  5.239000e+03  \n",
       "mean      0.859897      0.832220     8.928421  6.835562e+05  \n",
       "std       0.347127      0.373707     5.877620  3.738273e+05  \n",
       "min       0.000000      0.000000     0.000000  1.390990e+05  \n",
       "25%       1.000000      1.000000     2.000000  4.341990e+05  \n",
       "50%       1.000000      1.000000    10.000000  5.767990e+05  \n",
       "75%       1.000000      1.000000    14.000000  8.100490e+05  \n",
       "max       1.000000      1.000000    24.000000  3.131049e+06  "
      ]
     },
     "execution_count": 172,
     "metadata": {},
     "output_type": "execute_result"
    }
   ],
   "source": [
    "df.describe()"
   ]
  },
  {
   "cell_type": "markdown",
   "id": "dbe2275c",
   "metadata": {},
   "source": [
    "we can see some outliers are present from the difference between 75th quartile and max value"
   ]
  },
  {
   "cell_type": "code",
   "execution_count": 173,
   "id": "1204d821",
   "metadata": {},
   "outputs": [
    {
     "data": {
      "image/png": "[encoded data removed]",
      "text/plain": [
       "<Figure size 2160x1296 with 2 Axes>"
      ]
     },
     "metadata": {
      "needs_background": "light"
     },
     "output_type": "display_data"
    }
   ],
   "source": [
    "plt.figure(figsize=(30,18))\n",
    "sns.heatmap(df.corr(),linewidth=0.2,annot=True,fmt=\"0.2f\")\n",
    "plt.show()"
   ]
  },
  {
   "cell_type": "code",
   "execution_count": 174,
   "id": "f984d5f3",
   "metadata": {},
   "outputs": [
    {
     "data": {
      "text/plain": [
       "transmission   -0.192311\n",
       "fuel           -0.164839\n",
       "km_driven      -0.110907\n",
       "ownership      -0.043865\n",
       "location       -0.043600\n",
       "Brand          -0.018250\n",
       "model           0.068028\n",
       "year            0.468412\n",
       "price           1.000000\n",
       "Name: price, dtype: float64"
      ]
     },
     "execution_count": 174,
     "metadata": {},
     "output_type": "execute_result"
    }
   ],
   "source": [
    "df.corr()[\"price\"].sort_values()"
   ]
  },
  {
   "cell_type": "markdown",
   "id": "60c80143",
   "metadata": {},
   "source": [
    "ownership, locatio and brand has the least correlation"
   ]
  },
  {
   "cell_type": "markdown",
   "id": "075fbd45",
   "metadata": {},
   "source": [
    "# distribution plot"
   ]
  },
  {
   "cell_type": "code",
   "execution_count": 179,
   "id": "c960bed8",
   "metadata": {},
   "outputs": [
    {
     "data": {
      "image/png": "[encoded data removed]",
      "text/plain": [
       "<Figure size 2520x3240 with 8 Axes>"
      ]
     },
     "metadata": {
      "needs_background": "light"
     },
     "output_type": "display_data"
    }
   ],
   "source": [
    "plt.figure(figsize=(35,45))\n",
    "count =1\n",
    "for column in df:\n",
    "    if count <= 8:\n",
    "        ax = plt.subplot(3,3,count)\n",
    "        sns.distplot(df[column])\n",
    "        plt.xlabel(column) \n",
    "    count+=1\n",
    "plt.show()"
   ]
  },
  {
   "cell_type": "markdown",
   "id": "493158aa",
   "metadata": {},
   "source": [
    "skewness is present and the data are not normally distributed"
   ]
  },
  {
   "cell_type": "markdown",
   "id": "9dae0b9a",
   "metadata": {},
   "source": [
    "## Boxplot"
   ]
  },
  {
   "cell_type": "code",
   "execution_count": 180,
   "id": "848cb5be",
   "metadata": {},
   "outputs": [
    {
     "data": {
      "text/plain": [
       "Brand              AxesSubplot(0.125,0.657941;0.227941x0.222059)\n",
       "model           AxesSubplot(0.398529,0.657941;0.227941x0.222059)\n",
       "year            AxesSubplot(0.672059,0.657941;0.227941x0.222059)\n",
       "ownership          AxesSubplot(0.125,0.391471;0.227941x0.222059)\n",
       "km_driven       AxesSubplot(0.398529,0.391471;0.227941x0.222059)\n",
       "fuel            AxesSubplot(0.672059,0.391471;0.227941x0.222059)\n",
       "transmission          AxesSubplot(0.125,0.125;0.227941x0.222059)\n",
       "location           AxesSubplot(0.398529,0.125;0.227941x0.222059)\n",
       "price              AxesSubplot(0.672059,0.125;0.227941x0.222059)\n",
       "dtype: object"
      ]
     },
     "execution_count": 180,
     "metadata": {},
     "output_type": "execute_result"
    },
    {
     "data": {
      "image/png": "[encoded data removed]",
      "text/plain": [
       "<Figure size 1440x1296 with 9 Axes>"
      ]
     },
     "metadata": {
      "needs_background": "light"
     },
     "output_type": "display_data"
    }
   ],
   "source": [
    "df.plot(kind='box',subplots=True,layout=(3,3),figsize=(20,18))"
   ]
  },
  {
   "cell_type": "markdown",
   "id": "b22de0f1",
   "metadata": {},
   "source": [
    "outliers are present, which will lead to inaccuracy"
   ]
  },
  {
   "cell_type": "markdown",
   "id": "528d81c7",
   "metadata": {},
   "source": [
    "# Zscore method for removal of outliers"
   ]
  },
  {
   "cell_type": "code",
   "execution_count": 181,
   "id": "6921c7ca",
   "metadata": {},
   "outputs": [],
   "source": [
    "from scipy.stats import zscore\n",
    "z=np.abs(zscore(df))"
   ]
  },
  {
   "cell_type": "code",
   "execution_count": 182,
   "id": "766473e5",
   "metadata": {},
   "outputs": [
    {
     "data": {
      "text/plain": [
       "(array([   3,   12,   48,   50,   59,   69,   87,   94,   95,  110,  129,\n",
       "         155,  200,  203,  232,  250,  347,  363,  370,  395,  398,  405,\n",
       "         448,  523,  567,  569,  604,  605,  617,  848,  863,  864,  872,\n",
       "         873,  874,  877,  915,  969,  971, 1014, 1084, 1095, 1107, 1125,\n",
       "        1184, 1249, 1273, 1333, 1334, 1335, 1337, 1345, 1351, 1357, 1371,\n",
       "        1375, 1391, 1426, 1444, 1448, 1546, 1562, 1625, 1626, 1630, 1639,\n",
       "        1640, 1682, 1685, 1693, 1709, 1730, 1731, 1743, 1748, 1764, 1772,\n",
       "        1811, 1827, 1839, 1852, 1943, 1985, 2023, 2024, 2060, 2069, 2079,\n",
       "        2087, 2092, 2105, 2143, 2149, 2186, 2250, 2258, 2279, 2304, 2324,\n",
       "        2332, 2384, 2385, 2393, 2403, 2452, 2514, 2522, 2563, 2569, 2589,\n",
       "        2592, 2601, 2671, 2716, 2722, 2725, 2742, 2766, 2824, 2826, 2867,\n",
       "        2867, 2885, 2973, 3172, 3176, 3199, 3202, 3217, 3230, 3235, 3239,\n",
       "        3245, 3253, 3264, 3267, 3280, 3305, 3306, 3314, 3324, 3373, 3435,\n",
       "        3443, 3484, 3490, 3510, 3513, 3522, 3592, 3637, 3643, 3646, 3663,\n",
       "        3687, 3745, 3747, 3788, 3788, 3806, 3894, 4093, 4097, 4120, 4123,\n",
       "        4138, 4151, 4156, 4160, 4166, 4168, 4207, 4212, 4218, 4221, 4225,\n",
       "        4225, 4328, 4370, 4373, 4395, 4442, 4466, 4476, 4501, 4529, 4563,\n",
       "        4595, 4665, 4710, 4722, 4725, 4725, 4738, 4738, 4765, 4778, 4790,\n",
       "        4793, 4811, 4822, 4823, 4829, 4830, 4836, 4838, 4856, 4866, 4870,\n",
       "        4878, 4883, 4917, 4918, 4936, 4946, 4955, 5007, 5019, 5033, 5125,\n",
       "        5170, 5210, 5213, 5225, 5227], dtype=int64),\n",
       " array([3, 8, 2, 2, 2, 3, 2, 3, 8, 2, 3, 2, 3, 4, 3, 8, 3, 8, 8, 8, 3, 8,\n",
       "        8, 8, 8, 3, 3, 8, 3, 2, 2, 2, 8, 2, 2, 2, 4, 2, 2, 3, 3, 3, 3, 8,\n",
       "        8, 8, 8, 8, 8, 8, 8, 3, 8, 8, 2, 8, 3, 3, 3, 3, 3, 3, 3, 2, 8, 8,\n",
       "        3, 8, 8, 3, 8, 3, 3, 3, 3, 3, 3, 4, 3, 3, 8, 3, 3, 8, 3, 8, 3, 3,\n",
       "        3, 3, 8, 8, 3, 3, 3, 8, 4, 3, 8, 8, 2, 3, 2, 3, 2, 8, 8, 4, 8, 8,\n",
       "        3, 3, 3, 2, 3, 8, 3, 8, 3, 8, 2, 3, 8, 3, 8, 2, 2, 2, 2, 2, 2, 4,\n",
       "        8, 8, 2, 3, 8, 2, 3, 2, 3, 2, 8, 8, 4, 8, 8, 3, 3, 3, 2, 3, 8, 3,\n",
       "        8, 3, 8, 2, 3, 8, 3, 8, 2, 2, 2, 2, 2, 2, 4, 4, 3, 3, 3, 3, 8, 3,\n",
       "        8, 4, 3, 4, 3, 3, 4, 4, 3, 8, 8, 3, 4, 8, 3, 3, 4, 3, 4, 3, 8, 3,\n",
       "        8, 4, 2, 3, 8, 3, 8, 8, 3, 3, 3, 8, 3, 3, 3, 3, 3, 3, 3, 3, 8, 3,\n",
       "        3, 8, 3, 3, 4], dtype=int64))"
      ]
     },
     "execution_count": 182,
     "metadata": {},
     "output_type": "execute_result"
    }
   ],
   "source": [
    "np.where(z>3)"
   ]
  },
  {
   "cell_type": "code",
   "execution_count": 194,
   "id": "e03f0cf0",
   "metadata": {},
   "outputs": [],
   "source": [
    "dfnew=df[(z<3).all(axis=1)]"
   ]
  },
  {
   "cell_type": "code",
   "execution_count": 184,
   "id": "64bea4b0",
   "metadata": {},
   "outputs": [
    {
     "data": {
      "text/plain": [
       "(5019, 9)"
      ]
     },
     "execution_count": 184,
     "metadata": {},
     "output_type": "execute_result"
    }
   ],
   "source": [
    "dfnew.shape"
   ]
  },
  {
   "cell_type": "markdown",
   "id": "7e0fa16d",
   "metadata": {},
   "source": [
    "data loss=(5242-5019)/5242*100=4%"
   ]
  },
  {
   "cell_type": "markdown",
   "id": "e9cf2f99",
   "metadata": {},
   "source": [
    "# skewness removal"
   ]
  },
  {
   "cell_type": "code",
   "execution_count": 185,
   "id": "584b1d9e",
   "metadata": {},
   "outputs": [
    {
     "data": {
      "text/plain": [
       "fuel           -2.106171\n",
       "transmission   -1.786504\n",
       "year           -0.638418\n",
       "location       -0.078563\n",
       "Brand           0.186312\n",
       "model           0.329253\n",
       "km_driven       0.571603\n",
       "price           1.344007\n",
       "ownership       1.504815\n",
       "dtype: float64"
      ]
     },
     "execution_count": 185,
     "metadata": {},
     "output_type": "execute_result"
    }
   ],
   "source": [
    "dfnew.skew().sort_values()"
   ]
  },
  {
   "cell_type": "code",
   "execution_count": 186,
   "id": "06668825",
   "metadata": {},
   "outputs": [],
   "source": [
    "list=[\"fuel\",\"transmission\",\"ownership\"]"
   ]
  },
  {
   "cell_type": "code",
   "execution_count": 195,
   "id": "75c4a81a",
   "metadata": {},
   "outputs": [],
   "source": [
    "for i in list:\n",
    "    if dfnew.skew().loc[i]>0.5:\n",
    "        dfnew[i]=np.log1p(dfnew[i])"
   ]
  },
  {
   "cell_type": "code",
   "execution_count": 196,
   "id": "3198c7fa",
   "metadata": {},
   "outputs": [
    {
     "data": {
      "text/plain": [
       "fuel           -2.106171\n",
       "transmission   -1.786504\n",
       "year           -0.638418\n",
       "location       -0.078563\n",
       "Brand           0.186312\n",
       "model           0.329253\n",
       "km_driven       0.571603\n",
       "price           1.344007\n",
       "ownership       1.504815\n",
       "dtype: float64"
      ]
     },
     "execution_count": 196,
     "metadata": {},
     "output_type": "execute_result"
    }
   ],
   "source": [
    "dfnew.skew().sort_values()"
   ]
  },
  {
   "cell_type": "markdown",
   "id": "eaca5e87",
   "metadata": {},
   "source": [
    "# Splitting of data"
   ]
  },
  {
   "cell_type": "code",
   "execution_count": 197,
   "id": "48d47738",
   "metadata": {},
   "outputs": [],
   "source": [
    "x=dfnew.drop([\"price\"],axis=1)\n",
    "y=dfnew[\"price\"]"
   ]
  },
  {
   "cell_type": "markdown",
   "id": "cd88bf60",
   "metadata": {},
   "source": [
    "# application of ML algorithms"
   ]
  },
  {
   "cell_type": "code",
   "execution_count": 193,
   "id": "3fc54df9",
   "metadata": {},
   "outputs": [],
   "source": [
    "from sklearn.model_selection import train_test_split\n",
    "from sklearn.metrics import mean_squared_error,mean_absolute_error,r2_score\n",
    "from sklearn.model_selection import cross_val_score"
   ]
  },
  {
   "cell_type": "code",
   "execution_count": 207,
   "id": "54fdd828",
   "metadata": {},
   "outputs": [],
   "source": [
    "def model_selection(instance):\n",
    "    maxacc=0\n",
    "    rs=0\n",
    "    for i in range(0,100):\n",
    "        x_train,x_test,y_train,y_test=train_test_split(x,y,random_state=i,test_size=0.30)\n",
    "        instance.fit(x_train,y_train)\n",
    "        pred_train=instance.predict(x_train)\n",
    "        pred_test=instance.predict(x_test)\n",
    "        if((r2_score(y_test,pred_test))>maxacc):\n",
    "            maxacc=r2_score(y_test,pred_test)\n",
    "            rs=i\n",
    "        print(f\"at random state {i}, training accuracy is {r2_score(y_train,pred_train)}\")\n",
    "        print(f\"at random state {i}, testing accuracy is {r2_score(y_test,pred_test)}\")\n",
    "        print(\"\\n\")\n",
    "    print(\"Max accuracy at random state\",rs, \"=\",maxacc)"
   ]
  },
  {
   "cell_type": "code",
   "execution_count": null,
   "id": "e3e766fa",
   "metadata": {},
   "outputs": [],
   "source": []
  },
  {
   "cell_type": "markdown",
   "id": "bcaac49a",
   "metadata": {},
   "source": [
    "## LinearRegression"
   ]
  },
  {
   "cell_type": "code",
   "execution_count": 208,
   "id": "02597f5e",
   "metadata": {},
   "outputs": [
    {
     "name": "stdout",
     "output_type": "stream",
     "text": [
      "at random state 0, training accuracy is 0.30593118561881294\n",
      "at random state 0, testing accuracy is 0.32989968072163933\n",
      "\n",
      "\n",
      "at random state 1, training accuracy is 0.3163620134276228\n",
      "at random state 1, testing accuracy is 0.30202858783008313\n",
      "\n",
      "\n",
      "at random state 2, training accuracy is 0.3216052872509678\n",
      "at random state 2, testing accuracy is 0.29266604113205597\n",
      "\n",
      "\n",
      "at random state 3, training accuracy is 0.3115150850875441\n",
      "at random state 3, testing accuracy is 0.3166564294003301\n",
      "\n",
      "\n",
      "at random state 4, training accuracy is 0.3157707906383921\n",
      "at random state 4, testing accuracy is 0.30535468993285053\n",
      "\n",
      "\n",
      "at random state 5, training accuracy is 0.3156149837375575\n",
      "at random state 5, testing accuracy is 0.30619160607731366\n",
      "\n",
      "\n",
      "at random state 6, training accuracy is 0.3165556824598529\n",
      "at random state 6, testing accuracy is 0.303084418549028\n",
      "\n",
      "\n",
      "at random state 7, training accuracy is 0.30745443764157576\n",
      "at random state 7, testing accuracy is 0.32322852893599274\n",
      "\n",
      "\n",
      "at random state 8, training accuracy is 0.3096445722572203\n",
      "at random state 8, testing accuracy is 0.3175872252557681\n",
      "\n",
      "\n",
      "at random state 9, training accuracy is 0.32818616198977424\n",
      "at random state 9, testing accuracy is 0.2759742293656994\n",
      "\n",
      "\n",
      "at random state 10, training accuracy is 0.3161322426303895\n",
      "at random state 10, testing accuracy is 0.30589451279609303\n",
      "\n",
      "\n",
      "at random state 11, training accuracy is 0.3167936788748168\n",
      "at random state 11, testing accuracy is 0.3034451305793294\n",
      "\n",
      "\n",
      "at random state 12, training accuracy is 0.32192378309415715\n",
      "at random state 12, testing accuracy is 0.2899684993582514\n",
      "\n",
      "\n",
      "at random state 13, training accuracy is 0.31911034946961836\n",
      "at random state 13, testing accuracy is 0.29837372443080634\n",
      "\n",
      "\n",
      "at random state 14, training accuracy is 0.314756481720632\n",
      "at random state 14, testing accuracy is 0.3084457358963759\n",
      "\n",
      "\n",
      "at random state 15, training accuracy is 0.3218570202170574\n",
      "at random state 15, testing accuracy is 0.28788994766510057\n",
      "\n",
      "\n",
      "at random state 16, training accuracy is 0.31193143116755273\n",
      "at random state 16, testing accuracy is 0.31565280913281657\n",
      "\n",
      "\n",
      "at random state 17, training accuracy is 0.30284673144632646\n",
      "at random state 17, testing accuracy is 0.3308017940384482\n",
      "\n",
      "\n",
      "at random state 18, training accuracy is 0.3125471263068713\n",
      "at random state 18, testing accuracy is 0.31314256258729223\n",
      "\n",
      "\n",
      "at random state 19, training accuracy is 0.3188828889496088\n",
      "at random state 19, testing accuracy is 0.29771869834359566\n",
      "\n",
      "\n",
      "at random state 20, training accuracy is 0.3182905832407098\n",
      "at random state 20, testing accuracy is 0.3005581400851245\n",
      "\n",
      "\n",
      "at random state 21, training accuracy is 0.30843394496989873\n",
      "at random state 21, testing accuracy is 0.3233229462265049\n",
      "\n",
      "\n",
      "at random state 22, training accuracy is 0.3106819127605476\n",
      "at random state 22, testing accuracy is 0.3179104996473564\n",
      "\n",
      "\n",
      "at random state 23, training accuracy is 0.31331296006424125\n",
      "at random state 23, testing accuracy is 0.3114647076761654\n",
      "\n",
      "\n",
      "at random state 24, training accuracy is 0.303712234668326\n",
      "at random state 24, testing accuracy is 0.33540346031694757\n",
      "\n",
      "\n",
      "at random state 25, training accuracy is 0.30714633871299923\n",
      "at random state 25, testing accuracy is 0.3246651943694512\n",
      "\n",
      "\n",
      "at random state 26, training accuracy is 0.3081408083074688\n",
      "at random state 26, testing accuracy is 0.323851137395221\n",
      "\n",
      "\n",
      "at random state 27, training accuracy is 0.3142563631430474\n",
      "at random state 27, testing accuracy is 0.3099323096444837\n",
      "\n",
      "\n",
      "at random state 28, training accuracy is 0.3068691276487925\n",
      "at random state 28, testing accuracy is 0.3240410086179438\n",
      "\n",
      "\n",
      "at random state 29, training accuracy is 0.31226845050566365\n",
      "at random state 29, testing accuracy is 0.3132581847774397\n",
      "\n",
      "\n",
      "at random state 30, training accuracy is 0.31553717499964784\n",
      "at random state 30, testing accuracy is 0.30179153372588463\n",
      "\n",
      "\n",
      "at random state 31, training accuracy is 0.3160548448137349\n",
      "at random state 31, testing accuracy is 0.30478636337514853\n",
      "\n",
      "\n",
      "at random state 32, training accuracy is 0.32151659810020583\n",
      "at random state 32, testing accuracy is 0.2873993945796812\n",
      "\n",
      "\n",
      "at random state 33, training accuracy is 0.3180559616975467\n",
      "at random state 33, testing accuracy is 0.3031196402599824\n",
      "\n",
      "\n",
      "at random state 34, training accuracy is 0.30980376311745317\n",
      "at random state 34, testing accuracy is 0.320135774936961\n",
      "\n",
      "\n",
      "at random state 35, training accuracy is 0.31300536739920326\n",
      "at random state 35, testing accuracy is 0.31303314989309505\n",
      "\n",
      "\n",
      "at random state 36, training accuracy is 0.31327610231984326\n",
      "at random state 36, testing accuracy is 0.31277042094209684\n",
      "\n",
      "\n",
      "at random state 37, training accuracy is 0.3125585445968573\n",
      "at random state 37, testing accuracy is 0.30989918852779696\n",
      "\n",
      "\n",
      "at random state 38, training accuracy is 0.3256166951174956\n",
      "at random state 38, testing accuracy is 0.2769765127265357\n",
      "\n",
      "\n",
      "at random state 39, training accuracy is 0.31687324748349266\n",
      "at random state 39, testing accuracy is 0.3037387815081132\n",
      "\n",
      "\n",
      "at random state 40, training accuracy is 0.30455104285053547\n",
      "at random state 40, testing accuracy is 0.3262012223792097\n",
      "\n",
      "\n",
      "at random state 41, training accuracy is 0.31264621271542214\n",
      "at random state 41, testing accuracy is 0.31305943791064594\n",
      "\n",
      "\n",
      "at random state 42, training accuracy is 0.3108119667579602\n",
      "at random state 42, testing accuracy is 0.3179055808180632\n",
      "\n",
      "\n",
      "at random state 43, training accuracy is 0.31940232254494527\n",
      "at random state 43, testing accuracy is 0.2967235022172854\n",
      "\n",
      "\n",
      "at random state 44, training accuracy is 0.3116393529020707\n",
      "at random state 44, testing accuracy is 0.31614785458187933\n",
      "\n",
      "\n",
      "at random state 45, training accuracy is 0.3136450377700608\n",
      "at random state 45, testing accuracy is 0.31138650843213256\n",
      "\n",
      "\n",
      "at random state 46, training accuracy is 0.31928814660127036\n",
      "at random state 46, testing accuracy is 0.29815597498044455\n",
      "\n",
      "\n",
      "at random state 47, training accuracy is 0.3071936314390181\n",
      "at random state 47, testing accuracy is 0.3263262503297458\n",
      "\n",
      "\n",
      "at random state 48, training accuracy is 0.31031849033848846\n",
      "at random state 48, testing accuracy is 0.3186169845939486\n",
      "\n",
      "\n",
      "at random state 49, training accuracy is 0.3267627462598831\n",
      "at random state 49, testing accuracy is 0.28176185972336876\n",
      "\n",
      "\n",
      "at random state 50, training accuracy is 0.31280485565678573\n",
      "at random state 50, testing accuracy is 0.3131427331987423\n",
      "\n",
      "\n",
      "at random state 51, training accuracy is 0.299534996895472\n",
      "at random state 51, testing accuracy is 0.3454639440392676\n",
      "\n",
      "\n",
      "at random state 52, training accuracy is 0.319953794800363\n",
      "at random state 52, testing accuracy is 0.298415905461192\n",
      "\n",
      "\n",
      "at random state 53, training accuracy is 0.30722473941280914\n",
      "at random state 53, testing accuracy is 0.32534439774837665\n",
      "\n",
      "\n",
      "at random state 54, training accuracy is 0.30135570084303454\n",
      "at random state 54, testing accuracy is 0.3323767593514495\n",
      "\n",
      "\n",
      "at random state 55, training accuracy is 0.31942451008240147\n",
      "at random state 55, testing accuracy is 0.29893617394558203\n",
      "\n",
      "\n",
      "at random state 56, training accuracy is 0.3140569246812712\n",
      "at random state 56, testing accuracy is 0.3097000331374907\n",
      "\n",
      "\n",
      "at random state 57, training accuracy is 0.31093528083739075\n",
      "at random state 57, testing accuracy is 0.31226806614599845\n",
      "\n",
      "\n",
      "at random state 58, training accuracy is 0.336796718663665\n",
      "at random state 58, testing accuracy is 0.25373657042653497\n",
      "\n",
      "\n",
      "at random state 59, training accuracy is 0.32243814604519117\n",
      "at random state 59, testing accuracy is 0.2913481438728207\n",
      "\n",
      "\n",
      "at random state 60, training accuracy is 0.3076907091629687\n",
      "at random state 60, testing accuracy is 0.3228455232441926\n",
      "\n",
      "\n",
      "at random state 61, training accuracy is 0.3093989924226327\n",
      "at random state 61, testing accuracy is 0.3201654577971138\n",
      "\n",
      "\n",
      "at random state 62, training accuracy is 0.30744876473535887\n",
      "at random state 62, testing accuracy is 0.32557105006633\n",
      "\n",
      "\n",
      "at random state 63, training accuracy is 0.31767005668414316\n",
      "at random state 63, testing accuracy is 0.299920141629199\n",
      "\n",
      "\n",
      "at random state 64, training accuracy is 0.304655848772441\n",
      "at random state 64, testing accuracy is 0.33145271928940423\n",
      "\n",
      "\n",
      "at random state 65, training accuracy is 0.3126516820887809\n",
      "at random state 65, testing accuracy is 0.3146908910236672\n",
      "\n",
      "\n",
      "at random state 66, training accuracy is 0.31730103135139653\n",
      "at random state 66, testing accuracy is 0.301097162975164\n",
      "\n",
      "\n",
      "at random state 67, training accuracy is 0.3145760112249435\n",
      "at random state 67, testing accuracy is 0.30880149379332344\n",
      "\n",
      "\n",
      "at random state 68, training accuracy is 0.3223658025748527\n",
      "at random state 68, testing accuracy is 0.2911430381395188\n",
      "\n",
      "\n",
      "at random state 69, training accuracy is 0.30400025940662945\n",
      "at random state 69, testing accuracy is 0.331370186289042\n",
      "\n",
      "\n",
      "at random state 70, training accuracy is 0.31288230311324994\n",
      "at random state 70, testing accuracy is 0.31155406082145376\n",
      "\n",
      "\n",
      "at random state 71, training accuracy is 0.31566081929827094\n",
      "at random state 71, testing accuracy is 0.3071374706954767\n",
      "\n",
      "\n",
      "at random state 72, training accuracy is 0.3117094006098211\n",
      "at random state 72, testing accuracy is 0.3136477163296374\n",
      "\n",
      "\n",
      "at random state 73, training accuracy is 0.323787538584258\n",
      "at random state 73, testing accuracy is 0.28794251191261633\n",
      "\n",
      "\n",
      "at random state 74, training accuracy is 0.31957413356618325\n",
      "at random state 74, testing accuracy is 0.29635110940084053\n",
      "\n",
      "\n",
      "at random state 75, training accuracy is 0.32210061525034994\n",
      "at random state 75, testing accuracy is 0.28795402065405284\n",
      "\n",
      "\n"
     ]
    },
    {
     "name": "stdout",
     "output_type": "stream",
     "text": [
      "at random state 76, training accuracy is 0.3075433310987459\n",
      "at random state 76, testing accuracy is 0.3259677536552229\n",
      "\n",
      "\n",
      "at random state 77, training accuracy is 0.33246143996479915\n",
      "at random state 77, testing accuracy is 0.26751527453281754\n",
      "\n",
      "\n",
      "at random state 78, training accuracy is 0.31945594130365085\n",
      "at random state 78, testing accuracy is 0.29872666528304936\n",
      "\n",
      "\n",
      "at random state 79, training accuracy is 0.3109399709953765\n",
      "at random state 79, testing accuracy is 0.31677157377857146\n",
      "\n",
      "\n",
      "at random state 80, training accuracy is 0.314036866742192\n",
      "at random state 80, testing accuracy is 0.3108423345959639\n",
      "\n",
      "\n",
      "at random state 81, training accuracy is 0.31203916413903166\n",
      "at random state 81, testing accuracy is 0.3140371239815186\n",
      "\n",
      "\n",
      "at random state 82, training accuracy is 0.32010742081302523\n",
      "at random state 82, testing accuracy is 0.2960837116706444\n",
      "\n",
      "\n",
      "at random state 83, training accuracy is 0.31534214605338073\n",
      "at random state 83, testing accuracy is 0.3073414046779659\n",
      "\n",
      "\n",
      "at random state 84, training accuracy is 0.30546550730709343\n",
      "at random state 84, testing accuracy is 0.3289083455965537\n",
      "\n",
      "\n",
      "at random state 85, training accuracy is 0.31451990752888226\n",
      "at random state 85, testing accuracy is 0.3096745341446069\n",
      "\n",
      "\n",
      "at random state 86, training accuracy is 0.307210072633437\n",
      "at random state 86, testing accuracy is 0.3257087633350494\n",
      "\n",
      "\n",
      "at random state 87, training accuracy is 0.3101539318897285\n",
      "at random state 87, testing accuracy is 0.3182444613866505\n",
      "\n",
      "\n",
      "at random state 88, training accuracy is 0.32519862021580725\n",
      "at random state 88, testing accuracy is 0.2846779356371313\n",
      "\n",
      "\n",
      "at random state 89, training accuracy is 0.31598024407919445\n",
      "at random state 89, testing accuracy is 0.3071390227813746\n",
      "\n",
      "\n",
      "at random state 90, training accuracy is 0.31918593290099606\n",
      "at random state 90, testing accuracy is 0.2984613367550081\n",
      "\n",
      "\n",
      "at random state 91, training accuracy is 0.32739954000075744\n",
      "at random state 91, testing accuracy is 0.27710119673314704\n",
      "\n",
      "\n",
      "at random state 92, training accuracy is 0.3156030897345301\n",
      "at random state 92, testing accuracy is 0.30398170356765497\n",
      "\n",
      "\n",
      "at random state 93, training accuracy is 0.3160147622572014\n",
      "at random state 93, testing accuracy is 0.3057816336915621\n",
      "\n",
      "\n",
      "at random state 94, training accuracy is 0.3115671599794253\n",
      "at random state 94, testing accuracy is 0.3133526998201951\n",
      "\n",
      "\n",
      "at random state 95, training accuracy is 0.32217351171608766\n",
      "at random state 95, testing accuracy is 0.2886237410973119\n",
      "\n",
      "\n",
      "at random state 96, training accuracy is 0.3151458147534423\n",
      "at random state 96, testing accuracy is 0.3065731946221678\n",
      "\n",
      "\n",
      "at random state 97, training accuracy is 0.3128143935183343\n",
      "at random state 97, testing accuracy is 0.3123295456018732\n",
      "\n",
      "\n",
      "at random state 98, training accuracy is 0.3105685205162848\n",
      "at random state 98, testing accuracy is 0.3173026778953366\n",
      "\n",
      "\n",
      "at random state 99, training accuracy is 0.3268478121283702\n",
      "at random state 99, testing accuracy is 0.2801213956401264\n",
      "\n",
      "\n",
      "Max accuracy at random state 51 = 0.3454639440392676\n"
     ]
    }
   ],
   "source": [
    "from sklearn.linear_model import LinearRegression\n",
    "lm=LinearRegression()\n",
    "model_selection(lm)"
   ]
  },
  {
   "cell_type": "markdown",
   "id": "264a0f34",
   "metadata": {},
   "source": [
    "CV score"
   ]
  },
  {
   "cell_type": "code",
   "execution_count": 209,
   "id": "0541e0ed",
   "metadata": {},
   "outputs": [
    {
     "name": "stdout",
     "output_type": "stream",
     "text": [
      "[0.355912   0.35127783 0.16652435 0.17670199]\n",
      "0.26260404248407937\n",
      "0.09107673255495904\n"
     ]
    }
   ],
   "source": [
    "score=cross_val_score(lm,x,y,cv=4)\n",
    "print(score)\n",
    "print(score.mean())\n",
    "print(score.std())"
   ]
  },
  {
   "cell_type": "markdown",
   "id": "742017a9",
   "metadata": {},
   "source": [
    "## Random forest regressor"
   ]
  },
  {
   "cell_type": "code",
   "execution_count": 210,
   "id": "0bce7d0c",
   "metadata": {},
   "outputs": [
    {
     "name": "stdout",
     "output_type": "stream",
     "text": [
      "at random state 0, training accuracy is 0.989245646563632\n",
      "at random state 0, testing accuracy is 0.898022740627378\n",
      "\n",
      "\n",
      "at random state 1, training accuracy is 0.9882427318147191\n",
      "at random state 1, testing accuracy is 0.9160825717487796\n",
      "\n",
      "\n",
      "at random state 2, training accuracy is 0.9880562735347482\n",
      "at random state 2, testing accuracy is 0.8980430575255114\n",
      "\n",
      "\n",
      "at random state 3, training accuracy is 0.9879920100565082\n",
      "at random state 3, testing accuracy is 0.9185569358983929\n",
      "\n",
      "\n",
      "at random state 4, training accuracy is 0.988924002879632\n",
      "at random state 4, testing accuracy is 0.8971966774062108\n",
      "\n",
      "\n",
      "at random state 5, training accuracy is 0.9874591353079479\n",
      "at random state 5, testing accuracy is 0.923305334938551\n",
      "\n",
      "\n",
      "at random state 6, training accuracy is 0.9881615080662659\n",
      "at random state 6, testing accuracy is 0.9155571790268153\n",
      "\n",
      "\n",
      "at random state 7, training accuracy is 0.9887939667486131\n",
      "at random state 7, testing accuracy is 0.9167509372939578\n",
      "\n",
      "\n",
      "at random state 8, training accuracy is 0.9877561382767414\n",
      "at random state 8, testing accuracy is 0.928073118688435\n",
      "\n",
      "\n",
      "at random state 9, training accuracy is 0.9884851643860407\n",
      "at random state 9, testing accuracy is 0.9121317853558031\n",
      "\n",
      "\n",
      "at random state 10, training accuracy is 0.9885909249294091\n",
      "at random state 10, testing accuracy is 0.9182658509212658\n",
      "\n",
      "\n",
      "at random state 11, training accuracy is 0.9884597550493391\n",
      "at random state 11, testing accuracy is 0.9046489533842306\n",
      "\n",
      "\n",
      "at random state 12, training accuracy is 0.9876542014166526\n",
      "at random state 12, testing accuracy is 0.9220544102930731\n",
      "\n",
      "\n",
      "at random state 13, training accuracy is 0.9886913159445834\n",
      "at random state 13, testing accuracy is 0.9235079931834299\n",
      "\n",
      "\n",
      "at random state 14, training accuracy is 0.9872753975091395\n",
      "at random state 14, testing accuracy is 0.9186457401581237\n",
      "\n",
      "\n",
      "at random state 15, training accuracy is 0.9885233934195157\n",
      "at random state 15, testing accuracy is 0.9160337052965037\n",
      "\n",
      "\n",
      "at random state 16, training accuracy is 0.9872434616932707\n",
      "at random state 16, testing accuracy is 0.9211676412772032\n",
      "\n",
      "\n",
      "at random state 17, training accuracy is 0.9877319950472835\n",
      "at random state 17, testing accuracy is 0.9184259227577539\n",
      "\n",
      "\n",
      "at random state 18, training accuracy is 0.9874996285465377\n",
      "at random state 18, testing accuracy is 0.9163098476431761\n",
      "\n",
      "\n",
      "at random state 19, training accuracy is 0.9872771094111319\n",
      "at random state 19, testing accuracy is 0.9070818070525958\n",
      "\n",
      "\n",
      "at random state 20, training accuracy is 0.9874734282969191\n",
      "at random state 20, testing accuracy is 0.9140073224995806\n",
      "\n",
      "\n",
      "at random state 21, training accuracy is 0.9889234304629462\n",
      "at random state 21, testing accuracy is 0.9157822788716247\n",
      "\n",
      "\n",
      "at random state 22, training accuracy is 0.9874926763369272\n",
      "at random state 22, testing accuracy is 0.9164030159207331\n",
      "\n",
      "\n",
      "at random state 23, training accuracy is 0.9875487786118816\n",
      "at random state 23, testing accuracy is 0.8941691712919362\n",
      "\n",
      "\n",
      "at random state 24, training accuracy is 0.9873190522919352\n",
      "at random state 24, testing accuracy is 0.9245705128662518\n",
      "\n",
      "\n",
      "at random state 25, training accuracy is 0.987551086180088\n",
      "at random state 25, testing accuracy is 0.9190516467595294\n",
      "\n",
      "\n",
      "at random state 26, training accuracy is 0.988673436611251\n",
      "at random state 26, testing accuracy is 0.9120026675793601\n",
      "\n",
      "\n",
      "at random state 27, training accuracy is 0.9884811424284928\n",
      "at random state 27, testing accuracy is 0.9104969424501614\n",
      "\n",
      "\n",
      "at random state 28, training accuracy is 0.9874189153124723\n",
      "at random state 28, testing accuracy is 0.9144895724481856\n",
      "\n",
      "\n",
      "at random state 29, training accuracy is 0.9879309088006502\n",
      "at random state 29, testing accuracy is 0.9139538255559168\n",
      "\n",
      "\n",
      "at random state 30, training accuracy is 0.9883898413118329\n",
      "at random state 30, testing accuracy is 0.9243064336218524\n",
      "\n",
      "\n",
      "at random state 31, training accuracy is 0.9878192548027275\n",
      "at random state 31, testing accuracy is 0.9177758901232144\n",
      "\n",
      "\n",
      "at random state 32, training accuracy is 0.9890742119360797\n",
      "at random state 32, testing accuracy is 0.9042566919420525\n",
      "\n",
      "\n",
      "at random state 33, training accuracy is 0.9874105162168978\n",
      "at random state 33, testing accuracy is 0.9074603362981084\n",
      "\n",
      "\n",
      "at random state 34, training accuracy is 0.9883852353568733\n",
      "at random state 34, testing accuracy is 0.9232012586564636\n",
      "\n",
      "\n",
      "at random state 35, training accuracy is 0.9877681667299866\n",
      "at random state 35, testing accuracy is 0.9188813824905514\n",
      "\n",
      "\n",
      "at random state 36, training accuracy is 0.9877018977726884\n",
      "at random state 36, testing accuracy is 0.9200011839695995\n",
      "\n",
      "\n",
      "at random state 37, training accuracy is 0.9882016412793493\n",
      "at random state 37, testing accuracy is 0.9255346405764658\n",
      "\n",
      "\n",
      "at random state 38, training accuracy is 0.9888070892903589\n",
      "at random state 38, testing accuracy is 0.9116815205308546\n",
      "\n",
      "\n",
      "at random state 39, training accuracy is 0.989397068445318\n",
      "at random state 39, testing accuracy is 0.9090092115771818\n",
      "\n",
      "\n",
      "at random state 40, training accuracy is 0.9879726588882912\n",
      "at random state 40, testing accuracy is 0.9167837223431949\n",
      "\n",
      "\n",
      "at random state 41, training accuracy is 0.9885148147026102\n",
      "at random state 41, testing accuracy is 0.9245939826983175\n",
      "\n",
      "\n",
      "at random state 42, training accuracy is 0.9876095406373253\n",
      "at random state 42, testing accuracy is 0.9276379214168146\n",
      "\n",
      "\n",
      "at random state 43, training accuracy is 0.9884331171818992\n",
      "at random state 43, testing accuracy is 0.919779379897737\n",
      "\n",
      "\n",
      "at random state 44, training accuracy is 0.9875220869638006\n",
      "at random state 44, testing accuracy is 0.9179520882709191\n",
      "\n",
      "\n",
      "at random state 45, training accuracy is 0.9874590833829757\n",
      "at random state 45, testing accuracy is 0.9249098860132723\n",
      "\n",
      "\n",
      "at random state 46, training accuracy is 0.9879681531221236\n",
      "at random state 46, testing accuracy is 0.9168688673274906\n",
      "\n",
      "\n",
      "at random state 47, training accuracy is 0.9884633599236619\n",
      "at random state 47, testing accuracy is 0.9193365653001919\n",
      "\n",
      "\n",
      "at random state 48, training accuracy is 0.9879420231317212\n",
      "at random state 48, testing accuracy is 0.9195574377954685\n",
      "\n",
      "\n",
      "at random state 49, training accuracy is 0.987957096589698\n",
      "at random state 49, testing accuracy is 0.9151011485143025\n",
      "\n",
      "\n",
      "at random state 50, training accuracy is 0.988169169881375\n",
      "at random state 50, testing accuracy is 0.9191630937356619\n",
      "\n",
      "\n",
      "at random state 51, training accuracy is 0.9884235749282831\n",
      "at random state 51, testing accuracy is 0.9195305599752611\n",
      "\n",
      "\n",
      "at random state 52, training accuracy is 0.9874783671278609\n",
      "at random state 52, testing accuracy is 0.9125577757314024\n",
      "\n",
      "\n",
      "at random state 53, training accuracy is 0.9882440313905803\n",
      "at random state 53, testing accuracy is 0.912742026525932\n",
      "\n",
      "\n",
      "at random state 54, training accuracy is 0.9892617563241087\n",
      "at random state 54, testing accuracy is 0.9058219621230209\n",
      "\n",
      "\n",
      "at random state 55, training accuracy is 0.9878302822631029\n",
      "at random state 55, testing accuracy is 0.923620830938245\n",
      "\n",
      "\n",
      "at random state 56, training accuracy is 0.9874242376637548\n",
      "at random state 56, testing accuracy is 0.9110311287905887\n",
      "\n",
      "\n",
      "at random state 57, training accuracy is 0.9886200663254372\n",
      "at random state 57, testing accuracy is 0.9012877981638492\n",
      "\n",
      "\n",
      "at random state 58, training accuracy is 0.9883388378088793\n",
      "at random state 58, testing accuracy is 0.9076871292559744\n",
      "\n",
      "\n",
      "at random state 59, training accuracy is 0.9888387329999662\n",
      "at random state 59, testing accuracy is 0.9146358254495978\n",
      "\n",
      "\n",
      "at random state 60, training accuracy is 0.9864783489277954\n",
      "at random state 60, testing accuracy is 0.9317315023727575\n",
      "\n",
      "\n",
      "at random state 61, training accuracy is 0.9883773185826832\n",
      "at random state 61, testing accuracy is 0.9124665832713\n",
      "\n",
      "\n",
      "at random state 62, training accuracy is 0.9885358172080869\n",
      "at random state 62, testing accuracy is 0.9209193646753419\n",
      "\n",
      "\n",
      "at random state 63, training accuracy is 0.9886082947752587\n",
      "at random state 63, testing accuracy is 0.9084058264285627\n",
      "\n",
      "\n",
      "at random state 64, training accuracy is 0.9894283051250429\n",
      "at random state 64, testing accuracy is 0.9066750868205575\n",
      "\n",
      "\n",
      "at random state 65, training accuracy is 0.9879983959708817\n",
      "at random state 65, testing accuracy is 0.9240987203190774\n",
      "\n",
      "\n",
      "at random state 66, training accuracy is 0.9886004412125801\n",
      "at random state 66, testing accuracy is 0.8997205528036465\n",
      "\n",
      "\n",
      "at random state 67, training accuracy is 0.9882639639517368\n",
      "at random state 67, testing accuracy is 0.9128503285705613\n",
      "\n",
      "\n",
      "at random state 68, training accuracy is 0.9888959706233225\n",
      "at random state 68, testing accuracy is 0.9075248417510887\n",
      "\n",
      "\n"
     ]
    },
    {
     "name": "stdout",
     "output_type": "stream",
     "text": [
      "at random state 69, training accuracy is 0.9883365650781611\n",
      "at random state 69, testing accuracy is 0.9120317908516244\n",
      "\n",
      "\n",
      "at random state 70, training accuracy is 0.9874358914574142\n",
      "at random state 70, testing accuracy is 0.9216357228826952\n",
      "\n",
      "\n",
      "at random state 71, training accuracy is 0.9886184342574007\n",
      "at random state 71, testing accuracy is 0.913618930473795\n",
      "\n",
      "\n",
      "at random state 72, training accuracy is 0.9891386413418517\n",
      "at random state 72, testing accuracy is 0.9064909728521031\n",
      "\n",
      "\n",
      "at random state 73, training accuracy is 0.9882568686779469\n",
      "at random state 73, testing accuracy is 0.9097404935433723\n",
      "\n",
      "\n",
      "at random state 74, training accuracy is 0.9889331377493339\n",
      "at random state 74, testing accuracy is 0.9041440243793546\n",
      "\n",
      "\n",
      "at random state 75, training accuracy is 0.9874878206154181\n",
      "at random state 75, testing accuracy is 0.9082711524661123\n",
      "\n",
      "\n",
      "at random state 76, training accuracy is 0.9873087393291452\n",
      "at random state 76, testing accuracy is 0.9322775407300652\n",
      "\n",
      "\n",
      "at random state 77, training accuracy is 0.9879568485065345\n",
      "at random state 77, testing accuracy is 0.9039936702234702\n",
      "\n",
      "\n",
      "at random state 78, training accuracy is 0.9875949936782109\n",
      "at random state 78, testing accuracy is 0.9167680951736923\n",
      "\n",
      "\n",
      "at random state 79, training accuracy is 0.9877992453337177\n",
      "at random state 79, testing accuracy is 0.9024779315498059\n",
      "\n",
      "\n",
      "at random state 80, training accuracy is 0.9865392933403263\n",
      "at random state 80, testing accuracy is 0.9101058574333936\n",
      "\n",
      "\n",
      "at random state 81, training accuracy is 0.9880089978094503\n",
      "at random state 81, testing accuracy is 0.926496809381756\n",
      "\n",
      "\n",
      "at random state 82, training accuracy is 0.9873792101515166\n",
      "at random state 82, testing accuracy is 0.919726153608424\n",
      "\n",
      "\n",
      "at random state 83, training accuracy is 0.9884087614527354\n",
      "at random state 83, testing accuracy is 0.9146165874600272\n",
      "\n",
      "\n",
      "at random state 84, training accuracy is 0.9882118789401252\n",
      "at random state 84, testing accuracy is 0.9179324856317969\n",
      "\n",
      "\n",
      "at random state 85, training accuracy is 0.9875809300531357\n",
      "at random state 85, testing accuracy is 0.9254093365346283\n",
      "\n",
      "\n",
      "at random state 86, training accuracy is 0.9887969938634212\n",
      "at random state 86, testing accuracy is 0.9139472927417154\n",
      "\n",
      "\n",
      "at random state 87, training accuracy is 0.9882168934379532\n",
      "at random state 87, testing accuracy is 0.9119145713798731\n",
      "\n",
      "\n",
      "at random state 88, training accuracy is 0.9882333121670998\n",
      "at random state 88, testing accuracy is 0.9185181262795151\n",
      "\n",
      "\n",
      "at random state 89, training accuracy is 0.9873909927737297\n",
      "at random state 89, testing accuracy is 0.906907812575475\n",
      "\n",
      "\n",
      "at random state 90, training accuracy is 0.98826108081603\n",
      "at random state 90, testing accuracy is 0.9137269526685983\n",
      "\n",
      "\n",
      "at random state 91, training accuracy is 0.9887896001807422\n",
      "at random state 91, testing accuracy is 0.9037123109094033\n",
      "\n",
      "\n",
      "at random state 92, training accuracy is 0.9881527205470874\n",
      "at random state 92, testing accuracy is 0.913635668124616\n",
      "\n",
      "\n",
      "at random state 93, training accuracy is 0.9868570136564286\n",
      "at random state 93, testing accuracy is 0.9200679854169159\n",
      "\n",
      "\n",
      "at random state 94, training accuracy is 0.9882043201655684\n",
      "at random state 94, testing accuracy is 0.9082017206813052\n",
      "\n",
      "\n",
      "at random state 95, training accuracy is 0.9884280644460488\n",
      "at random state 95, testing accuracy is 0.899200449117969\n",
      "\n",
      "\n",
      "at random state 96, training accuracy is 0.9874194184887776\n",
      "at random state 96, testing accuracy is 0.9147933479339303\n",
      "\n",
      "\n",
      "at random state 97, training accuracy is 0.9870305218850497\n",
      "at random state 97, testing accuracy is 0.9119108724663829\n",
      "\n",
      "\n",
      "at random state 98, training accuracy is 0.9873736687901157\n",
      "at random state 98, testing accuracy is 0.9190281253000299\n",
      "\n",
      "\n",
      "at random state 99, training accuracy is 0.9882393325473251\n",
      "at random state 99, testing accuracy is 0.9095300532112851\n",
      "\n",
      "\n",
      "Max accuracy at random state 76 = 0.9322775407300652\n"
     ]
    }
   ],
   "source": [
    "from sklearn.ensemble import RandomForestRegressor\n",
    "rfr=RandomForestRegressor()\n",
    "model_selection(rfr)"
   ]
  },
  {
   "cell_type": "markdown",
   "id": "d533e519",
   "metadata": {},
   "source": [
    "CV score"
   ]
  },
  {
   "cell_type": "code",
   "execution_count": 212,
   "id": "fa5908eb",
   "metadata": {},
   "outputs": [
    {
     "name": "stdout",
     "output_type": "stream",
     "text": [
      "[0.93031972 0.84249473 0.94804399 0.9826436  0.95738318 0.88303628]\n",
      "0.9239869172117214\n",
      "0.047421330380892274\n"
     ]
    }
   ],
   "source": [
    "score=cross_val_score(rfr,x,y,cv=6)\n",
    "print(score)\n",
    "print(score.mean())\n",
    "print(score.std())"
   ]
  },
  {
   "cell_type": "markdown",
   "id": "fec85737",
   "metadata": {},
   "source": [
    "## Ada Boost Regressor"
   ]
  },
  {
   "cell_type": "code",
   "execution_count": 215,
   "id": "420f431a",
   "metadata": {},
   "outputs": [
    {
     "name": "stdout",
     "output_type": "stream",
     "text": [
      "at random state 0, training accuracy is 0.4848442976369345\n",
      "at random state 0, testing accuracy is 0.44446861172629293\n",
      "\n",
      "\n",
      "at random state 1, training accuracy is 0.5508343146523275\n",
      "at random state 1, testing accuracy is 0.5345368521363133\n",
      "\n",
      "\n",
      "at random state 2, training accuracy is 0.5812933448385034\n",
      "at random state 2, testing accuracy is 0.5549705714097912\n",
      "\n",
      "\n",
      "at random state 3, training accuracy is 0.5336828926639996\n",
      "at random state 3, testing accuracy is 0.5267042289956296\n",
      "\n",
      "\n",
      "at random state 4, training accuracy is 0.5395107232339954\n",
      "at random state 4, testing accuracy is 0.5293796586116252\n",
      "\n",
      "\n",
      "at random state 5, training accuracy is 0.5351117955275496\n",
      "at random state 5, testing accuracy is 0.532338226625771\n",
      "\n",
      "\n",
      "at random state 6, training accuracy is 0.5431711580334105\n",
      "at random state 6, testing accuracy is 0.5426406659258869\n",
      "\n",
      "\n",
      "at random state 7, training accuracy is 0.36722614045001345\n",
      "at random state 7, testing accuracy is 0.39701395705391807\n",
      "\n",
      "\n",
      "at random state 8, training accuracy is 0.3903669987789917\n",
      "at random state 8, testing accuracy is 0.37581834968454\n",
      "\n",
      "\n",
      "at random state 9, training accuracy is 0.5533594409847978\n",
      "at random state 9, testing accuracy is 0.5521589252862424\n",
      "\n",
      "\n",
      "at random state 10, training accuracy is 0.46584740605111974\n",
      "at random state 10, testing accuracy is 0.4457084061512231\n",
      "\n",
      "\n",
      "at random state 11, training accuracy is 0.47630707182381693\n",
      "at random state 11, testing accuracy is 0.46198026828749217\n",
      "\n",
      "\n",
      "at random state 12, training accuracy is 0.5283971119708346\n",
      "at random state 12, testing accuracy is 0.5124508254216265\n",
      "\n",
      "\n",
      "at random state 13, training accuracy is 0.4857212228746799\n",
      "at random state 13, testing accuracy is 0.4663047073592467\n",
      "\n",
      "\n",
      "at random state 14, training accuracy is 0.42419935398257347\n",
      "at random state 14, testing accuracy is 0.460798362276713\n",
      "\n",
      "\n",
      "at random state 15, training accuracy is 0.5891999889097981\n",
      "at random state 15, testing accuracy is 0.5135140954392601\n",
      "\n",
      "\n",
      "at random state 16, training accuracy is 0.497134071006087\n",
      "at random state 16, testing accuracy is 0.5100856025530731\n",
      "\n",
      "\n",
      "at random state 17, training accuracy is 0.5574332315441463\n",
      "at random state 17, testing accuracy is 0.591432681342813\n",
      "\n",
      "\n",
      "at random state 18, training accuracy is 0.48569120867786797\n",
      "at random state 18, testing accuracy is 0.5040358571574723\n",
      "\n",
      "\n",
      "at random state 19, training accuracy is 0.5697061324459953\n",
      "at random state 19, testing accuracy is 0.5476000695097344\n",
      "\n",
      "\n",
      "at random state 20, training accuracy is 0.5856360338667426\n",
      "at random state 20, testing accuracy is 0.5698096937677761\n",
      "\n",
      "\n",
      "at random state 21, training accuracy is 0.5472273221250238\n",
      "at random state 21, testing accuracy is 0.5043662243494558\n",
      "\n",
      "\n",
      "at random state 22, training accuracy is 0.4528045302754268\n",
      "at random state 22, testing accuracy is 0.4445042450575686\n",
      "\n",
      "\n",
      "at random state 23, training accuracy is 0.47888094284655813\n",
      "at random state 23, testing accuracy is 0.4732950645388161\n",
      "\n",
      "\n",
      "at random state 24, training accuracy is 0.5074910287191654\n",
      "at random state 24, testing accuracy is 0.5238907404285758\n",
      "\n",
      "\n",
      "at random state 25, training accuracy is 0.5071952597181462\n",
      "at random state 25, testing accuracy is 0.4899366366350121\n",
      "\n",
      "\n",
      "at random state 26, training accuracy is 0.5157388833099941\n",
      "at random state 26, testing accuracy is 0.48884093908828974\n",
      "\n",
      "\n",
      "at random state 27, training accuracy is 0.5439526053342771\n",
      "at random state 27, testing accuracy is 0.5371971070880291\n",
      "\n",
      "\n",
      "at random state 28, training accuracy is 0.467312552291809\n",
      "at random state 28, testing accuracy is 0.5056865138957534\n",
      "\n",
      "\n",
      "at random state 29, training accuracy is 0.4985123991417867\n",
      "at random state 29, testing accuracy is 0.502292751033812\n",
      "\n",
      "\n",
      "at random state 30, training accuracy is 0.5842426703997929\n",
      "at random state 30, testing accuracy is 0.5541698412841475\n",
      "\n",
      "\n",
      "at random state 31, training accuracy is 0.5360208941528313\n",
      "at random state 31, testing accuracy is 0.5139307594722895\n",
      "\n",
      "\n",
      "at random state 32, training accuracy is 0.4993253406648229\n",
      "at random state 32, testing accuracy is 0.4281530599205218\n",
      "\n",
      "\n",
      "at random state 33, training accuracy is 0.42810825886369963\n",
      "at random state 33, testing accuracy is 0.42195443052773596\n",
      "\n",
      "\n",
      "at random state 34, training accuracy is 0.5249280938460568\n",
      "at random state 34, testing accuracy is 0.517066018981984\n",
      "\n",
      "\n",
      "at random state 35, training accuracy is 0.597807554473019\n",
      "at random state 35, testing accuracy is 0.5640037629103829\n",
      "\n",
      "\n",
      "at random state 36, training accuracy is 0.4976957525776523\n",
      "at random state 36, testing accuracy is 0.49021541993297446\n",
      "\n",
      "\n",
      "at random state 37, training accuracy is 0.4975986993530187\n",
      "at random state 37, testing accuracy is 0.4446878172044595\n",
      "\n",
      "\n",
      "at random state 38, training accuracy is 0.5958035875167352\n",
      "at random state 38, testing accuracy is 0.5298929245159356\n",
      "\n",
      "\n",
      "at random state 39, training accuracy is 0.5540663003974042\n",
      "at random state 39, testing accuracy is 0.5399310706908875\n",
      "\n",
      "\n",
      "at random state 40, training accuracy is 0.5281520063605415\n",
      "at random state 40, testing accuracy is 0.5598165281912464\n",
      "\n",
      "\n",
      "at random state 41, training accuracy is 0.5542353426903521\n",
      "at random state 41, testing accuracy is 0.5461338080027214\n",
      "\n",
      "\n",
      "at random state 42, training accuracy is 0.4904858301431464\n",
      "at random state 42, testing accuracy is 0.515581407612069\n",
      "\n",
      "\n",
      "at random state 43, training accuracy is 0.4945483076860917\n",
      "at random state 43, testing accuracy is 0.4904390799978571\n",
      "\n",
      "\n",
      "at random state 44, training accuracy is 0.5648815292949578\n",
      "at random state 44, testing accuracy is 0.5690745660917795\n",
      "\n",
      "\n",
      "at random state 45, training accuracy is 0.5035697634235226\n",
      "at random state 45, testing accuracy is 0.5205753418774124\n",
      "\n",
      "\n",
      "at random state 46, training accuracy is 0.5317116570363983\n",
      "at random state 46, testing accuracy is 0.5298149172483737\n",
      "\n",
      "\n",
      "at random state 47, training accuracy is 0.5035396013916609\n",
      "at random state 47, testing accuracy is 0.48315737423571725\n",
      "\n",
      "\n",
      "at random state 48, training accuracy is 0.5369044283096513\n",
      "at random state 48, testing accuracy is 0.5428390825993921\n",
      "\n",
      "\n",
      "at random state 49, training accuracy is 0.5185356814085957\n",
      "at random state 49, testing accuracy is 0.5027817336331353\n",
      "\n",
      "\n",
      "at random state 50, training accuracy is 0.5280200574952926\n",
      "at random state 50, testing accuracy is 0.5450921829436466\n",
      "\n",
      "\n",
      "at random state 51, training accuracy is 0.49885858905074676\n",
      "at random state 51, testing accuracy is 0.4808603688280878\n",
      "\n",
      "\n",
      "at random state 52, training accuracy is 0.487457262220903\n",
      "at random state 52, testing accuracy is 0.49621530801320524\n",
      "\n",
      "\n",
      "at random state 53, training accuracy is 0.5033106836745129\n",
      "at random state 53, testing accuracy is 0.5198572616704091\n",
      "\n",
      "\n",
      "at random state 54, training accuracy is 0.5292151817001687\n",
      "at random state 54, testing accuracy is 0.5541545833450217\n",
      "\n",
      "\n",
      "at random state 55, training accuracy is 0.5661270617778889\n",
      "at random state 55, testing accuracy is 0.5421634504559603\n",
      "\n",
      "\n",
      "at random state 56, training accuracy is 0.4584530129108507\n",
      "at random state 56, testing accuracy is 0.5056441807797318\n",
      "\n",
      "\n",
      "at random state 57, training accuracy is 0.5355427154152719\n",
      "at random state 57, testing accuracy is 0.5500492216829717\n",
      "\n",
      "\n",
      "at random state 58, training accuracy is 0.539916703923234\n",
      "at random state 58, testing accuracy is 0.4711592006929337\n",
      "\n",
      "\n",
      "at random state 59, training accuracy is 0.5595865826187708\n",
      "at random state 59, testing accuracy is 0.5362500705095908\n",
      "\n",
      "\n",
      "at random state 60, training accuracy is 0.46174814629719785\n",
      "at random state 60, testing accuracy is 0.48823690471347747\n",
      "\n",
      "\n",
      "at random state 61, training accuracy is 0.5522692080299342\n",
      "at random state 61, testing accuracy is 0.5645066650636186\n",
      "\n",
      "\n",
      "at random state 62, training accuracy is 0.5662619836512164\n",
      "at random state 62, testing accuracy is 0.5459737998750601\n",
      "\n",
      "\n",
      "at random state 63, training accuracy is 0.5420936059306002\n",
      "at random state 63, testing accuracy is 0.4950359921214338\n",
      "\n",
      "\n",
      "at random state 64, training accuracy is 0.5703045774125897\n",
      "at random state 64, testing accuracy is 0.5629216981909093\n",
      "\n",
      "\n",
      "at random state 65, training accuracy is 0.49591451272812903\n",
      "at random state 65, testing accuracy is 0.47576306299757476\n",
      "\n",
      "\n",
      "at random state 66, training accuracy is 0.549343292546657\n",
      "at random state 66, testing accuracy is 0.5143617414948718\n",
      "\n",
      "\n",
      "at random state 67, training accuracy is 0.5287078625858027\n",
      "at random state 67, testing accuracy is 0.5301707436121116\n",
      "\n",
      "\n"
     ]
    },
    {
     "name": "stdout",
     "output_type": "stream",
     "text": [
      "at random state 68, training accuracy is 0.45029446098452686\n",
      "at random state 68, testing accuracy is 0.4297369562618012\n",
      "\n",
      "\n",
      "at random state 69, training accuracy is 0.4539914515580773\n",
      "at random state 69, testing accuracy is 0.47620322477797716\n",
      "\n",
      "\n",
      "at random state 70, training accuracy is 0.466579554635132\n",
      "at random state 70, testing accuracy is 0.46186059496250453\n",
      "\n",
      "\n",
      "at random state 71, training accuracy is 0.5615339931565699\n",
      "at random state 71, testing accuracy is 0.5531402167390564\n",
      "\n",
      "\n",
      "at random state 72, training accuracy is 0.5647697717094121\n",
      "at random state 72, testing accuracy is 0.5665672542037308\n",
      "\n",
      "\n",
      "at random state 73, training accuracy is 0.5516475390240396\n",
      "at random state 73, testing accuracy is 0.5215364332455141\n",
      "\n",
      "\n",
      "at random state 74, training accuracy is 0.5768238967970514\n",
      "at random state 74, testing accuracy is 0.5499783281946944\n",
      "\n",
      "\n",
      "at random state 75, training accuracy is 0.5455182413697908\n",
      "at random state 75, testing accuracy is 0.48418621896227865\n",
      "\n",
      "\n",
      "at random state 76, training accuracy is 0.5107758884857692\n",
      "at random state 76, testing accuracy is 0.5121238434157118\n",
      "\n",
      "\n",
      "at random state 77, training accuracy is 0.5010733828272022\n",
      "at random state 77, testing accuracy is 0.4746799154893119\n",
      "\n",
      "\n",
      "at random state 78, training accuracy is 0.5467499066041908\n",
      "at random state 78, testing accuracy is 0.513340254158194\n",
      "\n",
      "\n",
      "at random state 79, training accuracy is 0.5247294037716804\n",
      "at random state 79, testing accuracy is 0.5194203630393315\n",
      "\n",
      "\n",
      "at random state 80, training accuracy is 0.5476036034425421\n",
      "at random state 80, testing accuracy is 0.5479813336771787\n",
      "\n",
      "\n",
      "at random state 81, training accuracy is 0.5404900062701772\n",
      "at random state 81, testing accuracy is 0.5429125525093585\n",
      "\n",
      "\n",
      "at random state 82, training accuracy is 0.5484452980968451\n",
      "at random state 82, testing accuracy is 0.5190415185403239\n",
      "\n",
      "\n",
      "at random state 83, training accuracy is 0.5194194799069689\n",
      "at random state 83, testing accuracy is 0.5039342329107455\n",
      "\n",
      "\n",
      "at random state 84, training accuracy is 0.4585192567568862\n",
      "at random state 84, testing accuracy is 0.46995921304258337\n",
      "\n",
      "\n",
      "at random state 85, training accuracy is 0.4934204210263117\n",
      "at random state 85, testing accuracy is 0.5112642421595402\n",
      "\n",
      "\n",
      "at random state 86, training accuracy is 0.48343152532431133\n",
      "at random state 86, testing accuracy is 0.4640463614083019\n",
      "\n",
      "\n",
      "at random state 87, training accuracy is 0.5030721556923187\n",
      "at random state 87, testing accuracy is 0.43624702011600247\n",
      "\n",
      "\n",
      "at random state 88, training accuracy is 0.4447888939595439\n",
      "at random state 88, testing accuracy is 0.44157524732901154\n",
      "\n",
      "\n",
      "at random state 89, training accuracy is 0.5207776342726209\n",
      "at random state 89, testing accuracy is 0.5058508404085406\n",
      "\n",
      "\n",
      "at random state 90, training accuracy is 0.5476741123753941\n",
      "at random state 90, testing accuracy is 0.5522015513365692\n",
      "\n",
      "\n",
      "at random state 91, training accuracy is 0.4563164075217798\n",
      "at random state 91, testing accuracy is 0.4169841168074494\n",
      "\n",
      "\n",
      "at random state 92, training accuracy is 0.5260792166662813\n",
      "at random state 92, testing accuracy is 0.5099486109306924\n",
      "\n",
      "\n",
      "at random state 93, training accuracy is 0.4369955825659867\n",
      "at random state 93, testing accuracy is 0.42348089844467474\n",
      "\n",
      "\n",
      "at random state 94, training accuracy is 0.5534930704409936\n",
      "at random state 94, testing accuracy is 0.4977640542593852\n",
      "\n",
      "\n",
      "at random state 95, training accuracy is 0.5256928743088465\n",
      "at random state 95, testing accuracy is 0.4730611549663628\n",
      "\n",
      "\n",
      "at random state 96, training accuracy is 0.5630713218112839\n",
      "at random state 96, testing accuracy is 0.5605009421319311\n",
      "\n",
      "\n",
      "at random state 97, training accuracy is 0.5279069226955211\n",
      "at random state 97, testing accuracy is 0.5241822160115834\n",
      "\n",
      "\n",
      "at random state 98, training accuracy is 0.5416252875911477\n",
      "at random state 98, testing accuracy is 0.5446243955293028\n",
      "\n",
      "\n",
      "at random state 99, training accuracy is 0.40029185336156947\n",
      "at random state 99, testing accuracy is 0.39506161024934316\n",
      "\n",
      "\n",
      "Max accuracy at random state 17 = 0.591432681342813\n"
     ]
    }
   ],
   "source": [
    "from sklearn.ensemble import AdaBoostRegressor\n",
    "ad=AdaBoostRegressor()\n",
    "model_selection(ad)"
   ]
  },
  {
   "cell_type": "markdown",
   "id": "734d3dc4",
   "metadata": {},
   "source": [
    "CV score"
   ]
  },
  {
   "cell_type": "code",
   "execution_count": 216,
   "id": "37c6abdc",
   "metadata": {},
   "outputs": [
    {
     "name": "stdout",
     "output_type": "stream",
     "text": [
      "[0.47524022 0.53026811 0.58786586 0.52385354 0.48137035 0.45037941]\n",
      "0.508162915923907\n",
      "0.04514435022428462\n"
     ]
    }
   ],
   "source": [
    "score=cross_val_score(ad,x,y,cv=6)\n",
    "print(score)\n",
    "print(score.mean())\n",
    "print(score.std())"
   ]
  },
  {
   "cell_type": "markdown",
   "id": "91bf99fb",
   "metadata": {},
   "source": [
    "## hyper parameter tuning"
   ]
  },
  {
   "cell_type": "code",
   "execution_count": 217,
   "id": "d1313989",
   "metadata": {},
   "outputs": [],
   "source": [
    "from sklearn.model_selection import GridSearchCV"
   ]
  },
  {
   "cell_type": "code",
   "execution_count": 223,
   "id": "58825869",
   "metadata": {},
   "outputs": [],
   "source": [
    "dict={\"n_estimators\":[200,300],\n",
    "      \"criterion\":['squared_error', 'absolute_error','poisson'], \n",
    "      \"max_features\":['sqrt', 'log2'],\n",
    "      \"max_depth\":[15,17,20]}\n",
    "      #,\"max_fetaures\":['sqrt','log2']}"
   ]
  },
  {
   "cell_type": "code",
   "execution_count": 224,
   "id": "df772369",
   "metadata": {},
   "outputs": [],
   "source": [
    "gd=GridSearchCV(estimator=rfr,param_grid=dict,cv=6)"
   ]
  },
  {
   "cell_type": "code",
   "execution_count": 225,
   "id": "1ae257da",
   "metadata": {},
   "outputs": [
    {
     "data": {
      "text/html": [
       "<style>#sk-container-id-2 {color: black;background-color: white;}#sk-container-id-2 pre{padding: 0;}#sk-container-id-2 div.sk-toggleable {background-color: white;}#sk-container-id-2 label.sk-toggleable__label {cursor: pointer;display: block;width: 100%;margin-bottom: 0;padding: 0.3em;box-sizing: border-box;text-align: center;}#sk-container-id-2 label.sk-toggleable__label-arrow:before {content: \"▸\";float: left;margin-right: 0.25em;color: #696969;}#sk-container-id-2 label.sk-toggleable__label-arrow:hover:before {color: black;}#sk-container-id-2 div.sk-estimator:hover label.sk-toggleable__label-arrow:before {color: black;}#sk-container-id-2 div.sk-toggleable__content {max-height: 0;max-width: 0;overflow: hidden;text-align: left;background-color: #f0f8ff;}#sk-container-id-2 div.sk-toggleable__content pre {margin: 0.2em;color: black;border-radius: 0.25em;background-color: #f0f8ff;}#sk-container-id-2 input.sk-toggleable__control:checked~div.sk-toggleable__content {max-height: 200px;max-width: 100%;overflow: auto;}#sk-container-id-2 input.sk-toggleable__control:checked~label.sk-toggleable__label-arrow:before {content: \"▾\";}#sk-container-id-2 div.sk-estimator input.sk-toggleable__control:checked~label.sk-toggleable__label {background-color: #d4ebff;}#sk-container-id-2 div.sk-label input.sk-toggleable__control:checked~label.sk-toggleable__label {background-color: #d4ebff;}#sk-container-id-2 input.sk-hidden--visually {border: 0;clip: rect(1px 1px 1px 1px);clip: rect(1px, 1px, 1px, 1px);height: 1px;margin: -1px;overflow: hidden;padding: 0;position: absolute;width: 1px;}#sk-container-id-2 div.sk-estimator {font-family: monospace;background-color: #f0f8ff;border: 1px dotted black;border-radius: 0.25em;box-sizing: border-box;margin-bottom: 0.5em;}#sk-container-id-2 div.sk-estimator:hover {background-color: #d4ebff;}#sk-container-id-2 div.sk-parallel-item::after {content: \"\";width: 100%;border-bottom: 1px solid gray;flex-grow: 1;}#sk-container-id-2 div.sk-label:hover label.sk-toggleable__label {background-color: #d4ebff;}#sk-container-id-2 div.sk-serial::before {content: \"\";position: absolute;border-left: 1px solid gray;box-sizing: border-box;top: 0;bottom: 0;left: 50%;z-index: 0;}#sk-container-id-2 div.sk-serial {display: flex;flex-direction: column;align-items: center;background-color: white;padding-right: 0.2em;padding-left: 0.2em;position: relative;}#sk-container-id-2 div.sk-item {position: relative;z-index: 1;}#sk-container-id-2 div.sk-parallel {display: flex;align-items: stretch;justify-content: center;background-color: white;position: relative;}#sk-container-id-2 div.sk-item::before, #sk-container-id-2 div.sk-parallel-item::before {content: \"\";position: absolute;border-left: 1px solid gray;box-sizing: border-box;top: 0;bottom: 0;left: 50%;z-index: -1;}#sk-container-id-2 div.sk-parallel-item {display: flex;flex-direction: column;z-index: 1;position: relative;background-color: white;}#sk-container-id-2 div.sk-parallel-item:first-child::after {align-self: flex-end;width: 50%;}#sk-container-id-2 div.sk-parallel-item:last-child::after {align-self: flex-start;width: 50%;}#sk-container-id-2 div.sk-parallel-item:only-child::after {width: 0;}#sk-container-id-2 div.sk-dashed-wrapped {border: 1px dashed gray;margin: 0 0.4em 0.5em 0.4em;box-sizing: border-box;padding-bottom: 0.4em;background-color: white;}#sk-container-id-2 div.sk-label label {font-family: monospace;font-weight: bold;display: inline-block;line-height: 1.2em;}#sk-container-id-2 div.sk-label-container {text-align: center;}#sk-container-id-2 div.sk-container {/* jupyter's `normalize.less` sets `[hidden] { display: none; }` but bootstrap.min.css set `[hidden] { display: none !important; }` so we also need the `!important` here to be able to override the default hidden behavior on the sphinx rendered scikit-learn.org. See: https://github.com/scikit-learn/scikit-learn/issues/21755 */display: inline-block !important;position: relative;}#sk-container-id-2 div.sk-text-repr-fallback {display: none;}</style><div id=\"sk-container-id-2\" class=\"sk-top-container\"><div class=\"sk-text-repr-fallback\"><pre>GridSearchCV(cv=6, estimator=RandomForestRegressor(),\n",
       "             param_grid={&#x27;criterion&#x27;: [&#x27;squared_error&#x27;, &#x27;absolute_error&#x27;,\n",
       "                                       &#x27;poisson&#x27;],\n",
       "                         &#x27;max_depth&#x27;: [15, 17, 20],\n",
       "                         &#x27;max_features&#x27;: [&#x27;sqrt&#x27;, &#x27;log2&#x27;],\n",
       "                         &#x27;n_estimators&#x27;: [200, 300]})</pre><b>In a Jupyter environment, please rerun this cell to show the HTML representation or trust the notebook. <br />On GitHub, the HTML representation is unable to render, please try loading this page with nbviewer.org.</b></div><div class=\"sk-container\" hidden><div class=\"sk-item sk-dashed-wrapped\"><div class=\"sk-label-container\"><div class=\"sk-label sk-toggleable\"><input class=\"sk-toggleable__control sk-hidden--visually\" id=\"sk-estimator-id-4\" type=\"checkbox\" ><label for=\"sk-estimator-id-4\" class=\"sk-toggleable__label sk-toggleable__label-arrow\">GridSearchCV</label><div class=\"sk-toggleable__content\"><pre>GridSearchCV(cv=6, estimator=RandomForestRegressor(),\n",
       "             param_grid={&#x27;criterion&#x27;: [&#x27;squared_error&#x27;, &#x27;absolute_error&#x27;,\n",
       "                                       &#x27;poisson&#x27;],\n",
       "                         &#x27;max_depth&#x27;: [15, 17, 20],\n",
       "                         &#x27;max_features&#x27;: [&#x27;sqrt&#x27;, &#x27;log2&#x27;],\n",
       "                         &#x27;n_estimators&#x27;: [200, 300]})</pre></div></div></div><div class=\"sk-parallel\"><div class=\"sk-parallel-item\"><div class=\"sk-item\"><div class=\"sk-label-container\"><div class=\"sk-label sk-toggleable\"><input class=\"sk-toggleable__control sk-hidden--visually\" id=\"sk-estimator-id-5\" type=\"checkbox\" ><label for=\"sk-estimator-id-5\" class=\"sk-toggleable__label sk-toggleable__label-arrow\">estimator: RandomForestRegressor</label><div class=\"sk-toggleable__content\"><pre>RandomForestRegressor()</pre></div></div></div><div class=\"sk-serial\"><div class=\"sk-item\"><div class=\"sk-estimator sk-toggleable\"><input class=\"sk-toggleable__control sk-hidden--visually\" id=\"sk-estimator-id-6\" type=\"checkbox\" ><label for=\"sk-estimator-id-6\" class=\"sk-toggleable__label sk-toggleable__label-arrow\">RandomForestRegressor</label><div class=\"sk-toggleable__content\"><pre>RandomForestRegressor()</pre></div></div></div></div></div></div></div></div></div></div>"
      ],
      "text/plain": [
       "GridSearchCV(cv=6, estimator=RandomForestRegressor(),\n",
       "             param_grid={'criterion': ['squared_error', 'absolute_error',\n",
       "                                       'poisson'],\n",
       "                         'max_depth': [15, 17, 20],\n",
       "                         'max_features': ['sqrt', 'log2'],\n",
       "                         'n_estimators': [200, 300]})"
      ]
     },
     "execution_count": 225,
     "metadata": {},
     "output_type": "execute_result"
    }
   ],
   "source": [
    "gd.fit(x,y)"
   ]
  },
  {
   "cell_type": "code",
   "execution_count": 226,
   "id": "f9194cb5",
   "metadata": {},
   "outputs": [
    {
     "data": {
      "text/plain": [
       "{'criterion': 'poisson',\n",
       " 'max_depth': 20,\n",
       " 'max_features': 'log2',\n",
       " 'n_estimators': 300}"
      ]
     },
     "execution_count": 226,
     "metadata": {},
     "output_type": "execute_result"
    }
   ],
   "source": [
    "gd.best_params_"
   ]
  },
  {
   "cell_type": "code",
   "execution_count": 227,
   "id": "9cac1d41",
   "metadata": {},
   "outputs": [
    {
     "data": {
      "text/plain": [
       "0.8979960841417123"
      ]
     },
     "execution_count": 227,
     "metadata": {},
     "output_type": "execute_result"
    }
   ],
   "source": [
    "gd.best_score_"
   ]
  },
  {
   "cell_type": "code",
   "execution_count": null,
   "id": "5ba4ed7f",
   "metadata": {},
   "outputs": [],
   "source": []
  },
  {
   "cell_type": "markdown",
   "id": "0c162834",
   "metadata": {},
   "source": [
    "# Final model"
   ]
  },
  {
   "cell_type": "code",
   "execution_count": 228,
   "id": "d2bd52e0",
   "metadata": {},
   "outputs": [
    {
     "name": "stdout",
     "output_type": "stream",
     "text": [
      "at random state 76 testing accuracy is 0.9038303912625187\n"
     ]
    }
   ],
   "source": [
    "rfr=RandomForestRegressor(criterion='poisson',max_depth=20,max_features= 'log2',n_estimators= 300)\n",
    "x_train,x_test,y_train,y_test=train_test_split(x,y,random_state=76,test_size=0.30)\n",
    "instance=rfr\n",
    "instance.fit(x_train,y_train)\n",
    "pred_train=instance.predict(x_train)\n",
    "pred_test=instance.predict(x_test)\n",
    "\n",
    "print(f\"at random state {76} testing accuracy is {r2_score(y_test,pred_test)}\")\n"
   ]
  },
  {
   "cell_type": "code",
   "execution_count": null,
   "id": "361eb24e",
   "metadata": {},
   "outputs": [],
   "source": []
  },
  {
   "cell_type": "markdown",
   "id": "5c6e3512",
   "metadata": {},
   "source": [
    "# visualisation"
   ]
  },
  {
   "cell_type": "code",
   "execution_count": 229,
   "id": "5dd02e20",
   "metadata": {},
   "outputs": [
    {
     "data": {
      "image/png": "[encoded data removed]",
      "text/plain": [
       "<Figure size 576x432 with 1 Axes>"
      ]
     },
     "metadata": {
      "needs_background": "light"
     },
     "output_type": "display_data"
    }
   ],
   "source": [
    "import matplotlib.pyplot as plt\n",
    "plt.figure(figsize=(8,6))\n",
    "plt.scatter(x=y_test,y=pred_test,color='r')\n",
    "plt.plot(y_test,y_test,color='b')\n",
    "plt.xlabel('Actual cost for two',fontsize= 14)\n",
    "plt.ylabel('Predicted cost for two',fontsize= 14)\n",
    "plt.title('Random Forest Regressor',fontsize= 18)\n",
    "plt.show()"
   ]
  },
  {
   "cell_type": "code",
   "execution_count": null,
   "id": "3b2cd876",
   "metadata": {},
   "outputs": [],
   "source": []
  },
  {
   "cell_type": "markdown",
   "id": "1de06731",
   "metadata": {},
   "source": [
    "# Prediction"
   ]
  },
  {
   "cell_type": "code",
   "execution_count": 230,
   "id": "e982c736",
   "metadata": {},
   "outputs": [
    {
     "data": {
      "text/html": [
       "<div>\n",
       "<style scoped>\n",
       "    .dataframe tbody tr th:only-of-type {\n",
       "        vertical-align: middle;\n",
       "    }\n",
       "\n",
       "    .dataframe tbody tr th {\n",
       "        vertical-align: top;\n",
       "    }\n",
       "\n",
       "    .dataframe thead th {\n",
       "        text-align: right;\n",
       "    }\n",
       "</style>\n",
       "<table border=\"1\" class=\"dataframe\">\n",
       "  <thead>\n",
       "    <tr style=\"text-align: right;\">\n",
       "      <th></th>\n",
       "      <th>Expected</th>\n",
       "      <th>Predicted</th>\n",
       "    </tr>\n",
       "  </thead>\n",
       "  <tbody>\n",
       "    <tr>\n",
       "      <th>4175</th>\n",
       "      <td>1438899</td>\n",
       "      <td>1.473403e+06</td>\n",
       "    </tr>\n",
       "    <tr>\n",
       "      <th>2451</th>\n",
       "      <td>626999</td>\n",
       "      <td>8.086867e+05</td>\n",
       "    </tr>\n",
       "    <tr>\n",
       "      <th>1888</th>\n",
       "      <td>1078399</td>\n",
       "      <td>9.290412e+05</td>\n",
       "    </tr>\n",
       "    <tr>\n",
       "      <th>4451</th>\n",
       "      <td>509499</td>\n",
       "      <td>4.651190e+05</td>\n",
       "    </tr>\n",
       "    <tr>\n",
       "      <th>1298</th>\n",
       "      <td>880799</td>\n",
       "      <td>7.851927e+05</td>\n",
       "    </tr>\n",
       "    <tr>\n",
       "      <th>4340</th>\n",
       "      <td>482499</td>\n",
       "      <td>4.343397e+05</td>\n",
       "    </tr>\n",
       "    <tr>\n",
       "      <th>2897</th>\n",
       "      <td>360499</td>\n",
       "      <td>4.268571e+05</td>\n",
       "    </tr>\n",
       "    <tr>\n",
       "      <th>3643</th>\n",
       "      <td>596999</td>\n",
       "      <td>5.625298e+05</td>\n",
       "    </tr>\n",
       "    <tr>\n",
       "      <th>4642</th>\n",
       "      <td>733499</td>\n",
       "      <td>7.002976e+05</td>\n",
       "    </tr>\n",
       "    <tr>\n",
       "      <th>301</th>\n",
       "      <td>340799</td>\n",
       "      <td>3.613199e+05</td>\n",
       "    </tr>\n",
       "    <tr>\n",
       "      <th>3511</th>\n",
       "      <td>896099</td>\n",
       "      <td>9.646502e+05</td>\n",
       "    </tr>\n",
       "    <tr>\n",
       "      <th>3937</th>\n",
       "      <td>439899</td>\n",
       "      <td>4.418157e+05</td>\n",
       "    </tr>\n",
       "    <tr>\n",
       "      <th>4328</th>\n",
       "      <td>379999</td>\n",
       "      <td>4.873193e+05</td>\n",
       "    </tr>\n",
       "    <tr>\n",
       "      <th>3807</th>\n",
       "      <td>697699</td>\n",
       "      <td>6.529423e+05</td>\n",
       "    </tr>\n",
       "    <tr>\n",
       "      <th>3738</th>\n",
       "      <td>1164899</td>\n",
       "      <td>1.103964e+06</td>\n",
       "    </tr>\n",
       "    <tr>\n",
       "      <th>310</th>\n",
       "      <td>357199</td>\n",
       "      <td>4.062205e+05</td>\n",
       "    </tr>\n",
       "    <tr>\n",
       "      <th>3303</th>\n",
       "      <td>205999</td>\n",
       "      <td>2.633437e+05</td>\n",
       "    </tr>\n",
       "    <tr>\n",
       "      <th>4315</th>\n",
       "      <td>488299</td>\n",
       "      <td>4.465142e+05</td>\n",
       "    </tr>\n",
       "    <tr>\n",
       "      <th>2985</th>\n",
       "      <td>1078899</td>\n",
       "      <td>1.126718e+06</td>\n",
       "    </tr>\n",
       "    <tr>\n",
       "      <th>4419</th>\n",
       "      <td>729799</td>\n",
       "      <td>6.852016e+05</td>\n",
       "    </tr>\n",
       "    <tr>\n",
       "      <th>1261</th>\n",
       "      <td>974999</td>\n",
       "      <td>9.647703e+05</td>\n",
       "    </tr>\n",
       "    <tr>\n",
       "      <th>2160</th>\n",
       "      <td>522199</td>\n",
       "      <td>5.361417e+05</td>\n",
       "    </tr>\n",
       "    <tr>\n",
       "      <th>3450</th>\n",
       "      <td>199199</td>\n",
       "      <td>2.564895e+05</td>\n",
       "    </tr>\n",
       "    <tr>\n",
       "      <th>2370</th>\n",
       "      <td>633699</td>\n",
       "      <td>6.231041e+05</td>\n",
       "    </tr>\n",
       "    <tr>\n",
       "      <th>272</th>\n",
       "      <td>372399</td>\n",
       "      <td>3.918326e+05</td>\n",
       "    </tr>\n",
       "    <tr>\n",
       "      <th>2407</th>\n",
       "      <td>589199</td>\n",
       "      <td>5.811634e+05</td>\n",
       "    </tr>\n",
       "    <tr>\n",
       "      <th>3989</th>\n",
       "      <td>487699</td>\n",
       "      <td>5.103175e+05</td>\n",
       "    </tr>\n",
       "    <tr>\n",
       "      <th>1774</th>\n",
       "      <td>485399</td>\n",
       "      <td>4.988667e+05</td>\n",
       "    </tr>\n",
       "    <tr>\n",
       "      <th>2459</th>\n",
       "      <td>314999</td>\n",
       "      <td>3.413375e+05</td>\n",
       "    </tr>\n",
       "    <tr>\n",
       "      <th>4704</th>\n",
       "      <td>547999</td>\n",
       "      <td>8.105244e+05</td>\n",
       "    </tr>\n",
       "    <tr>\n",
       "      <th>3574</th>\n",
       "      <td>541199</td>\n",
       "      <td>5.829229e+05</td>\n",
       "    </tr>\n",
       "    <tr>\n",
       "      <th>3917</th>\n",
       "      <td>615899</td>\n",
       "      <td>6.262857e+05</td>\n",
       "    </tr>\n",
       "    <tr>\n",
       "      <th>18</th>\n",
       "      <td>1680599</td>\n",
       "      <td>1.539282e+06</td>\n",
       "    </tr>\n",
       "    <tr>\n",
       "      <th>1893</th>\n",
       "      <td>1086599</td>\n",
       "      <td>9.933783e+05</td>\n",
       "    </tr>\n",
       "    <tr>\n",
       "      <th>1805</th>\n",
       "      <td>488299</td>\n",
       "      <td>4.540228e+05</td>\n",
       "    </tr>\n",
       "    <tr>\n",
       "      <th>5089</th>\n",
       "      <td>297199</td>\n",
       "      <td>2.914326e+05</td>\n",
       "    </tr>\n",
       "    <tr>\n",
       "      <th>4408</th>\n",
       "      <td>649299</td>\n",
       "      <td>7.056620e+05</td>\n",
       "    </tr>\n",
       "    <tr>\n",
       "      <th>2762</th>\n",
       "      <td>480599</td>\n",
       "      <td>5.775403e+05</td>\n",
       "    </tr>\n",
       "    <tr>\n",
       "      <th>3683</th>\n",
       "      <td>626999</td>\n",
       "      <td>8.096407e+05</td>\n",
       "    </tr>\n",
       "    <tr>\n",
       "      <th>1148</th>\n",
       "      <td>607599</td>\n",
       "      <td>6.745577e+05</td>\n",
       "    </tr>\n",
       "  </tbody>\n",
       "</table>\n",
       "</div>"
      ],
      "text/plain": [
       "      Expected     Predicted\n",
       "4175   1438899  1.473403e+06\n",
       "2451    626999  8.086867e+05\n",
       "1888   1078399  9.290412e+05\n",
       "4451    509499  4.651190e+05\n",
       "1298    880799  7.851927e+05\n",
       "4340    482499  4.343397e+05\n",
       "2897    360499  4.268571e+05\n",
       "3643    596999  5.625298e+05\n",
       "4642    733499  7.002976e+05\n",
       "301     340799  3.613199e+05\n",
       "3511    896099  9.646502e+05\n",
       "3937    439899  4.418157e+05\n",
       "4328    379999  4.873193e+05\n",
       "3807    697699  6.529423e+05\n",
       "3738   1164899  1.103964e+06\n",
       "310     357199  4.062205e+05\n",
       "3303    205999  2.633437e+05\n",
       "4315    488299  4.465142e+05\n",
       "2985   1078899  1.126718e+06\n",
       "4419    729799  6.852016e+05\n",
       "1261    974999  9.647703e+05\n",
       "2160    522199  5.361417e+05\n",
       "3450    199199  2.564895e+05\n",
       "2370    633699  6.231041e+05\n",
       "272     372399  3.918326e+05\n",
       "2407    589199  5.811634e+05\n",
       "3989    487699  5.103175e+05\n",
       "1774    485399  4.988667e+05\n",
       "2459    314999  3.413375e+05\n",
       "4704    547999  8.105244e+05\n",
       "3574    541199  5.829229e+05\n",
       "3917    615899  6.262857e+05\n",
       "18     1680599  1.539282e+06\n",
       "1893   1086599  9.933783e+05\n",
       "1805    488299  4.540228e+05\n",
       "5089    297199  2.914326e+05\n",
       "4408    649299  7.056620e+05\n",
       "2762    480599  5.775403e+05\n",
       "3683    626999  8.096407e+05\n",
       "1148    607599  6.745577e+05"
      ]
     },
     "execution_count": 230,
     "metadata": {},
     "output_type": "execute_result"
    }
   ],
   "source": [
    "dfpred=pd.DataFrame({'Expected':y_test,'Predicted':pred_test})\n",
    "dfpred.sample(40)"
   ]
  },
  {
   "cell_type": "markdown",
   "id": "bbab7d3f",
   "metadata": {},
   "source": [
    "# Model saving"
   ]
  },
  {
   "cell_type": "code",
   "execution_count": 231,
   "id": "1ac56df6",
   "metadata": {},
   "outputs": [],
   "source": [
    "import pickle\n",
    "filename = 'car_price.pkl'\n",
    "pickle.dump(rfr,open(filename, 'wb'))"
   ]
  },
  {
   "cell_type": "code",
   "execution_count": null,
   "id": "4f24b6af",
   "metadata": {},
   "outputs": [],
   "source": []
  },
  {
   "cell_type": "code",
   "execution_count": null,
   "id": "f05054b7",
   "metadata": {},
   "outputs": [],
   "source": []
  },
  {
   "cell_type": "code",
   "execution_count": null,
   "id": "0cf605dd",
   "metadata": {},
   "outputs": [],
   "source": []
  }
 ],
 "metadata": {
  "kernelspec": {
   "display_name": "Python 3 (ipykernel)",
   "language": "python",
   "name": "python3"
  },
  "language_info": {
   "codemirror_mode": {
    "name": "ipython",
    "version": 3
   },
   "file_extension": ".py",
   "mimetype": "text/x-python",
   "name": "python",
   "nbconvert_exporter": "python",
   "pygments_lexer": "ipython3",
   "version": "3.9.7"
  }
 },
 "nbformat": 4,
 "nbformat_minor": 5
}
