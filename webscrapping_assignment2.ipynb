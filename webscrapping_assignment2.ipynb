{
 "cells": [
  {
   "cell_type": "code",
   "execution_count": 2,
   "id": "e6123a50",
   "metadata": {},
   "outputs": [],
   "source": [
    "import selenium\n",
    "import pandas as pd\n",
    "from selenium import webdriver\n",
    "import warnings\n",
    "warnings.filterwarnings('ignore')\n",
    "import time\n",
    "from selenium.common.exceptions import StaleElementReferenceException,NoSuchElementException\n",
    "from selenium.webdriver.common.by import By"
   ]
  },
  {
   "cell_type": "markdown",
   "id": "41c58337",
   "metadata": {},
   "source": [
    "Question 1: python program to scrape the  job-title, job-location, company_name, experience_required for the role of Data Analyst in Bangalore location"
   ]
  },
  {
   "cell_type": "code",
   "execution_count": 77,
   "id": "687c2b8d",
   "metadata": {},
   "outputs": [],
   "source": [
    "# for creating an instance of the driver that would automate scrapping and intercation with the chrome\n",
    "driver=webdriver.Chrome(r\"chromedriver.exe\")"
   ]
  },
  {
   "cell_type": "code",
   "execution_count": 23,
   "id": "dc13e54d",
   "metadata": {},
   "outputs": [],
   "source": [
    "driver.get(\"https://www.naukri.com/\")"
   ]
  },
  {
   "cell_type": "code",
   "execution_count": 24,
   "id": "5315f4d7",
   "metadata": {},
   "outputs": [],
   "source": [
    "designation=driver.find_element(By.CLASS_NAME,\"suggestor-input \")\n",
    "designation.send_keys('Data Analyst')"
   ]
  },
  {
   "cell_type": "code",
   "execution_count": 25,
   "id": "4b1b7213",
   "metadata": {},
   "outputs": [],
   "source": [
    "location=driver.find_element(By.XPATH,\"/html/body/div[1]/div[2]/div[3]/div/div/div[5]/div/div/div/input\")\n",
    "location.send_keys('Bangalore')"
   ]
  },
  {
   "cell_type": "code",
   "execution_count": 26,
   "id": "2774539f",
   "metadata": {},
   "outputs": [],
   "source": [
    "search=driver.find_element(By.CLASS_NAME,\"qsbSubmit\")\n",
    "search.click()"
   ]
  },
  {
   "cell_type": "code",
   "execution_count": 20,
   "id": "51143cb7",
   "metadata": {},
   "outputs": [],
   "source": [
    "job_title=[]\n",
    "job_location=[]\n",
    "company=[]\n",
    "experience=[]\n"
   ]
  },
  {
   "cell_type": "code",
   "execution_count": 38,
   "id": "cc344ee6",
   "metadata": {},
   "outputs": [],
   "source": [
    "#for scraping job title\n",
    "title_tag=driver.find_elements(By.XPATH,\"//a[@class='title fw500 ellipsis']\")\n",
    "for i in title_tag[0:10]:\n",
    "    job_title.append(i.text)"
   ]
  },
  {
   "cell_type": "code",
   "execution_count": 39,
   "id": "1e38420d",
   "metadata": {},
   "outputs": [
    {
     "data": {
      "text/plain": [
       "['Senior Data Analyst',\n",
       " 'Senior Data Analyst II',\n",
       " 'Data Analyst',\n",
       " 'Data Analyst',\n",
       " 'Data Analyst - Data Science, 3 To 5 Years',\n",
       " 'Commercial Stream Data Analyst',\n",
       " 'Data Analyst',\n",
       " 'Data Analyst / MIS',\n",
       " 'Business Analyst/ Data Analyst opportunity - Bangalore, India',\n",
       " 'Job opportunity Switzerland based MNC / JR. Data Analyst']"
      ]
     },
     "execution_count": 39,
     "metadata": {},
     "output_type": "execute_result"
    }
   ],
   "source": [
    "job_title"
   ]
  },
  {
   "cell_type": "code",
   "execution_count": 51,
   "id": "fd980e9e",
   "metadata": {},
   "outputs": [
    {
     "data": {
      "text/plain": [
       "['Bangalore/Bengaluru',\n",
       " 'Bangalore/Bengaluru',\n",
       " 'Bangalore/Bengaluru',\n",
       " 'Bangalore/Bengaluru',\n",
       " 'Bangalore/Bengaluru, Mumbai (All Areas)',\n",
       " 'Bangalore/Bengaluru',\n",
       " 'Bangalore/Bengaluru',\n",
       " 'Bangalore/Bengaluru(Indira Nagar)',\n",
       " 'Bangalore/Bengaluru',\n",
       " 'Bangalore/Bengaluru']"
      ]
     },
     "execution_count": 51,
     "metadata": {},
     "output_type": "execute_result"
    }
   ],
   "source": [
    "#for scraping job location\n",
    "job_location=[]\n",
    "loc_tag=driver.find_elements(By.XPATH,\"//li[@class='fleft grey-text br2 placeHolderLi location']\")\n",
    "for i in loc_tag[0:10]:\n",
    "    job_location.append(i.text)\n",
    "job_location"
   ]
  },
  {
   "cell_type": "code",
   "execution_count": 45,
   "id": "6a922ff2",
   "metadata": {},
   "outputs": [
    {
     "data": {
      "text/plain": [
       "['Optum',\n",
       " 'Flipkart',\n",
       " 'Bright Money',\n",
       " 'Aon Hewitt',\n",
       " 'Rise Finconnect',\n",
       " 'Schneider Electric',\n",
       " 'Cargill',\n",
       " 'Trukker Technologies',\n",
       " 'GSG consulting services private ltd',\n",
       " 'Allegis Services India Pvt. Ltd.']"
      ]
     },
     "execution_count": 45,
     "metadata": {},
     "output_type": "execute_result"
    }
   ],
   "source": [
    "#for scraping company name\n",
    "company_tag=driver.find_elements(By.XPATH,\"//a[@class='subTitle ellipsis fleft']\")\n",
    "for i in company_tag[0:10]:\n",
    "    company.append(i.text)\n",
    "company"
   ]
  },
  {
   "cell_type": "code",
   "execution_count": 49,
   "id": "63a4f6d5",
   "metadata": {},
   "outputs": [
    {
     "data": {
      "text/plain": [
       "['5-7 Yrs',\n",
       " '3-6 Yrs',\n",
       " '0-2 Yrs',\n",
       " '2-4 Yrs',\n",
       " '2-6 Yrs',\n",
       " '3-8 Yrs',\n",
       " '2-7 Yrs',\n",
       " '3-6 Yrs',\n",
       " '5-10 Yrs',\n",
       " '0-2 Yrs']"
      ]
     },
     "execution_count": 49,
     "metadata": {},
     "output_type": "execute_result"
    }
   ],
   "source": [
    "#for scraping experience required\n",
    "experience=[]\n",
    "exp_tag=driver.find_elements(By.XPATH,\"//li[@class='fleft grey-text br2 placeHolderLi experience']//span\")\n",
    "for i in exp_tag[0:10]:\n",
    "    experience.append(i.text)\n",
    "experience"
   ]
  },
  {
   "cell_type": "code",
   "execution_count": 53,
   "id": "5d5ebc57",
   "metadata": {},
   "outputs": [
    {
     "data": {
      "text/html": [
       "<div>\n",
       "<style scoped>\n",
       "    .dataframe tbody tr th:only-of-type {\n",
       "        vertical-align: middle;\n",
       "    }\n",
       "\n",
       "    .dataframe tbody tr th {\n",
       "        vertical-align: top;\n",
       "    }\n",
       "\n",
       "    .dataframe thead th {\n",
       "        text-align: right;\n",
       "    }\n",
       "</style>\n",
       "<table border=\"1\" class=\"dataframe\">\n",
       "  <thead>\n",
       "    <tr style=\"text-align: right;\">\n",
       "      <th></th>\n",
       "      <th>job title</th>\n",
       "      <th>job location</th>\n",
       "      <th>experience required</th>\n",
       "      <th>company name</th>\n",
       "    </tr>\n",
       "  </thead>\n",
       "  <tbody>\n",
       "    <tr>\n",
       "      <th>0</th>\n",
       "      <td>Senior Data Analyst</td>\n",
       "      <td>Bangalore/Bengaluru</td>\n",
       "      <td>5-7 Yrs</td>\n",
       "      <td>Optum</td>\n",
       "    </tr>\n",
       "    <tr>\n",
       "      <th>1</th>\n",
       "      <td>Senior Data Analyst II</td>\n",
       "      <td>Bangalore/Bengaluru</td>\n",
       "      <td>3-6 Yrs</td>\n",
       "      <td>Flipkart</td>\n",
       "    </tr>\n",
       "    <tr>\n",
       "      <th>2</th>\n",
       "      <td>Data Analyst</td>\n",
       "      <td>Bangalore/Bengaluru</td>\n",
       "      <td>0-2 Yrs</td>\n",
       "      <td>Bright Money</td>\n",
       "    </tr>\n",
       "    <tr>\n",
       "      <th>3</th>\n",
       "      <td>Data Analyst</td>\n",
       "      <td>Bangalore/Bengaluru</td>\n",
       "      <td>2-4 Yrs</td>\n",
       "      <td>Aon Hewitt</td>\n",
       "    </tr>\n",
       "    <tr>\n",
       "      <th>4</th>\n",
       "      <td>Data Analyst - Data Science, 3 To 5 Years</td>\n",
       "      <td>Bangalore/Bengaluru, Mumbai (All Areas)</td>\n",
       "      <td>2-6 Yrs</td>\n",
       "      <td>Rise Finconnect</td>\n",
       "    </tr>\n",
       "    <tr>\n",
       "      <th>5</th>\n",
       "      <td>Commercial Stream Data Analyst</td>\n",
       "      <td>Bangalore/Bengaluru</td>\n",
       "      <td>3-8 Yrs</td>\n",
       "      <td>Schneider Electric</td>\n",
       "    </tr>\n",
       "    <tr>\n",
       "      <th>6</th>\n",
       "      <td>Data Analyst</td>\n",
       "      <td>Bangalore/Bengaluru</td>\n",
       "      <td>2-7 Yrs</td>\n",
       "      <td>Cargill</td>\n",
       "    </tr>\n",
       "    <tr>\n",
       "      <th>7</th>\n",
       "      <td>Data Analyst / MIS</td>\n",
       "      <td>Bangalore/Bengaluru(Indira Nagar)</td>\n",
       "      <td>3-6 Yrs</td>\n",
       "      <td>Trukker Technologies</td>\n",
       "    </tr>\n",
       "    <tr>\n",
       "      <th>8</th>\n",
       "      <td>Business Analyst/ Data Analyst opportunity - B...</td>\n",
       "      <td>Bangalore/Bengaluru</td>\n",
       "      <td>5-10 Yrs</td>\n",
       "      <td>GSG consulting services private ltd</td>\n",
       "    </tr>\n",
       "    <tr>\n",
       "      <th>9</th>\n",
       "      <td>Job opportunity Switzerland based MNC / JR. Da...</td>\n",
       "      <td>Bangalore/Bengaluru</td>\n",
       "      <td>0-2 Yrs</td>\n",
       "      <td>Allegis Services India Pvt. Ltd.</td>\n",
       "    </tr>\n",
       "  </tbody>\n",
       "</table>\n",
       "</div>"
      ],
      "text/plain": [
       "                                           job title  \\\n",
       "0                                Senior Data Analyst   \n",
       "1                             Senior Data Analyst II   \n",
       "2                                       Data Analyst   \n",
       "3                                       Data Analyst   \n",
       "4          Data Analyst - Data Science, 3 To 5 Years   \n",
       "5                     Commercial Stream Data Analyst   \n",
       "6                                       Data Analyst   \n",
       "7                                 Data Analyst / MIS   \n",
       "8  Business Analyst/ Data Analyst opportunity - B...   \n",
       "9  Job opportunity Switzerland based MNC / JR. Da...   \n",
       "\n",
       "                              job location experience required  \\\n",
       "0                      Bangalore/Bengaluru             5-7 Yrs   \n",
       "1                      Bangalore/Bengaluru             3-6 Yrs   \n",
       "2                      Bangalore/Bengaluru             0-2 Yrs   \n",
       "3                      Bangalore/Bengaluru             2-4 Yrs   \n",
       "4  Bangalore/Bengaluru, Mumbai (All Areas)             2-6 Yrs   \n",
       "5                      Bangalore/Bengaluru             3-8 Yrs   \n",
       "6                      Bangalore/Bengaluru             2-7 Yrs   \n",
       "7        Bangalore/Bengaluru(Indira Nagar)             3-6 Yrs   \n",
       "8                      Bangalore/Bengaluru            5-10 Yrs   \n",
       "9                      Bangalore/Bengaluru             0-2 Yrs   \n",
       "\n",
       "                          company name  \n",
       "0                                Optum  \n",
       "1                             Flipkart  \n",
       "2                         Bright Money  \n",
       "3                           Aon Hewitt  \n",
       "4                      Rise Finconnect  \n",
       "5                   Schneider Electric  \n",
       "6                              Cargill  \n",
       "7                 Trukker Technologies  \n",
       "8  GSG consulting services private ltd  \n",
       "9     Allegis Services India Pvt. Ltd.  "
      ]
     },
     "execution_count": 53,
     "metadata": {},
     "output_type": "execute_result"
    }
   ],
   "source": [
    "dfjob1=pd.DataFrame({'job title':job_title,'job location':job_location,'experience required':experience,'company name':company})\n",
    "dfjob1"
   ]
  },
  {
   "cell_type": "markdown",
   "id": "5e8ac1ac",
   "metadata": {},
   "source": [
    "question 2: pyhton program to scrape data for data scientist position in the bangalore location"
   ]
  },
  {
   "cell_type": "code",
   "execution_count": 73,
   "id": "d9d84d43",
   "metadata": {},
   "outputs": [],
   "source": [
    "# for creating an instance of the driver that would automate scrapping and intercation with the chrome\n",
    "driver=webdriver.Chrome(r\"chromedriver.exe\")\n",
    "driver.get('https://www.naukri.com/')"
   ]
  },
  {
   "cell_type": "code",
   "execution_count": 74,
   "id": "774a6a48",
   "metadata": {},
   "outputs": [],
   "source": [
    "designation=driver.find_element(By.CLASS_NAME,\"suggestor-input \")\n",
    "designation.send_keys('Data Scientist')\n",
    "# it will send the keys without any manual input in the search bar\n",
    "location=driver.find_element(By.XPATH,\"/html/body/div[1]/div[2]/div[3]/div/div/div[5]/div/div/div/input\")\n",
    "location.send_keys('Bangalore')\n",
    "search=driver.find_element(By.CLASS_NAME,\"qsbSubmit\")\n",
    "search.click()"
   ]
  },
  {
   "cell_type": "code",
   "execution_count": 64,
   "id": "6a349624",
   "metadata": {},
   "outputs": [
    {
     "data": {
      "text/plain": [
       "['Analystics & Modeling Specialist',\n",
       " 'Job||Job Opening For AI Technologist - Data Scientist at Wipro Holmes',\n",
       " 'Urgent Job Opening For AI Practitioner - Data Science at Wipro Holmes',\n",
       " 'Assistant Manager - Data Science',\n",
       " 'Data scientist _Tata Consultancy Services(Tcs)',\n",
       " 'Data Science Senior Analyst',\n",
       " 'Hiring For DATA Scientist @ NTT DATA Business Solution India',\n",
       " 'Expert Data Scientist',\n",
       " 'Data Scientist - Full Stack',\n",
       " 'ACN - Applied Intelligence - C4DI - Sustainability - 09']"
      ]
     },
     "execution_count": 64,
     "metadata": {},
     "output_type": "execute_result"
    }
   ],
   "source": [
    "#for scraping job title\n",
    "job_title=[]\n",
    "title_tag=driver.find_elements(By.XPATH,\"//a[@class='title fw500 ellipsis']\")\n",
    "for i in title_tag[0:10]:\n",
    "    job_title.append(i.text)\n",
    "job_title"
   ]
  },
  {
   "cell_type": "code",
   "execution_count": 65,
   "id": "70b37e9f",
   "metadata": {},
   "outputs": [
    {
     "data": {
      "text/plain": [
       "['Bangalore/Bengaluru, Kolkata, Mumbai, Hyderabad/Secunderabad, Pune, Chennai, delhi ncr',\n",
       " 'Bangalore/Bengaluru, New Delhi, Hyderabad/Secunderabad, Pune, Chennai, Coimbatore, Cochin, Mumbai',\n",
       " 'Bangalore/Bengaluru, Kochi/Cochin, New Delhi, Coimbatore, Chennai, Pune, Mumbai, Hyderabad',\n",
       " 'Bangalore/Bengaluru, Mumbai, Pune',\n",
       " 'Bangalore/Bengaluru, Kochi/Cochin, Indore, New Delhi, Hyderabad/Secunderabad, Pune, Chennai, Delhi / NCR, Mumbai (All Areas)',\n",
       " 'Bangalore/Bengaluru, Kolkata, Mumbai, Hyderabad/Secunderabad, Pune, Chennai, delhi ncr',\n",
       " 'Bangalore/Bengaluru, Noida, Hyderabad/Secunderabad, Pune, Gurgaon/Gurugram, Chennai, Mumbai (All Areas)',\n",
       " 'Bangalore/Bengaluru, Mumbai',\n",
       " 'Bangalore/Bengaluru, Hyderabad/Secunderabad',\n",
       " 'Bangalore/Bengaluru']"
      ]
     },
     "execution_count": 65,
     "metadata": {},
     "output_type": "execute_result"
    }
   ],
   "source": [
    "#for scraping job location\n",
    "job_location=[]\n",
    "loc_tag=driver.find_elements(By.XPATH,\"//li[@class='fleft grey-text br2 placeHolderLi location']\")\n",
    "for i in loc_tag[0:10]:\n",
    "    job_location.append(i.text)\n",
    "job_location"
   ]
  },
  {
   "cell_type": "code",
   "execution_count": 68,
   "id": "172d0bb1",
   "metadata": {},
   "outputs": [
    {
     "data": {
      "text/plain": [
       "['Accenture',\n",
       " 'Wipro',\n",
       " 'Wipro',\n",
       " 'CitiusTech',\n",
       " 'TATA CONSULTANCY SERVICES (TCS)',\n",
       " 'Accenture',\n",
       " 'NTT DATA Business Solutions Private Limited',\n",
       " 'United Phosphorus Limited',\n",
       " 'Salesforce',\n",
       " 'Accenture']"
      ]
     },
     "execution_count": 68,
     "metadata": {},
     "output_type": "execute_result"
    }
   ],
   "source": [
    "#for scraping company name\n",
    "company=[]\n",
    "company_tag=driver.find_elements(By.XPATH,\"//a[@class='subTitle ellipsis fleft']\")\n",
    "for i in company_tag[0:10]:\n",
    "    company.append(i.text)\n",
    "company"
   ]
  },
  {
   "cell_type": "code",
   "execution_count": 69,
   "id": "b162eb5f",
   "metadata": {},
   "outputs": [
    {
     "data": {
      "text/plain": [
       "['6-8 Yrs',\n",
       " '5-10 Yrs',\n",
       " '11-20 Yrs',\n",
       " '5-9 Yrs',\n",
       " '9-14 Yrs',\n",
       " '2-5 Yrs',\n",
       " '4-9 Yrs',\n",
       " '6-11 Yrs',\n",
       " '4-9 Yrs',\n",
       " '4-6 Yrs']"
      ]
     },
     "execution_count": 69,
     "metadata": {},
     "output_type": "execute_result"
    }
   ],
   "source": [
    "#for scraping experience required\n",
    "experience=[]\n",
    "exp_tag=driver.find_elements(By.XPATH,\"//li[@class='fleft grey-text br2 placeHolderLi experience']//span\")\n",
    "for i in exp_tag[0:10]:\n",
    "    experience.append(i.text)\n",
    "experience"
   ]
  },
  {
   "cell_type": "code",
   "execution_count": 70,
   "id": "abbc60d5",
   "metadata": {},
   "outputs": [
    {
     "data": {
      "text/html": [
       "<div>\n",
       "<style scoped>\n",
       "    .dataframe tbody tr th:only-of-type {\n",
       "        vertical-align: middle;\n",
       "    }\n",
       "\n",
       "    .dataframe tbody tr th {\n",
       "        vertical-align: top;\n",
       "    }\n",
       "\n",
       "    .dataframe thead th {\n",
       "        text-align: right;\n",
       "    }\n",
       "</style>\n",
       "<table border=\"1\" class=\"dataframe\">\n",
       "  <thead>\n",
       "    <tr style=\"text-align: right;\">\n",
       "      <th></th>\n",
       "      <th>job title</th>\n",
       "      <th>job location</th>\n",
       "      <th>experience required</th>\n",
       "      <th>company name</th>\n",
       "    </tr>\n",
       "  </thead>\n",
       "  <tbody>\n",
       "    <tr>\n",
       "      <th>0</th>\n",
       "      <td>Analystics &amp; Modeling Specialist</td>\n",
       "      <td>Bangalore/Bengaluru, Kolkata, Mumbai, Hyderaba...</td>\n",
       "      <td>6-8 Yrs</td>\n",
       "      <td>Accenture</td>\n",
       "    </tr>\n",
       "    <tr>\n",
       "      <th>1</th>\n",
       "      <td>Job||Job Opening For AI Technologist - Data Sc...</td>\n",
       "      <td>Bangalore/Bengaluru, New Delhi, Hyderabad/Secu...</td>\n",
       "      <td>5-10 Yrs</td>\n",
       "      <td>Wipro</td>\n",
       "    </tr>\n",
       "    <tr>\n",
       "      <th>2</th>\n",
       "      <td>Urgent Job Opening For AI Practitioner - Data ...</td>\n",
       "      <td>Bangalore/Bengaluru, Kochi/Cochin, New Delhi, ...</td>\n",
       "      <td>11-20 Yrs</td>\n",
       "      <td>Wipro</td>\n",
       "    </tr>\n",
       "    <tr>\n",
       "      <th>3</th>\n",
       "      <td>Assistant Manager - Data Science</td>\n",
       "      <td>Bangalore/Bengaluru, Mumbai, Pune</td>\n",
       "      <td>5-9 Yrs</td>\n",
       "      <td>CitiusTech</td>\n",
       "    </tr>\n",
       "    <tr>\n",
       "      <th>4</th>\n",
       "      <td>Data scientist _Tata Consultancy Services(Tcs)</td>\n",
       "      <td>Bangalore/Bengaluru, Kochi/Cochin, Indore, New...</td>\n",
       "      <td>9-14 Yrs</td>\n",
       "      <td>TATA CONSULTANCY SERVICES (TCS)</td>\n",
       "    </tr>\n",
       "    <tr>\n",
       "      <th>5</th>\n",
       "      <td>Data Science Senior Analyst</td>\n",
       "      <td>Bangalore/Bengaluru, Kolkata, Mumbai, Hyderaba...</td>\n",
       "      <td>2-5 Yrs</td>\n",
       "      <td>Accenture</td>\n",
       "    </tr>\n",
       "    <tr>\n",
       "      <th>6</th>\n",
       "      <td>Hiring For DATA Scientist @ NTT DATA Business ...</td>\n",
       "      <td>Bangalore/Bengaluru, Noida, Hyderabad/Secunder...</td>\n",
       "      <td>4-9 Yrs</td>\n",
       "      <td>NTT DATA Business Solutions Private Limited</td>\n",
       "    </tr>\n",
       "    <tr>\n",
       "      <th>7</th>\n",
       "      <td>Expert Data Scientist</td>\n",
       "      <td>Bangalore/Bengaluru, Mumbai</td>\n",
       "      <td>6-11 Yrs</td>\n",
       "      <td>United Phosphorus Limited</td>\n",
       "    </tr>\n",
       "    <tr>\n",
       "      <th>8</th>\n",
       "      <td>Data Scientist - Full Stack</td>\n",
       "      <td>Bangalore/Bengaluru, Hyderabad/Secunderabad</td>\n",
       "      <td>4-9 Yrs</td>\n",
       "      <td>Salesforce</td>\n",
       "    </tr>\n",
       "    <tr>\n",
       "      <th>9</th>\n",
       "      <td>ACN - Applied Intelligence - C4DI - Sustainabi...</td>\n",
       "      <td>Bangalore/Bengaluru</td>\n",
       "      <td>4-6 Yrs</td>\n",
       "      <td>Accenture</td>\n",
       "    </tr>\n",
       "  </tbody>\n",
       "</table>\n",
       "</div>"
      ],
      "text/plain": [
       "                                           job title  \\\n",
       "0                   Analystics & Modeling Specialist   \n",
       "1  Job||Job Opening For AI Technologist - Data Sc...   \n",
       "2  Urgent Job Opening For AI Practitioner - Data ...   \n",
       "3                   Assistant Manager - Data Science   \n",
       "4     Data scientist _Tata Consultancy Services(Tcs)   \n",
       "5                        Data Science Senior Analyst   \n",
       "6  Hiring For DATA Scientist @ NTT DATA Business ...   \n",
       "7                              Expert Data Scientist   \n",
       "8                        Data Scientist - Full Stack   \n",
       "9  ACN - Applied Intelligence - C4DI - Sustainabi...   \n",
       "\n",
       "                                        job location experience required  \\\n",
       "0  Bangalore/Bengaluru, Kolkata, Mumbai, Hyderaba...             6-8 Yrs   \n",
       "1  Bangalore/Bengaluru, New Delhi, Hyderabad/Secu...            5-10 Yrs   \n",
       "2  Bangalore/Bengaluru, Kochi/Cochin, New Delhi, ...           11-20 Yrs   \n",
       "3                  Bangalore/Bengaluru, Mumbai, Pune             5-9 Yrs   \n",
       "4  Bangalore/Bengaluru, Kochi/Cochin, Indore, New...            9-14 Yrs   \n",
       "5  Bangalore/Bengaluru, Kolkata, Mumbai, Hyderaba...             2-5 Yrs   \n",
       "6  Bangalore/Bengaluru, Noida, Hyderabad/Secunder...             4-9 Yrs   \n",
       "7                        Bangalore/Bengaluru, Mumbai            6-11 Yrs   \n",
       "8        Bangalore/Bengaluru, Hyderabad/Secunderabad             4-9 Yrs   \n",
       "9                                Bangalore/Bengaluru             4-6 Yrs   \n",
       "\n",
       "                                  company name  \n",
       "0                                    Accenture  \n",
       "1                                        Wipro  \n",
       "2                                        Wipro  \n",
       "3                                   CitiusTech  \n",
       "4              TATA CONSULTANCY SERVICES (TCS)  \n",
       "5                                    Accenture  \n",
       "6  NTT DATA Business Solutions Private Limited  \n",
       "7                    United Phosphorus Limited  \n",
       "8                                   Salesforce  \n",
       "9                                    Accenture  "
      ]
     },
     "execution_count": 70,
     "metadata": {},
     "output_type": "execute_result"
    }
   ],
   "source": [
    "dfjob_data_scientist=pd.DataFrame({'job title':job_title,'job location':job_location,'experience required':experience,'company name':company})\n",
    "dfjob_data_scientist"
   ]
  },
  {
   "cell_type": "code",
   "execution_count": null,
   "id": "2e293361",
   "metadata": {},
   "outputs": [],
   "source": [
    "question 3: program to scrape data using filters on the webpage"
   ]
  },
  {
   "cell_type": "code",
   "execution_count": 431,
   "id": "4f6335d8",
   "metadata": {},
   "outputs": [],
   "source": [
    "# for creating an instance of the driver that would automate scrapping and intercation with the chrome\n",
    "driver=webdriver.Chrome(r\"chromedriver.exe\")\n",
    "driver.get('https://www.naukri.com/')"
   ]
  },
  {
   "cell_type": "code",
   "execution_count": 432,
   "id": "ca9ec2b0",
   "metadata": {},
   "outputs": [],
   "source": [
    "designation=driver.find_element(By.XPATH,\"/html/body/div[1]/div[2]/div[3]/div/div/div[1]/div/div/div/input\")\n",
    "designation.send_keys(\"“Data Scientist\")"
   ]
  },
  {
   "cell_type": "code",
   "execution_count": 433,
   "id": "2708ddb7",
   "metadata": {},
   "outputs": [],
   "source": [
    "#to scrape the XML path of location and then enter the page\n",
    "location=driver.find_element(By.XPATH,\"/html/body/div[1]/div[2]/div[3]/div/div/div[5]/div/div/div/input\")\n",
    "location.send_keys('Bangalore')\n",
    "search=driver.find_element(By.CLASS_NAME,\"qsbSubmit\")\n",
    "search.click()"
   ]
  },
  {
   "cell_type": "code",
   "execution_count": 434,
   "id": "d44b9f4b",
   "metadata": {},
   "outputs": [],
   "source": [
    "dr=driver.find_element(By.XPATH,\"/html/body/div[1]/div[3]/div[2]/section[1]/div[2]/div[3]/div[2]/div[1]/label/i\")"
   ]
  },
  {
   "cell_type": "code",
   "execution_count": 435,
   "id": "120b78e6",
   "metadata": {},
   "outputs": [],
   "source": [
    "dr.click()"
   ]
  },
  {
   "cell_type": "code",
   "execution_count": 436,
   "id": "6705025b",
   "metadata": {},
   "outputs": [],
   "source": [
    "driver.find_element(By.XPATH,\"/html/body/div[1]/div[3]/div[2]/section[1]/div[2]/div[9]/div[2]/div/label/i\").click()"
   ]
  },
  {
   "cell_type": "code",
   "execution_count": 437,
   "id": "96286387",
   "metadata": {},
   "outputs": [],
   "source": [
    "#for scraping job title\n",
    "job_title=[]\n",
    "title_tag=driver.find_elements(By.XPATH,\"//a[@class='title fw500 ellipsis']\")\n",
    "for i in title_tag[0:10]:\n",
    "    job_title.append(i.text)\n",
    "\n",
    "job_location=[]\n",
    "loc_tag=driver.find_elements(By.XPATH,\"//li[@class='fleft grey-text br2 placeHolderLi location']\")\n",
    "for i in loc_tag[0:10]:\n",
    "    job_location.append(i.text)\n",
    "\n",
    "company=[]\n",
    "company_tag=driver.find_elements(By.XPATH,\"//a[@class='subTitle ellipsis fleft']\")\n",
    "for i in company_tag[0:10]:\n",
    "    company.append(i.text)\n",
    "\n",
    "#for scraping experience required\n",
    "experience=[]\n",
    "exp_tag=driver.find_elements(By.XPATH,\"//li[@class='fleft grey-text br2 placeHolderLi experience']//span\")\n",
    "for i in exp_tag[0:10]:\n",
    "    experience.append(i.text)\n"
   ]
  },
  {
   "cell_type": "code",
   "execution_count": 438,
   "id": "7bd955b9",
   "metadata": {},
   "outputs": [
    {
     "data": {
      "text/html": [
       "<div>\n",
       "<style scoped>\n",
       "    .dataframe tbody tr th:only-of-type {\n",
       "        vertical-align: middle;\n",
       "    }\n",
       "\n",
       "    .dataframe tbody tr th {\n",
       "        vertical-align: top;\n",
       "    }\n",
       "\n",
       "    .dataframe thead th {\n",
       "        text-align: right;\n",
       "    }\n",
       "</style>\n",
       "<table border=\"1\" class=\"dataframe\">\n",
       "  <thead>\n",
       "    <tr style=\"text-align: right;\">\n",
       "      <th></th>\n",
       "      <th>job title</th>\n",
       "      <th>job location</th>\n",
       "      <th>experience required</th>\n",
       "      <th>company name</th>\n",
       "    </tr>\n",
       "  </thead>\n",
       "  <tbody>\n",
       "    <tr>\n",
       "      <th>0</th>\n",
       "      <td>Senior Data Scientist</td>\n",
       "      <td>Bangalore/Bengaluru</td>\n",
       "      <td>5-10 Yrs</td>\n",
       "      <td>SAP</td>\n",
       "    </tr>\n",
       "    <tr>\n",
       "      <th>1</th>\n",
       "      <td>Data Scientist Lead_Tata Consultancy Services(...</td>\n",
       "      <td>Bangalore/Bengaluru, Kolkata, Hyderabad/Secund...</td>\n",
       "      <td>8-12 Yrs</td>\n",
       "      <td>TATA CONSULTANCY SERVICES (TCS)</td>\n",
       "    </tr>\n",
       "    <tr>\n",
       "      <th>2</th>\n",
       "      <td>Senior Data Scientist - Machine Learning</td>\n",
       "      <td>Bangalore/Bengaluru, Kolkata, Mumbai, Hyderaba...</td>\n",
       "      <td>7-12 Yrs</td>\n",
       "      <td>Global Employees</td>\n",
       "    </tr>\n",
       "    <tr>\n",
       "      <th>3</th>\n",
       "      <td>DATA SCIENTIST/SR DATA SCIENTIST - Fintech</td>\n",
       "      <td>Bangalore/Bengaluru</td>\n",
       "      <td>2-6 Yrs</td>\n",
       "      <td>Connexions</td>\n",
       "    </tr>\n",
       "    <tr>\n",
       "      <th>4</th>\n",
       "      <td>Data Scientist</td>\n",
       "      <td>Bangalore/Bengaluru</td>\n",
       "      <td>8-12 Yrs</td>\n",
       "      <td>IBM</td>\n",
       "    </tr>\n",
       "    <tr>\n",
       "      <th>5</th>\n",
       "      <td>Principal Data Scientist</td>\n",
       "      <td>Bangalore/Bengaluru</td>\n",
       "      <td>7-12 Yrs</td>\n",
       "      <td>F5 WEB SOLUTIONS</td>\n",
       "    </tr>\n",
       "    <tr>\n",
       "      <th>6</th>\n",
       "      <td>Data Scientist</td>\n",
       "      <td>Bangalore/Bengaluru, Mumbai (All Areas)</td>\n",
       "      <td>4-9 Yrs</td>\n",
       "      <td>Exponentia DataLabs</td>\n",
       "    </tr>\n",
       "    <tr>\n",
       "      <th>7</th>\n",
       "      <td>Data Scientist</td>\n",
       "      <td>Bangalore/Bengaluru, Pune</td>\n",
       "      <td>3-8 Yrs</td>\n",
       "      <td>Orcapod Consulting Services Private Limited</td>\n",
       "    </tr>\n",
       "    <tr>\n",
       "      <th>8</th>\n",
       "      <td>Senior Data Scientist / ML Engineer (PAN India)</td>\n",
       "      <td>Bangalore/Bengaluru, Pune, Delhi / NCR</td>\n",
       "      <td>5-10 Yrs</td>\n",
       "      <td>TATA CONSULTANCY SERVICES (TCS)</td>\n",
       "    </tr>\n",
       "    <tr>\n",
       "      <th>9</th>\n",
       "      <td>Senior Data Scientist</td>\n",
       "      <td>Bangalore/Bengaluru, Mumbai, Hyderabad/Secunde...</td>\n",
       "      <td>10-15 Yrs</td>\n",
       "      <td>Amazon</td>\n",
       "    </tr>\n",
       "  </tbody>\n",
       "</table>\n",
       "</div>"
      ],
      "text/plain": [
       "                                           job title  \\\n",
       "0                              Senior Data Scientist   \n",
       "1  Data Scientist Lead_Tata Consultancy Services(...   \n",
       "2           Senior Data Scientist - Machine Learning   \n",
       "3         DATA SCIENTIST/SR DATA SCIENTIST - Fintech   \n",
       "4                                     Data Scientist   \n",
       "5                           Principal Data Scientist   \n",
       "6                                     Data Scientist   \n",
       "7                                     Data Scientist   \n",
       "8    Senior Data Scientist / ML Engineer (PAN India)   \n",
       "9                              Senior Data Scientist   \n",
       "\n",
       "                                        job location experience required  \\\n",
       "0                                Bangalore/Bengaluru            5-10 Yrs   \n",
       "1  Bangalore/Bengaluru, Kolkata, Hyderabad/Secund...            8-12 Yrs   \n",
       "2  Bangalore/Bengaluru, Kolkata, Mumbai, Hyderaba...            7-12 Yrs   \n",
       "3                                Bangalore/Bengaluru             2-6 Yrs   \n",
       "4                                Bangalore/Bengaluru            8-12 Yrs   \n",
       "5                                Bangalore/Bengaluru            7-12 Yrs   \n",
       "6            Bangalore/Bengaluru, Mumbai (All Areas)             4-9 Yrs   \n",
       "7                          Bangalore/Bengaluru, Pune             3-8 Yrs   \n",
       "8             Bangalore/Bengaluru, Pune, Delhi / NCR            5-10 Yrs   \n",
       "9  Bangalore/Bengaluru, Mumbai, Hyderabad/Secunde...           10-15 Yrs   \n",
       "\n",
       "                                  company name  \n",
       "0                                          SAP  \n",
       "1              TATA CONSULTANCY SERVICES (TCS)  \n",
       "2                             Global Employees  \n",
       "3                                   Connexions  \n",
       "4                                          IBM  \n",
       "5                             F5 WEB SOLUTIONS  \n",
       "6                          Exponentia DataLabs  \n",
       "7  Orcapod Consulting Services Private Limited  \n",
       "8              TATA CONSULTANCY SERVICES (TCS)  \n",
       "9                                       Amazon  "
      ]
     },
     "execution_count": 438,
     "metadata": {},
     "output_type": "execute_result"
    }
   ],
   "source": [
    "dfjob_data_scientist_filter=pd.DataFrame({'job title':job_title,'job location':job_location,'experience required':experience,'company name':company})\n",
    "dfjob_data_scientist_filter"
   ]
  },
  {
   "cell_type": "markdown",
   "id": "018e7167",
   "metadata": {},
   "source": [
    "Question 4:"
   ]
  },
  {
   "cell_type": "code",
   "execution_count": 110,
   "id": "661728a1",
   "metadata": {},
   "outputs": [],
   "source": [
    "driver=webdriver.Chrome(r\"chromedriver.exe\")\n",
    "driver.get(\"https://www.flipkart.com/\")"
   ]
  },
  {
   "cell_type": "code",
   "execution_count": 111,
   "id": "3112ea2e",
   "metadata": {},
   "outputs": [],
   "source": [
    "product=driver.find_element(By.XPATH,\"/html/body/div[1]/div/div[1]/div[1]/div[2]/div[2]/form/div/div/input\")\n",
    "product.send_keys(\"sunglasses\")"
   ]
  },
  {
   "cell_type": "code",
   "execution_count": 112,
   "id": "fa957510",
   "metadata": {},
   "outputs": [],
   "source": [
    "search=driver.find_element(By.XPATH,\"/html/body/div[1]/div/div[1]/div[1]/div[2]/div[2]/form/div/button\")\n",
    "search.click()"
   ]
  },
  {
   "cell_type": "code",
   "execution_count": 113,
   "id": "d6243a5d",
   "metadata": {},
   "outputs": [],
   "source": [
    "l=0\n",
    "brand=[]\n",
    "price=[]\n",
    "discount=[]\n",
    "description=[]\n",
    "while l<3:\n",
    "   \n",
    "    # to scrape the brand name\n",
    "    brandtag=driver.find_elements(By.XPATH,\"//div[@class='_2WkVRV']\")\n",
    "\n",
    "    for i in brandtag:\n",
    "        brand.append(i.text.split())\n",
    "\n",
    "        \n",
    "    # to scrape the price \n",
    "    pricetag=driver.find_elements(By.XPATH,\"//div[@class='_30jeq3']\")\n",
    "\n",
    "    for i in pricetag:\n",
    "        price.append(i.text.split())\n",
    " \n",
    "     #to scrape discount on the items\n",
    "    discounttag=driver.find_elements(By.XPATH,\"//div[@class='_3Ay6Sb']//span\")\n",
    "\n",
    "    for i in discounttag:\n",
    "        discount.append(i.text.split())\n",
    "\n",
    "    \n",
    "# to scrape description of items\n",
    "    descriptiontag=driver.find_elements(By.XPATH,\"//a[@class='IRpwTa']\")\n",
    "    for i in descriptiontag:\n",
    "        description.append(i.text.split())\n",
    "   \n",
    "    l=l+1\n",
    "    nextbutton=driver.find_element(By.XPATH,\"/html/body/div[1]/div/div[3]/div[1]/div[2]/div[12]/div/div/nav/a[11]\").click()\n",
    "    time.sleep(1)\n",
    "    \n"
   ]
  },
  {
   "cell_type": "code",
   "execution_count": 118,
   "id": "094f3f5f",
   "metadata": {},
   "outputs": [
    {
     "data": {
      "text/html": [
       "<div>\n",
       "<style scoped>\n",
       "    .dataframe tbody tr th:only-of-type {\n",
       "        vertical-align: middle;\n",
       "    }\n",
       "\n",
       "    .dataframe tbody tr th {\n",
       "        vertical-align: top;\n",
       "    }\n",
       "\n",
       "    .dataframe thead th {\n",
       "        text-align: right;\n",
       "    }\n",
       "</style>\n",
       "<table border=\"1\" class=\"dataframe\">\n",
       "  <thead>\n",
       "    <tr style=\"text-align: right;\">\n",
       "      <th></th>\n",
       "      <th>brand</th>\n",
       "      <th>price</th>\n",
       "      <th>discount</th>\n",
       "      <th>description</th>\n",
       "    </tr>\n",
       "  </thead>\n",
       "  <tbody>\n",
       "    <tr>\n",
       "      <th>0</th>\n",
       "      <td>[Fastrack]</td>\n",
       "      <td>[₹359]</td>\n",
       "      <td>[55%, off]</td>\n",
       "      <td>[UV, Protection, Wayfarer, Sunglasses, (Free, ...</td>\n",
       "    </tr>\n",
       "    <tr>\n",
       "      <th>1</th>\n",
       "      <td>[Fastrack]</td>\n",
       "      <td>[₹599]</td>\n",
       "      <td>[25%, off]</td>\n",
       "      <td>[UV, Protection, Wayfarer, Sunglasses, (Free, ...</td>\n",
       "    </tr>\n",
       "    <tr>\n",
       "      <th>2</th>\n",
       "      <td>[Fastrack]</td>\n",
       "      <td>[₹749]</td>\n",
       "      <td>[25%, off]</td>\n",
       "      <td>[UV, Protection, Wayfarer, Sunglasses, (Free, ...</td>\n",
       "    </tr>\n",
       "    <tr>\n",
       "      <th>3</th>\n",
       "      <td>[Fastrack]</td>\n",
       "      <td>[₹599]</td>\n",
       "      <td>[25%, off]</td>\n",
       "      <td>[UV, Protection, Rectangular, Sunglasses, (Fre...</td>\n",
       "    </tr>\n",
       "    <tr>\n",
       "      <th>4</th>\n",
       "      <td>[PHENOMENAL]</td>\n",
       "      <td>[₹252]</td>\n",
       "      <td>[74%, off]</td>\n",
       "      <td>[UV, Protection, Retro, Square, Sunglasses, (53)]</td>\n",
       "    </tr>\n",
       "    <tr>\n",
       "      <th>...</th>\n",
       "      <td>...</td>\n",
       "      <td>...</td>\n",
       "      <td>...</td>\n",
       "      <td>...</td>\n",
       "    </tr>\n",
       "    <tr>\n",
       "      <th>95</th>\n",
       "      <td>[EYELLUSION]</td>\n",
       "      <td>[₹220]</td>\n",
       "      <td>[83%, off]</td>\n",
       "      <td>[UV, Protection,, Gradient,, Riding, Glasses, ...</td>\n",
       "    </tr>\n",
       "    <tr>\n",
       "      <th>96</th>\n",
       "      <td>[elegante]</td>\n",
       "      <td>[₹179]</td>\n",
       "      <td>[82%, off]</td>\n",
       "      <td>[UV, Protection, Over-sized, Sunglasses, (Free...</td>\n",
       "    </tr>\n",
       "    <tr>\n",
       "      <th>97</th>\n",
       "      <td>[AISLIN]</td>\n",
       "      <td>[₹443]</td>\n",
       "      <td>[73%, off]</td>\n",
       "      <td>[UV, Protection,, Gradient, Wayfarer,, Retro, ...</td>\n",
       "    </tr>\n",
       "    <tr>\n",
       "      <th>98</th>\n",
       "      <td>[DEIXELS]</td>\n",
       "      <td>[₹236]</td>\n",
       "      <td>[52%, off]</td>\n",
       "      <td>[UV, Protection, Wayfarer, Sunglasses, (Free, ...</td>\n",
       "    </tr>\n",
       "    <tr>\n",
       "      <th>99</th>\n",
       "      <td>[VINCENT, CHASE]</td>\n",
       "      <td>[₹999]</td>\n",
       "      <td>[50%, off]</td>\n",
       "      <td>[by, Lenskart, UV, Protection, Round, Sunglass...</td>\n",
       "    </tr>\n",
       "  </tbody>\n",
       "</table>\n",
       "<p>100 rows × 4 columns</p>\n",
       "</div>"
      ],
      "text/plain": [
       "               brand   price    discount  \\\n",
       "0         [Fastrack]  [₹359]  [55%, off]   \n",
       "1         [Fastrack]  [₹599]  [25%, off]   \n",
       "2         [Fastrack]  [₹749]  [25%, off]   \n",
       "3         [Fastrack]  [₹599]  [25%, off]   \n",
       "4       [PHENOMENAL]  [₹252]  [74%, off]   \n",
       "..               ...     ...         ...   \n",
       "95      [EYELLUSION]  [₹220]  [83%, off]   \n",
       "96        [elegante]  [₹179]  [82%, off]   \n",
       "97          [AISLIN]  [₹443]  [73%, off]   \n",
       "98         [DEIXELS]  [₹236]  [52%, off]   \n",
       "99  [VINCENT, CHASE]  [₹999]  [50%, off]   \n",
       "\n",
       "                                          description  \n",
       "0   [UV, Protection, Wayfarer, Sunglasses, (Free, ...  \n",
       "1   [UV, Protection, Wayfarer, Sunglasses, (Free, ...  \n",
       "2   [UV, Protection, Wayfarer, Sunglasses, (Free, ...  \n",
       "3   [UV, Protection, Rectangular, Sunglasses, (Fre...  \n",
       "4   [UV, Protection, Retro, Square, Sunglasses, (53)]  \n",
       "..                                                ...  \n",
       "95  [UV, Protection,, Gradient,, Riding, Glasses, ...  \n",
       "96  [UV, Protection, Over-sized, Sunglasses, (Free...  \n",
       "97  [UV, Protection,, Gradient, Wayfarer,, Retro, ...  \n",
       "98  [UV, Protection, Wayfarer, Sunglasses, (Free, ...  \n",
       "99  [by, Lenskart, UV, Protection, Round, Sunglass...  \n",
       "\n",
       "[100 rows x 4 columns]"
      ]
     },
     "execution_count": 118,
     "metadata": {},
     "output_type": "execute_result"
    }
   ],
   "source": [
    "df_sunglasses=pd.DataFrame({'brand':brand,'price':price,'discount':discount,'description':description})\n",
    "df_sunglasses=df_sunglasses.head(100)\n",
    "df_sunglasses"
   ]
  },
  {
   "cell_type": "code",
   "execution_count": null,
   "id": "5fbb2407",
   "metadata": {},
   "outputs": [],
   "source": [
    "Question 5: "
   ]
  },
  {
   "cell_type": "code",
   "execution_count": 260,
   "id": "0d4652ca",
   "metadata": {},
   "outputs": [],
   "source": [
    "# to enter flipkart website\n",
    "driver=webdriver.Chrome(r\"chromedriver.exe\")\n",
    "driver.get('https://www.flipkart.com/')"
   ]
  },
  {
   "cell_type": "code",
   "execution_count": 261,
   "id": "0e80261b",
   "metadata": {},
   "outputs": [],
   "source": [
    "# to search the product\n",
    "product_search=driver.find_element(By.XPATH,\"/html/body/div[1]/div/div[1]/div[1]/div[2]/div[2]/form/div/div/input\")\n",
    "product_search.send_keys ('iphone11')\n",
    " "
   ]
  },
  {
   "cell_type": "code",
   "execution_count": 262,
   "id": "4cbd83ef",
   "metadata": {},
   "outputs": [],
   "source": [
    "# for clicking the search button\n",
    "button=driver.find_element(By.XPATH,\"/html/body/div[1]/div/div[1]/div[1]/div[2]/div[2]/form/div/button\")\n",
    "button.click()"
   ]
  },
  {
   "cell_type": "code",
   "execution_count": 263,
   "id": "eb63c614",
   "metadata": {},
   "outputs": [],
   "source": [
    "# it will take to the page which contains all product information\n",
    "prod_search=driver.find_element(By.XPATH,\"/html/body/div[1]/div/div[3]/div[1]/div[2]/div[2]/div/div/div/a/div[2]/div[1]/div[1]\")\n",
    "prod_search.click()"
   ]
  },
  {
   "cell_type": "code",
   "execution_count": 264,
   "id": "d3157156",
   "metadata": {},
   "outputs": [],
   "source": [
    "# it is the link of the All Review page\n",
    "review_link=\"/apple-iphone-11-white-64-gb/product-reviews/itmfc6a7091eb20b?pid=MOBFWQ6BVWVEH3XE&lid=LSTMOBFWQ6BVWVEH3XEMXQMLO&marketplace=FLIPKART\""
   ]
  },
  {
   "cell_type": "code",
   "execution_count": 265,
   "id": "569908c4",
   "metadata": {},
   "outputs": [],
   "source": [
    "# to enter the all review webpage\n",
    "review_url=('https://www.flipkart.com'+review_link)"
   ]
  },
  {
   "cell_type": "code",
   "execution_count": 266,
   "id": "59e65c45",
   "metadata": {},
   "outputs": [],
   "source": [
    "# this will take the driver to the All review page\n",
    "driver.get(review_url)"
   ]
  },
  {
   "cell_type": "code",
   "execution_count": 269,
   "id": "a6cdd2ec",
   "metadata": {},
   "outputs": [],
   "source": [
    "rating=[]\n",
    "summary=[]\n",
    "review=[]\n",
    "x=0\n",
    "while x<20:\n",
    "    \n",
    "  # to scrape the rating of the review\n",
    "  \n",
    "    rating_tab=driver.find_elements(By.XPATH,'//div[@class=\"_3LWZlK _1BLPMq\"]')\n",
    "    for i in rating_tab:\n",
    "        rating.append(i.text)\n",
    "    \n",
    "    # to scrape the review summary\n",
    "    \n",
    "    summary_tab=driver.find_elements(By.XPATH,'//p[@class=\"_2-N8zT\"]')\n",
    "    for i in summary_tab:\n",
    "        summary.append(i.text)\n",
    "  \n",
    " # to scrape the full review \n",
    "    review_tab=driver.find_elements(By.XPATH,'//div[@class=\"t-ZTKy\"]')\n",
    "    for i in review_tab:\n",
    "        review.append(i.text)\n",
    "    \n",
    "    x=x+1\n",
    "    #to move across the review pages\n",
    "    driver.get(str(review_url)+\"&page\"+str(i))\n",
    "    time.sleep(3)\n",
    "    "
   ]
  },
  {
   "cell_type": "code",
   "execution_count": 272,
   "id": "7e9bab4f",
   "metadata": {},
   "outputs": [
    {
     "data": {
      "text/plain": [
       "200"
      ]
     },
     "execution_count": 272,
     "metadata": {},
     "output_type": "execute_result"
    }
   ],
   "source": [
    "len(summary)"
   ]
  },
  {
   "cell_type": "code",
   "execution_count": 275,
   "id": "f057f630",
   "metadata": {},
   "outputs": [
    {
     "data": {
      "text/html": [
       "<div>\n",
       "<style scoped>\n",
       "    .dataframe tbody tr th:only-of-type {\n",
       "        vertical-align: middle;\n",
       "    }\n",
       "\n",
       "    .dataframe tbody tr th {\n",
       "        vertical-align: top;\n",
       "    }\n",
       "\n",
       "    .dataframe thead th {\n",
       "        text-align: right;\n",
       "    }\n",
       "</style>\n",
       "<table border=\"1\" class=\"dataframe\">\n",
       "  <thead>\n",
       "    <tr style=\"text-align: right;\">\n",
       "      <th></th>\n",
       "      <th>Rating</th>\n",
       "      <th>Summary of Review</th>\n",
       "      <th>Full review</th>\n",
       "    </tr>\n",
       "  </thead>\n",
       "  <tbody>\n",
       "    <tr>\n",
       "      <th>0</th>\n",
       "      <td>5</td>\n",
       "      <td>Simply awesome</td>\n",
       "      <td>Really satisfied with the Product I received.....</td>\n",
       "    </tr>\n",
       "    <tr>\n",
       "      <th>1</th>\n",
       "      <td>5</td>\n",
       "      <td>Perfect product!</td>\n",
       "      <td>Amazing phone with great cameras and better ba...</td>\n",
       "    </tr>\n",
       "    <tr>\n",
       "      <th>2</th>\n",
       "      <td>5</td>\n",
       "      <td>Best in the market!</td>\n",
       "      <td>Great iPhone very snappy experience as apple k...</td>\n",
       "    </tr>\n",
       "    <tr>\n",
       "      <th>3</th>\n",
       "      <td>5</td>\n",
       "      <td>Highly recommended</td>\n",
       "      <td>What a camera .....just awesome ..you can feel...</td>\n",
       "    </tr>\n",
       "    <tr>\n",
       "      <th>4</th>\n",
       "      <td>5</td>\n",
       "      <td>Worth every penny</td>\n",
       "      <td>Previously I was using one plus 3t it was a gr...</td>\n",
       "    </tr>\n",
       "    <tr>\n",
       "      <th>...</th>\n",
       "      <td>...</td>\n",
       "      <td>...</td>\n",
       "      <td>...</td>\n",
       "    </tr>\n",
       "    <tr>\n",
       "      <th>95</th>\n",
       "      <td>5</td>\n",
       "      <td>Fabulous!</td>\n",
       "      <td>This is my first iOS phone. I am very happy wi...</td>\n",
       "    </tr>\n",
       "    <tr>\n",
       "      <th>96</th>\n",
       "      <td>5</td>\n",
       "      <td>Great product</td>\n",
       "      <td>Amazing Powerful and Durable Gadget.\\n\\nI’m am...</td>\n",
       "    </tr>\n",
       "    <tr>\n",
       "      <th>97</th>\n",
       "      <td>5</td>\n",
       "      <td>Worth every penny</td>\n",
       "      <td>i11 is worthy to buy, too much happy with the ...</td>\n",
       "    </tr>\n",
       "    <tr>\n",
       "      <th>98</th>\n",
       "      <td>5</td>\n",
       "      <td>Highly recommended</td>\n",
       "      <td>It's my first time to use iOS phone and I am l...</td>\n",
       "    </tr>\n",
       "    <tr>\n",
       "      <th>99</th>\n",
       "      <td>4</td>\n",
       "      <td>Good choice</td>\n",
       "      <td>So far it’s been an AMAZING experience coming ...</td>\n",
       "    </tr>\n",
       "  </tbody>\n",
       "</table>\n",
       "<p>100 rows × 3 columns</p>\n",
       "</div>"
      ],
      "text/plain": [
       "   Rating    Summary of Review  \\\n",
       "0       5       Simply awesome   \n",
       "1       5     Perfect product!   \n",
       "2       5  Best in the market!   \n",
       "3       5   Highly recommended   \n",
       "4       5    Worth every penny   \n",
       "..    ...                  ...   \n",
       "95      5            Fabulous!   \n",
       "96      5        Great product   \n",
       "97      5    Worth every penny   \n",
       "98      5   Highly recommended   \n",
       "99      4          Good choice   \n",
       "\n",
       "                                          Full review  \n",
       "0   Really satisfied with the Product I received.....  \n",
       "1   Amazing phone with great cameras and better ba...  \n",
       "2   Great iPhone very snappy experience as apple k...  \n",
       "3   What a camera .....just awesome ..you can feel...  \n",
       "4   Previously I was using one plus 3t it was a gr...  \n",
       "..                                                ...  \n",
       "95  This is my first iOS phone. I am very happy wi...  \n",
       "96  Amazing Powerful and Durable Gadget.\\n\\nI’m am...  \n",
       "97  i11 is worthy to buy, too much happy with the ...  \n",
       "98  It's my first time to use iOS phone and I am l...  \n",
       "99  So far it’s been an AMAZING experience coming ...  \n",
       "\n",
       "[100 rows x 3 columns]"
      ]
     },
     "execution_count": 275,
     "metadata": {},
     "output_type": "execute_result"
    }
   ],
   "source": [
    "df_iphone11=pd.DataFrame({'Rating':rating,'Summary of Review':summary,'Full review':review})\n",
    "df_iphone11=df_iphone11.head(100)\n",
    "df_iphone11"
   ]
  },
  {
   "cell_type": "code",
   "execution_count": null,
   "id": "0ca3770a",
   "metadata": {},
   "outputs": [],
   "source": []
  },
  {
   "cell_type": "markdown",
   "id": "9b4b9df0",
   "metadata": {},
   "source": [
    "Question 6:"
   ]
  },
  {
   "cell_type": "code",
   "execution_count": 91,
   "id": "3ab1ebaa",
   "metadata": {},
   "outputs": [],
   "source": [
    "driver=webdriver.Chrome(r\"chromedriver.exe\")\n",
    "driver.get('https://www.flipkart.com/')\n"
   ]
  },
  {
   "cell_type": "code",
   "execution_count": 92,
   "id": "74974198",
   "metadata": {},
   "outputs": [],
   "source": [
    "product_search=driver.find_element(By.XPATH,\"/html/body/div[1]/div/div[1]/div[1]/div[2]/div[2]/form/div/div/input\")\n",
    "product_search.send_keys (\"sneakers\")\n",
    "button=driver.find_element(By.XPATH,\"/html/body/div[1]/div/div[1]/div[1]/div[2]/div[2]/form/div/button\")\n",
    "button.click()"
   ]
  },
  {
   "cell_type": "code",
   "execution_count": 93,
   "id": "77007e8e",
   "metadata": {},
   "outputs": [],
   "source": [
    "p=0\n",
    "brand=[]\n",
    "prod_des=[]\n",
    "price=[]\n",
    "\n",
    "while p<3:\n",
    "    #to scrape brand names\n",
    "    brandtag=driver.find_elements(By.XPATH,'//div[@class=\"_2WkVRV\"]')\n",
    "    for i in brandtag:\n",
    "        brand.append(i.text.split())\n",
    "    #to scrape product descriptions\n",
    "    prodtag=driver.find_elements(By.XPATH,\"//a[@class='IRpwTa' or @class='IRpwTa _2-ICcC']\")      \n",
    "    for i in prodtag:\n",
    "        prod_des.append(i.text.split())\n",
    "    # to scrape the price of the products\n",
    "    pricetag=driver.find_elements(By.XPATH,'//div[@class=\"_30jeq3\"]')\n",
    "    for i in pricetag:\n",
    "        price.append(i.text.split())\n",
    "    p=p+1\n",
    "    nextbtn=driver.find_element(By.CLASS_NAME,\"_1LKTO3\").click()\n",
    "    time.sleep(1)"
   ]
  },
  {
   "cell_type": "code",
   "execution_count": 95,
   "id": "0d2fe77e",
   "metadata": {},
   "outputs": [
    {
     "data": {
      "text/html": [
       "<div>\n",
       "<style scoped>\n",
       "    .dataframe tbody tr th:only-of-type {\n",
       "        vertical-align: middle;\n",
       "    }\n",
       "\n",
       "    .dataframe tbody tr th {\n",
       "        vertical-align: top;\n",
       "    }\n",
       "\n",
       "    .dataframe thead th {\n",
       "        text-align: right;\n",
       "    }\n",
       "</style>\n",
       "<table border=\"1\" class=\"dataframe\">\n",
       "  <thead>\n",
       "    <tr style=\"text-align: right;\">\n",
       "      <th></th>\n",
       "      <th>brand name</th>\n",
       "      <th>price</th>\n",
       "      <th>prodct description</th>\n",
       "    </tr>\n",
       "  </thead>\n",
       "  <tbody>\n",
       "    <tr>\n",
       "      <th>0</th>\n",
       "      <td>[Nilatin]</td>\n",
       "      <td>[₹499]</td>\n",
       "      <td>[Sneakers, For, Men]</td>\n",
       "    </tr>\n",
       "    <tr>\n",
       "      <th>1</th>\n",
       "      <td>[Robbie, jones]</td>\n",
       "      <td>[₹599]</td>\n",
       "      <td>[Casual, Sneakers, Black, Outdoor, Shoes, For,...</td>\n",
       "    </tr>\n",
       "    <tr>\n",
       "      <th>2</th>\n",
       "      <td>[Layasa]</td>\n",
       "      <td>[₹199]</td>\n",
       "      <td>[supr, Sneakers, For, Men]</td>\n",
       "    </tr>\n",
       "    <tr>\n",
       "      <th>3</th>\n",
       "      <td>[Layasa]</td>\n",
       "      <td>[₹398]</td>\n",
       "      <td>[Sneakers, For, Men]</td>\n",
       "    </tr>\n",
       "    <tr>\n",
       "      <th>4</th>\n",
       "      <td>[Layasa]</td>\n",
       "      <td>[₹249]</td>\n",
       "      <td>[supr, Sneakers, For, Men]</td>\n",
       "    </tr>\n",
       "    <tr>\n",
       "      <th>...</th>\n",
       "      <td>...</td>\n",
       "      <td>...</td>\n",
       "      <td>...</td>\n",
       "    </tr>\n",
       "    <tr>\n",
       "      <th>95</th>\n",
       "      <td>[ROCKFIELD]</td>\n",
       "      <td>[₹509]</td>\n",
       "      <td>[Sneakers, For, Men]</td>\n",
       "    </tr>\n",
       "    <tr>\n",
       "      <th>96</th>\n",
       "      <td>[LEVI'S]</td>\n",
       "      <td>[₹1,439]</td>\n",
       "      <td>[Levi's, Men's, Lancer, Sneakers, Sneakers, Fo...</td>\n",
       "    </tr>\n",
       "    <tr>\n",
       "      <th>97</th>\n",
       "      <td>[Chevit]</td>\n",
       "      <td>[₹544]</td>\n",
       "      <td>[Super, Stylish, &amp;, Trendy, Combo, Pack, of, 0...</td>\n",
       "    </tr>\n",
       "    <tr>\n",
       "      <th>98</th>\n",
       "      <td>[aadi]</td>\n",
       "      <td>[₹351]</td>\n",
       "      <td>[Sneakers, For, Men]</td>\n",
       "    </tr>\n",
       "    <tr>\n",
       "      <th>99</th>\n",
       "      <td>[Red, Rose]</td>\n",
       "      <td>[₹499]</td>\n",
       "      <td>[Sneakers, For, Men]</td>\n",
       "    </tr>\n",
       "  </tbody>\n",
       "</table>\n",
       "<p>100 rows × 3 columns</p>\n",
       "</div>"
      ],
      "text/plain": [
       "         brand name     price  \\\n",
       "0         [Nilatin]    [₹499]   \n",
       "1   [Robbie, jones]    [₹599]   \n",
       "2          [Layasa]    [₹199]   \n",
       "3          [Layasa]    [₹398]   \n",
       "4          [Layasa]    [₹249]   \n",
       "..              ...       ...   \n",
       "95      [ROCKFIELD]    [₹509]   \n",
       "96         [LEVI'S]  [₹1,439]   \n",
       "97         [Chevit]    [₹544]   \n",
       "98           [aadi]    [₹351]   \n",
       "99      [Red, Rose]    [₹499]   \n",
       "\n",
       "                                   prodct description  \n",
       "0                                [Sneakers, For, Men]  \n",
       "1   [Casual, Sneakers, Black, Outdoor, Shoes, For,...  \n",
       "2                          [supr, Sneakers, For, Men]  \n",
       "3                                [Sneakers, For, Men]  \n",
       "4                          [supr, Sneakers, For, Men]  \n",
       "..                                                ...  \n",
       "95                               [Sneakers, For, Men]  \n",
       "96  [Levi's, Men's, Lancer, Sneakers, Sneakers, Fo...  \n",
       "97  [Super, Stylish, &, Trendy, Combo, Pack, of, 0...  \n",
       "98                               [Sneakers, For, Men]  \n",
       "99                               [Sneakers, For, Men]  \n",
       "\n",
       "[100 rows x 3 columns]"
      ]
     },
     "execution_count": 95,
     "metadata": {},
     "output_type": "execute_result"
    }
   ],
   "source": [
    "df_sneakers=pd.DataFrame({'brand name':brand,'price':price,'prodct description':prod_des})\n",
    "df_sneakers=df_sneakers.head(100)\n",
    "df_sneakers"
   ]
  },
  {
   "cell_type": "code",
   "execution_count": null,
   "id": "02753fb3",
   "metadata": {},
   "outputs": [],
   "source": [
    "Question 7:"
   ]
  },
  {
   "cell_type": "code",
   "execution_count": 346,
   "id": "f2ac7bd5",
   "metadata": {},
   "outputs": [],
   "source": [
    "driver=webdriver.Chrome(r\"chromedriver.exe\")\n",
    "driver.get('https://www.myntra.com/shoes')"
   ]
  },
  {
   "cell_type": "code",
   "execution_count": 348,
   "id": "59c32f4c",
   "metadata": {},
   "outputs": [],
   "source": [
    "search_price=driver.find_element(By.XPATH,\"/html/body/div[2]/div/div[1]/main/div[3]/div[1]/section/div/div[5]/ul/li[2]/label/div\")\n",
    "search_price.click()"
   ]
  },
  {
   "cell_type": "code",
   "execution_count": 84,
   "id": "a2614080",
   "metadata": {},
   "outputs": [],
   "source": [
    "nextbtn=driver.find_element(By.CLASS_NAME,\"_1LKTO3\")\n",
    "nextbtn.click()    "
   ]
  },
  {
   "cell_type": "code",
   "execution_count": 82,
   "id": "98ca3d97",
   "metadata": {},
   "outputs": [],
   "source": [
    "price=[]\n",
    "pricetag=driver.find_elements(By.XPATH,'//div[@class=\"_30jeq3\"]')\n",
    "for i in pricetag:\n",
    "    price.append(i.text.split())"
   ]
  },
  {
   "cell_type": "code",
   "execution_count": null,
   "id": "7b4bc148",
   "metadata": {},
   "outputs": [],
   "source": []
  },
  {
   "cell_type": "code",
   "execution_count": null,
   "id": "b662896a",
   "metadata": {},
   "outputs": [],
   "source": [
    "Question 8:"
   ]
  },
  {
   "cell_type": "code",
   "execution_count": 4,
   "id": "97c764e4",
   "metadata": {},
   "outputs": [],
   "source": [
    "driver=webdriver.Chrome(r\"chromedriver.exe\")\n",
    "driver.get('https://www.amazon.in/')\n"
   ]
  },
  {
   "cell_type": "code",
   "execution_count": 5,
   "id": "0074bea7",
   "metadata": {},
   "outputs": [],
   "source": [
    "prod_search=driver.find_element(By.XPATH,\"/html/body/div[1]/header/div/div[1]/div[2]/div/form/div[2]/div[1]/input\")\n",
    "prod_search.send_keys('Laptop')\n",
    "searchbtn=driver.find_element(By.XPATH,\"/html/body/div[1]/header/div/div[1]/div[2]/div/form/div[3]/div/span/input\").click()"
   ]
  },
  {
   "cell_type": "code",
   "execution_count": 6,
   "id": "f518e486",
   "metadata": {},
   "outputs": [],
   "source": [
    "filter=driver.find_element(By.XPATH,'/html/body/div[1]/div[2]/div[1]/div[2]/div/div[3]/span/div[1]/div/div/div[5]/ul[4]/li[14]/span/a/div').click()"
   ]
  },
  {
   "cell_type": "code",
   "execution_count": 7,
   "id": "b7247654",
   "metadata": {},
   "outputs": [],
   "source": [
    "title=[]\n",
    "rating=[]\n",
    "price=[]\n",
    "#for scraping the title tag\n",
    "titletag=driver.find_elements(By.XPATH,'//span[@class=\"a-size-medium a-color-base a-text-normal\"]')\n",
    "for i in titletag:\n",
    "    title.append(i.text.split())\n",
    "\n",
    "#for scraping the price of the laptops\n",
    "pricetag=driver.find_elements(By.XPATH,'//span[@class=\"a-price-whole\"]')\n",
    "for i in pricetag:\n",
    "    price.append(i.text.split())\n",
    "\n"
   ]
  },
  {
   "cell_type": "code",
   "execution_count": 9,
   "id": "51875c1c",
   "metadata": {},
   "outputs": [
    {
     "data": {
      "text/html": [
       "<div>\n",
       "<style scoped>\n",
       "    .dataframe tbody tr th:only-of-type {\n",
       "        vertical-align: middle;\n",
       "    }\n",
       "\n",
       "    .dataframe tbody tr th {\n",
       "        vertical-align: top;\n",
       "    }\n",
       "\n",
       "    .dataframe thead th {\n",
       "        text-align: right;\n",
       "    }\n",
       "</style>\n",
       "<table border=\"1\" class=\"dataframe\">\n",
       "  <thead>\n",
       "    <tr style=\"text-align: right;\">\n",
       "      <th></th>\n",
       "      <th>Title</th>\n",
       "      <th>price</th>\n",
       "    </tr>\n",
       "  </thead>\n",
       "  <tbody>\n",
       "    <tr>\n",
       "      <th>0</th>\n",
       "      <td>[Lenovo, IdeaPad, Slim, 5, Intel, Core, i7, 12...</td>\n",
       "      <td>[81,990]</td>\n",
       "    </tr>\n",
       "    <tr>\n",
       "      <th>1</th>\n",
       "      <td>[ASUS, Vivobook, 15,, 15.6-inch, (39.62, cms),...</td>\n",
       "      <td>[54,844]</td>\n",
       "    </tr>\n",
       "    <tr>\n",
       "      <th>2</th>\n",
       "      <td>[Lenovo, Ideapad, Gaming, 3, Intel, Core, i7, ...</td>\n",
       "      <td>[59,990]</td>\n",
       "    </tr>\n",
       "    <tr>\n",
       "      <th>3</th>\n",
       "      <td>[HP, Pavilion, Plus,, 12th, Gen, Intel, Core, ...</td>\n",
       "      <td>[89,990]</td>\n",
       "    </tr>\n",
       "    <tr>\n",
       "      <th>4</th>\n",
       "      <td>[Lenovo, Yoga, 7, Intel, Evo, Core, i7, 12th, ...</td>\n",
       "      <td>[1,09,990]</td>\n",
       "    </tr>\n",
       "    <tr>\n",
       "      <th>5</th>\n",
       "      <td>[(Renewed), Dell, Latitude, E7470, Intel, Core...</td>\n",
       "      <td>[38,705]</td>\n",
       "    </tr>\n",
       "    <tr>\n",
       "      <th>6</th>\n",
       "      <td>[HP, Pavilion, 14, 12th, Gen, Intel, Core, i7,...</td>\n",
       "      <td>[87,990]</td>\n",
       "    </tr>\n",
       "    <tr>\n",
       "      <th>7</th>\n",
       "      <td>[Hp, Pavilion, X360, 11Th, Gen, Intel, Core, I...</td>\n",
       "      <td>[82,400]</td>\n",
       "    </tr>\n",
       "    <tr>\n",
       "      <th>8</th>\n",
       "      <td>[Samsung, Galaxy, Book2, Intel, 12th, Gen, cor...</td>\n",
       "      <td>[79,490]</td>\n",
       "    </tr>\n",
       "    <tr>\n",
       "      <th>9</th>\n",
       "      <td>[HP, Victus, 11th, Gen, Intel, Core, i7-11800H...</td>\n",
       "      <td>[1,09,990]</td>\n",
       "    </tr>\n",
       "    <tr>\n",
       "      <th>10</th>\n",
       "      <td>[Lenovo, IdeaPad, Gaming3, Laptop, Intel, i7, ...</td>\n",
       "      <td>[76,618]</td>\n",
       "    </tr>\n",
       "    <tr>\n",
       "      <th>11</th>\n",
       "      <td>[Acer, Nitro, 5, Gaming, Laptop/12th, Gen, Int...</td>\n",
       "      <td>[1,04,990]</td>\n",
       "    </tr>\n",
       "    <tr>\n",
       "      <th>12</th>\n",
       "      <td>[(Renewed), Dell, Intel, 6th, Gen, Core, i7-68...</td>\n",
       "      <td>[43,198]</td>\n",
       "    </tr>\n",
       "    <tr>\n",
       "      <th>13</th>\n",
       "      <td>[HP, Pavilion, 11th, Gen, Intel, Core, i7, 15....</td>\n",
       "      <td>[85,210]</td>\n",
       "    </tr>\n",
       "    <tr>\n",
       "      <th>14</th>\n",
       "      <td>[Hp, Pavilion, 15, 12Th, Gen, Intel, Core, I7,...</td>\n",
       "      <td>[96,410]</td>\n",
       "    </tr>\n",
       "    <tr>\n",
       "      <th>15</th>\n",
       "      <td>[ASUS, TUF, Gaming, F15, (2022),, 15.6-inch, (...</td>\n",
       "      <td>[1,07,990]</td>\n",
       "    </tr>\n",
       "    <tr>\n",
       "      <th>16</th>\n",
       "      <td>[(Renewed), Dell, Latitude, Laptop, E7250, Int...</td>\n",
       "      <td>[24,974]</td>\n",
       "    </tr>\n",
       "    <tr>\n",
       "      <th>17</th>\n",
       "      <td>[HP, Victus, 12th, Gen, Intel, Core, i7, 15.6,...</td>\n",
       "      <td>[95,490]</td>\n",
       "    </tr>\n",
       "    <tr>\n",
       "      <th>18</th>\n",
       "      <td>[MSI, Modern, 14,, Intel, i7-1195G7,, 14\", FHD...</td>\n",
       "      <td>[59,990]</td>\n",
       "    </tr>\n",
       "    <tr>\n",
       "      <th>19</th>\n",
       "      <td>[(Renewed), Lenovo, Intel, Core, i7, 5600U, 12...</td>\n",
       "      <td>[25,499]</td>\n",
       "    </tr>\n",
       "    <tr>\n",
       "      <th>20</th>\n",
       "      <td>[(Renewed), DELL, LATITUDE, 7490, (CORE, I7, 8...</td>\n",
       "      <td>[36,190]</td>\n",
       "    </tr>\n",
       "    <tr>\n",
       "      <th>21</th>\n",
       "      <td>[AGB, Octev, AG-1208, 15.6\", Laptop(7th, Gener...</td>\n",
       "      <td>[70,000]</td>\n",
       "    </tr>\n",
       "    <tr>\n",
       "      <th>22</th>\n",
       "      <td>[Dell, New, G15, 5521, SE, Gaming, Laptop,, In...</td>\n",
       "      <td>[1,38,290]</td>\n",
       "    </tr>\n",
       "    <tr>\n",
       "      <th>23</th>\n",
       "      <td>[ASUS, VivoBook, 14, (2021),, 14-inch, (35.56,...</td>\n",
       "      <td>[59,990]</td>\n",
       "    </tr>\n",
       "  </tbody>\n",
       "</table>\n",
       "</div>"
      ],
      "text/plain": [
       "                                                Title       price\n",
       "0   [Lenovo, IdeaPad, Slim, 5, Intel, Core, i7, 12...    [81,990]\n",
       "1   [ASUS, Vivobook, 15,, 15.6-inch, (39.62, cms),...    [54,844]\n",
       "2   [Lenovo, Ideapad, Gaming, 3, Intel, Core, i7, ...    [59,990]\n",
       "3   [HP, Pavilion, Plus,, 12th, Gen, Intel, Core, ...    [89,990]\n",
       "4   [Lenovo, Yoga, 7, Intel, Evo, Core, i7, 12th, ...  [1,09,990]\n",
       "5   [(Renewed), Dell, Latitude, E7470, Intel, Core...    [38,705]\n",
       "6   [HP, Pavilion, 14, 12th, Gen, Intel, Core, i7,...    [87,990]\n",
       "7   [Hp, Pavilion, X360, 11Th, Gen, Intel, Core, I...    [82,400]\n",
       "8   [Samsung, Galaxy, Book2, Intel, 12th, Gen, cor...    [79,490]\n",
       "9   [HP, Victus, 11th, Gen, Intel, Core, i7-11800H...  [1,09,990]\n",
       "10  [Lenovo, IdeaPad, Gaming3, Laptop, Intel, i7, ...    [76,618]\n",
       "11  [Acer, Nitro, 5, Gaming, Laptop/12th, Gen, Int...  [1,04,990]\n",
       "12  [(Renewed), Dell, Intel, 6th, Gen, Core, i7-68...    [43,198]\n",
       "13  [HP, Pavilion, 11th, Gen, Intel, Core, i7, 15....    [85,210]\n",
       "14  [Hp, Pavilion, 15, 12Th, Gen, Intel, Core, I7,...    [96,410]\n",
       "15  [ASUS, TUF, Gaming, F15, (2022),, 15.6-inch, (...  [1,07,990]\n",
       "16  [(Renewed), Dell, Latitude, Laptop, E7250, Int...    [24,974]\n",
       "17  [HP, Victus, 12th, Gen, Intel, Core, i7, 15.6,...    [95,490]\n",
       "18  [MSI, Modern, 14,, Intel, i7-1195G7,, 14\", FHD...    [59,990]\n",
       "19  [(Renewed), Lenovo, Intel, Core, i7, 5600U, 12...    [25,499]\n",
       "20  [(Renewed), DELL, LATITUDE, 7490, (CORE, I7, 8...    [36,190]\n",
       "21  [AGB, Octev, AG-1208, 15.6\", Laptop(7th, Gener...    [70,000]\n",
       "22  [Dell, New, G15, 5521, SE, Gaming, Laptop,, In...  [1,38,290]\n",
       "23  [ASUS, VivoBook, 14, (2021),, 14-inch, (35.56,...    [59,990]"
      ]
     },
     "execution_count": 9,
     "metadata": {},
     "output_type": "execute_result"
    }
   ],
   "source": [
    "df_laptops=pd.DataFrame({'Title':title,'price':price})\n",
    "df_laptops=df_laptops.head(100)\n",
    "df_laptops"
   ]
  },
  {
   "cell_type": "code",
   "execution_count": 10,
   "id": "c5a1ebc9",
   "metadata": {},
   "outputs": [
    {
     "name": "stdout",
     "output_type": "stream",
     "text": [
      "[]\n"
     ]
    }
   ],
   "source": [
    "rating=[]\n",
    "ratingtag=driver.find_elements(By.CLASS_NAME,\"a-size-medium a-color-base a-text-beside-button a-text-bold\")\n",
    "for i in ratingtag:\n",
    "    rating.append(i.text)\n",
    "print(rating)"
   ]
  },
  {
   "cell_type": "markdown",
   "id": "91b0fd01",
   "metadata": {},
   "source": [
    "Question 9:"
   ]
  },
  {
   "cell_type": "code",
   "execution_count": 349,
   "id": "6f1a305d",
   "metadata": {},
   "outputs": [],
   "source": [
    "from selenium.webdriver.common.keys import Keys"
   ]
  },
  {
   "cell_type": "code",
   "execution_count": 350,
   "id": "941df1e2",
   "metadata": {},
   "outputs": [],
   "source": [
    "\n",
    "driver=webdriver.Chrome(r\"chromedriver.exe\")\n",
    "driver.get('https://www.ambitionbox.com/')"
   ]
  },
  {
   "cell_type": "code",
   "execution_count": 353,
   "id": "bcd92372",
   "metadata": {},
   "outputs": [],
   "source": [
    "joboption=driver.find_element(By.XPATH,\"/html/body/div[1]/nav[2]/div/ul/li[5]/a\")\n",
    "joboption.click()"
   ]
  },
  {
   "cell_type": "code",
   "execution_count": 354,
   "id": "aaf87911",
   "metadata": {},
   "outputs": [],
   "source": [
    "driver.refresh()\n",
    "jobsearch=driver.find_element(By.XPATH,\"/html/body/div/div/div/div[2]/div[1]/div[1]/div/div/div/div/span/input\")\n",
    "jobsearch.send_keys(\"Data Scientist\")"
   ]
  },
  {
   "cell_type": "code",
   "execution_count": 356,
   "id": "69dfb7e4",
   "metadata": {},
   "outputs": [],
   "source": [
    "\n",
    "searchbtn=driver.find_element(By.XPATH,'//button[@class=\"ab_btn search-btn round\"]')\n",
    "searchbtn.click()"
   ]
  },
  {
   "cell_type": "code",
   "execution_count": 284,
   "id": "0d863058",
   "metadata": {},
   "outputs": [],
   "source": [
    "locselect=driver.find_element(By.XPATH,\"/html/body/div/div/div/div[2]/div[1]/div[2]/div[1]/div/div/div/div[2]/div[2]/div/div[3]/div[1]/div[5]/div/label\")\n",
    "locselect.click()\n",
    "\n",
    "select=driver.find_element(By.XPATH,\"/html/body/div/div/div/div[2]/div[1]/div[2]/div[1]/div/div/div/div[2]/div[2]/div/div[3]/div[1]/div[5]/div/label\")\n",
    "select.click()"
   ]
  },
  {
   "cell_type": "code",
   "execution_count": 429,
   "id": "cb6b54ed",
   "metadata": {},
   "outputs": [
    {
     "ename": "InvalidSelectorException",
     "evalue": "Message: invalid selector: Unable to locate an element with the xpath expression //a(@CLASS_NAME=\"title noclick\"and @TAG_NAME=\"a\") because of the following error:\nSyntaxError: Failed to execute 'evaluate' on 'Document': The string '//a(@CLASS_NAME=\"title noclick\"and @TAG_NAME=\"a\")' is not a valid XPath expression.\n  (Session info: chrome=104.0.5112.81)\nStacktrace:\nBacktrace:\n\tOrdinal0 [0x00A35FD3+2187219]\n\tOrdinal0 [0x009CE6D1+1763025]\n\tOrdinal0 [0x008E3E78+802424]\n\tOrdinal0 [0x008E6854+813140]\n\tOrdinal0 [0x008E6712+812818]\n\tOrdinal0 [0x008E69A0+813472]\n\tOrdinal0 [0x00911925+989477]\n\tOrdinal0 [0x00911EAB+990891]\n\tOrdinal0 [0x0093ECCC+1174732]\n\tOrdinal0 [0x0092CBD4+1100756]\n\tOrdinal0 [0x0093CFC2+1167298]\n\tOrdinal0 [0x0092C9A6+1100198]\n\tOrdinal0 [0x00906F80+946048]\n\tOrdinal0 [0x00907E76+949878]\n\tGetHandleVerifier [0x00CD90C2+2721218]\n\tGetHandleVerifier [0x00CCAAF0+2662384]\n\tGetHandleVerifier [0x00AC137A+526458]\n\tGetHandleVerifier [0x00AC0416+522518]\n\tOrdinal0 [0x009D4EAB+1789611]\n\tOrdinal0 [0x009D97A8+1808296]\n\tOrdinal0 [0x009D9895+1808533]\n\tOrdinal0 [0x009E26C1+1844929]\n\tBaseThreadInitThunk [0x7605FA29+25]\n\tRtlGetAppContainerNamedObjectPath [0x77C97A9E+286]\n\tRtlGetAppContainerNamedObjectPath [0x77C97A6E+238]\n",
     "output_type": "error",
     "traceback": [
      "\u001b[1;31m---------------------------------------------------------------------------\u001b[0m",
      "\u001b[1;31mInvalidSelectorException\u001b[0m                  Traceback (most recent call last)",
      "\u001b[1;32m~\\AppData\\Local\\Temp/ipykernel_12168/1230290681.py\u001b[0m in \u001b[0;36m<module>\u001b[1;34m\u001b[0m\n\u001b[0;32m      1\u001b[0m \u001b[0mdriver\u001b[0m\u001b[1;33m.\u001b[0m\u001b[0mget\u001b[0m\u001b[1;33m(\u001b[0m\u001b[1;34m\"https://www.ambitionbox.com/jobs/search?tag=Data%20Scientist\"\u001b[0m\u001b[1;33m)\u001b[0m\u001b[1;33m\u001b[0m\u001b[1;33m\u001b[0m\u001b[0m\n\u001b[1;32m----> 2\u001b[1;33m \u001b[0mlnks\u001b[0m\u001b[1;33m=\u001b[0m\u001b[0mdriver\u001b[0m\u001b[1;33m.\u001b[0m\u001b[0mfind_elements\u001b[0m\u001b[1;33m(\u001b[0m\u001b[0mBy\u001b[0m\u001b[1;33m.\u001b[0m\u001b[0mXPATH\u001b[0m\u001b[1;33m,\u001b[0m\u001b[1;34m'//a(@CLASS_NAME=\"title noclick\"and @TAG_NAME=\"a\")'\u001b[0m\u001b[1;33m)\u001b[0m\u001b[1;33m\u001b[0m\u001b[1;33m\u001b[0m\u001b[0m\n\u001b[0m\u001b[0;32m      3\u001b[0m \u001b[1;33m\u001b[0m\u001b[0m\n\u001b[0;32m      4\u001b[0m \u001b[1;33m\u001b[0m\u001b[0m\n\u001b[0;32m      5\u001b[0m \u001b[1;33m\u001b[0m\u001b[0m\n",
      "\u001b[1;32m~\\anaconda3\\lib\\site-packages\\selenium\\webdriver\\remote\\webdriver.py\u001b[0m in \u001b[0;36mfind_elements\u001b[1;34m(self, by, value)\u001b[0m\n\u001b[0;32m    887\u001b[0m         \u001b[1;31m# Return empty list if driver returns null\u001b[0m\u001b[1;33m\u001b[0m\u001b[1;33m\u001b[0m\u001b[0m\n\u001b[0;32m    888\u001b[0m         \u001b[1;31m# See https://github.com/SeleniumHQ/selenium/issues/4555\u001b[0m\u001b[1;33m\u001b[0m\u001b[1;33m\u001b[0m\u001b[0m\n\u001b[1;32m--> 889\u001b[1;33m         return self.execute(Command.FIND_ELEMENTS, {\n\u001b[0m\u001b[0;32m    890\u001b[0m             \u001b[1;34m'using'\u001b[0m\u001b[1;33m:\u001b[0m \u001b[0mby\u001b[0m\u001b[1;33m,\u001b[0m\u001b[1;33m\u001b[0m\u001b[1;33m\u001b[0m\u001b[0m\n\u001b[0;32m    891\u001b[0m             'value': value})['value'] or []\n",
      "\u001b[1;32m~\\anaconda3\\lib\\site-packages\\selenium\\webdriver\\remote\\webdriver.py\u001b[0m in \u001b[0;36mexecute\u001b[1;34m(self, driver_command, params)\u001b[0m\n\u001b[0;32m    432\u001b[0m         \u001b[0mresponse\u001b[0m \u001b[1;33m=\u001b[0m \u001b[0mself\u001b[0m\u001b[1;33m.\u001b[0m\u001b[0mcommand_executor\u001b[0m\u001b[1;33m.\u001b[0m\u001b[0mexecute\u001b[0m\u001b[1;33m(\u001b[0m\u001b[0mdriver_command\u001b[0m\u001b[1;33m,\u001b[0m \u001b[0mparams\u001b[0m\u001b[1;33m)\u001b[0m\u001b[1;33m\u001b[0m\u001b[1;33m\u001b[0m\u001b[0m\n\u001b[0;32m    433\u001b[0m         \u001b[1;32mif\u001b[0m \u001b[0mresponse\u001b[0m\u001b[1;33m:\u001b[0m\u001b[1;33m\u001b[0m\u001b[1;33m\u001b[0m\u001b[0m\n\u001b[1;32m--> 434\u001b[1;33m             \u001b[0mself\u001b[0m\u001b[1;33m.\u001b[0m\u001b[0merror_handler\u001b[0m\u001b[1;33m.\u001b[0m\u001b[0mcheck_response\u001b[0m\u001b[1;33m(\u001b[0m\u001b[0mresponse\u001b[0m\u001b[1;33m)\u001b[0m\u001b[1;33m\u001b[0m\u001b[1;33m\u001b[0m\u001b[0m\n\u001b[0m\u001b[0;32m    435\u001b[0m             response['value'] = self._unwrap_value(\n\u001b[0;32m    436\u001b[0m                 response.get('value', None))\n",
      "\u001b[1;32m~\\anaconda3\\lib\\site-packages\\selenium\\webdriver\\remote\\errorhandler.py\u001b[0m in \u001b[0;36mcheck_response\u001b[1;34m(self, response)\u001b[0m\n\u001b[0;32m    241\u001b[0m                 \u001b[0malert_text\u001b[0m \u001b[1;33m=\u001b[0m \u001b[0mvalue\u001b[0m\u001b[1;33m[\u001b[0m\u001b[1;34m'alert'\u001b[0m\u001b[1;33m]\u001b[0m\u001b[1;33m.\u001b[0m\u001b[0mget\u001b[0m\u001b[1;33m(\u001b[0m\u001b[1;34m'text'\u001b[0m\u001b[1;33m)\u001b[0m\u001b[1;33m\u001b[0m\u001b[1;33m\u001b[0m\u001b[0m\n\u001b[0;32m    242\u001b[0m             \u001b[1;32mraise\u001b[0m \u001b[0mexception_class\u001b[0m\u001b[1;33m(\u001b[0m\u001b[0mmessage\u001b[0m\u001b[1;33m,\u001b[0m \u001b[0mscreen\u001b[0m\u001b[1;33m,\u001b[0m \u001b[0mstacktrace\u001b[0m\u001b[1;33m,\u001b[0m \u001b[0malert_text\u001b[0m\u001b[1;33m)\u001b[0m  \u001b[1;31m# type: ignore[call-arg]  # mypy is not smart enough here\u001b[0m\u001b[1;33m\u001b[0m\u001b[1;33m\u001b[0m\u001b[0m\n\u001b[1;32m--> 243\u001b[1;33m         \u001b[1;32mraise\u001b[0m \u001b[0mexception_class\u001b[0m\u001b[1;33m(\u001b[0m\u001b[0mmessage\u001b[0m\u001b[1;33m,\u001b[0m \u001b[0mscreen\u001b[0m\u001b[1;33m,\u001b[0m \u001b[0mstacktrace\u001b[0m\u001b[1;33m)\u001b[0m\u001b[1;33m\u001b[0m\u001b[1;33m\u001b[0m\u001b[0m\n\u001b[0m",
      "\u001b[1;31mInvalidSelectorException\u001b[0m: Message: invalid selector: Unable to locate an element with the xpath expression //a(@CLASS_NAME=\"title noclick\"and @TAG_NAME=\"a\") because of the following error:\nSyntaxError: Failed to execute 'evaluate' on 'Document': The string '//a(@CLASS_NAME=\"title noclick\"and @TAG_NAME=\"a\")' is not a valid XPath expression.\n  (Session info: chrome=104.0.5112.81)\nStacktrace:\nBacktrace:\n\tOrdinal0 [0x00A35FD3+2187219]\n\tOrdinal0 [0x009CE6D1+1763025]\n\tOrdinal0 [0x008E3E78+802424]\n\tOrdinal0 [0x008E6854+813140]\n\tOrdinal0 [0x008E6712+812818]\n\tOrdinal0 [0x008E69A0+813472]\n\tOrdinal0 [0x00911925+989477]\n\tOrdinal0 [0x00911EAB+990891]\n\tOrdinal0 [0x0093ECCC+1174732]\n\tOrdinal0 [0x0092CBD4+1100756]\n\tOrdinal0 [0x0093CFC2+1167298]\n\tOrdinal0 [0x0092C9A6+1100198]\n\tOrdinal0 [0x00906F80+946048]\n\tOrdinal0 [0x00907E76+949878]\n\tGetHandleVerifier [0x00CD90C2+2721218]\n\tGetHandleVerifier [0x00CCAAF0+2662384]\n\tGetHandleVerifier [0x00AC137A+526458]\n\tGetHandleVerifier [0x00AC0416+522518]\n\tOrdinal0 [0x009D4EAB+1789611]\n\tOrdinal0 [0x009D97A8+1808296]\n\tOrdinal0 [0x009D9895+1808533]\n\tOrdinal0 [0x009E26C1+1844929]\n\tBaseThreadInitThunk [0x7605FA29+25]\n\tRtlGetAppContainerNamedObjectPath [0x77C97A9E+286]\n\tRtlGetAppContainerNamedObjectPath [0x77C97A6E+238]\n"
     ]
    }
   ],
   "source": [
    "\n",
    "\n",
    "driver.get(\"https://www.ambitionbox.com/jobs/search?tag=Data%20Scientist\")\n",
    "lnks=driver.find_elements(By.XPATH,'//a(@CLASS_NAME=\"title noclick\"and @TAG_NAME=\"a\")')\n",
    "\n",
    "    \n",
    "\n",
    "    \n",
    "    \n"
   ]
  },
  {
   "cell_type": "code",
   "execution_count": 428,
   "id": "7a1f9351",
   "metadata": {},
   "outputs": [
    {
     "data": {
      "text/plain": [
       "[]"
      ]
     },
     "execution_count": 428,
     "metadata": {},
     "output_type": "execute_result"
    }
   ],
   "source": [
    "lnks"
   ]
  },
  {
   "cell_type": "code",
   "execution_count": null,
   "id": "38fe4016",
   "metadata": {},
   "outputs": [],
   "source": []
  },
  {
   "cell_type": "code",
   "execution_count": 400,
   "id": "ff6e1530",
   "metadata": {},
   "outputs": [
    {
     "ename": "IndentationError",
     "evalue": "unexpected indent (Temp/ipykernel_12168/4238069377.py, line 2)",
     "output_type": "error",
     "traceback": [
      "\u001b[1;36m  File \u001b[1;32m\"C:\\Users\\Samrat\\AppData\\Local\\Temp/ipykernel_12168/4238069377.py\"\u001b[1;36m, line \u001b[1;32m2\u001b[0m\n\u001b[1;33m    comtag=driver.find_element(By.CLASS_NAME,\"company sbold-section-header\")\u001b[0m\n\u001b[1;37m    ^\u001b[0m\n\u001b[1;31mIndentationError\u001b[0m\u001b[1;31m:\u001b[0m unexpected indent\n"
     ]
    }
   ],
   "source": [
    "driver.get('https://www.ambitionbox.com')\n",
    "    comtag=driver.find_element(By.CLASS_NAME,\"company sbold-section-header\")\n",
    "    company.append(comtag.text)\n",
    "    i=i+1\n",
    "company"
   ]
  },
  {
   "cell_type": "code",
   "execution_count": null,
   "id": "81872df6",
   "metadata": {},
   "outputs": [],
   "source": []
  },
  {
   "cell_type": "code",
   "execution_count": 148,
   "id": "129a8245",
   "metadata": {},
   "outputs": [
    {
     "data": {
      "text/plain": [
       "[['4.3'], [], [], [], [], [], [], [], [], []]"
      ]
     },
     "execution_count": 148,
     "metadata": {},
     "output_type": "execute_result"
    }
   ],
   "source": [
    "rating"
   ]
  },
  {
   "cell_type": "code",
   "execution_count": 149,
   "id": "9970f4f3",
   "metadata": {},
   "outputs": [
    {
     "data": {
      "text/plain": [
       "[['CBRE', 'South', 'Asia', 'Pvt', 'Ltd'], [], [], [], [], [], [], [], [], []]"
      ]
     },
     "execution_count": 149,
     "metadata": {},
     "output_type": "execute_result"
    }
   ],
   "source": [
    "company"
   ]
  },
  {
   "cell_type": "code",
   "execution_count": 150,
   "id": "c9e5d92c",
   "metadata": {},
   "outputs": [
    {
     "data": {
      "text/plain": [
       "[[],\n",
       " [],\n",
       " [],\n",
       " [],\n",
       " [],\n",
       " [],\n",
       " [],\n",
       " [],\n",
       " [],\n",
       " [],\n",
       " [],\n",
       " [],\n",
       " [],\n",
       " [],\n",
       " [],\n",
       " [],\n",
       " [],\n",
       " [],\n",
       " [],\n",
       " []]"
      ]
     },
     "execution_count": 150,
     "metadata": {},
     "output_type": "execute_result"
    }
   ],
   "source": [
    "days"
   ]
  },
  {
   "cell_type": "code",
   "execution_count": 379,
   "id": "9538ab42",
   "metadata": {},
   "outputs": [
    {
     "data": {
      "text/plain": [
       "[<selenium.webdriver.remote.webelement.WebElement (session=\"14f0e3c3e6de04d0bce7cdff0426bcf2\", element=\"a903672d-b8fd-4439-8e48-d1d7b643d48b\")>,\n",
       " <selenium.webdriver.remote.webelement.WebElement (session=\"14f0e3c3e6de04d0bce7cdff0426bcf2\", element=\"6eb45ad9-0cfc-479d-bad0-ffeb29e42d9b\")>,\n",
       " <selenium.webdriver.remote.webelement.WebElement (session=\"14f0e3c3e6de04d0bce7cdff0426bcf2\", element=\"c893118c-7973-4e9f-b8ce-d4258d7b3f66\")>,\n",
       " <selenium.webdriver.remote.webelement.WebElement (session=\"14f0e3c3e6de04d0bce7cdff0426bcf2\", element=\"697b3830-ed9e-4288-b16c-229dfbc4f391\")>,\n",
       " <selenium.webdriver.remote.webelement.WebElement (session=\"14f0e3c3e6de04d0bce7cdff0426bcf2\", element=\"5369b220-7add-4ae6-9313-6c0e7a0ab3d9\")>,\n",
       " <selenium.webdriver.remote.webelement.WebElement (session=\"14f0e3c3e6de04d0bce7cdff0426bcf2\", element=\"549da653-2caf-4a29-b5ef-ec61c877a426\")>,\n",
       " <selenium.webdriver.remote.webelement.WebElement (session=\"14f0e3c3e6de04d0bce7cdff0426bcf2\", element=\"b54ace6a-dae8-492d-a69d-9005e29aca8a\")>,\n",
       " <selenium.webdriver.remote.webelement.WebElement (session=\"14f0e3c3e6de04d0bce7cdff0426bcf2\", element=\"b44c076c-e835-4ae1-867a-66ce7af2e013\")>,\n",
       " <selenium.webdriver.remote.webelement.WebElement (session=\"14f0e3c3e6de04d0bce7cdff0426bcf2\", element=\"ea0191f9-6ada-4c10-b7f3-d33636f974f6\")>,\n",
       " <selenium.webdriver.remote.webelement.WebElement (session=\"14f0e3c3e6de04d0bce7cdff0426bcf2\", element=\"c4741546-4d9e-495b-a5eb-c53e50b6b3ec\")>,\n",
       " <selenium.webdriver.remote.webelement.WebElement (session=\"14f0e3c3e6de04d0bce7cdff0426bcf2\", element=\"1992f227-c9c2-4ba5-9eb7-121e8040c9ba\")>]"
      ]
     },
     "execution_count": 379,
     "metadata": {},
     "output_type": "execute_result"
    }
   ],
   "source": [
    "comtag=driver.find_elements(By.CLASS_NAME,\"company-info\")\n",
    "comtag"
   ]
  },
  {
   "cell_type": "code",
   "execution_count": 376,
   "id": "045597f9",
   "metadata": {},
   "outputs": [
    {
     "data": {
      "text/plain": [
       "''"
      ]
     },
     "execution_count": 376,
     "metadata": {},
     "output_type": "execute_result"
    }
   ],
   "source": [
    "comtag[8].text"
   ]
  },
  {
   "cell_type": "code",
   "execution_count": null,
   "id": "6c5fbf31",
   "metadata": {},
   "outputs": [],
   "source": []
  },
  {
   "cell_type": "code",
   "execution_count": null,
   "id": "8e2de713",
   "metadata": {},
   "outputs": [],
   "source": []
  },
  {
   "cell_type": "markdown",
   "id": "f15d2da5",
   "metadata": {},
   "source": [
    "Question 10:"
   ]
  },
  {
   "cell_type": "code",
   "execution_count": 312,
   "id": "d3423966",
   "metadata": {},
   "outputs": [],
   "source": [
    "driver=webdriver.Chrome(r\"chromedriver.exe\")\n",
    "driver.get('https://www.ambitionbox.com/')"
   ]
  },
  {
   "cell_type": "code",
   "execution_count": 322,
   "id": "ecd0881b",
   "metadata": {},
   "outputs": [],
   "source": [
    "salaryoption=driver.find_element(By.XPATH,\"/html/body/div[1]/nav[2]/div/ul/li[3]/a\")\n",
    "salaryoption.click()"
   ]
  },
  {
   "cell_type": "code",
   "execution_count": 326,
   "id": "ca735b77",
   "metadata": {},
   "outputs": [],
   "source": [
    "#to enter salary page\n",
    "salurl=(\"https://www.ambitionbox.com\"+\"/salaries?campaign=desktop_nav\")\n",
    "driver.get(salurl)"
   ]
  },
  {
   "cell_type": "code",
   "execution_count": 327,
   "id": "adeba54a",
   "metadata": {},
   "outputs": [],
   "source": [
    "# to enter data scientist in the search bar\n",
    "driver.refresh()\n",
    "jobsearch=driver.find_element(By.XPATH,\"/html/body/div/div/div/div[2]/div/div/div/div[1]/span/input\")\n",
    "jobsearch.send_keys(\"Data Scientist\")"
   ]
  },
  {
   "cell_type": "code",
   "execution_count": 329,
   "id": "ac5bcade",
   "metadata": {},
   "outputs": [],
   "source": [
    "# to enter search bar\n",
    "searchbtn=driver.find_element(By.XPATH,'/html/body/div/div/div/div[2]/div/div/div/button')\n",
    "searchbtn.click()"
   ]
  },
  {
   "cell_type": "code",
   "execution_count": null,
   "id": "86413cb0",
   "metadata": {},
   "outputs": [],
   "source": []
  },
  {
   "cell_type": "code",
   "execution_count": null,
   "id": "91faaca2",
   "metadata": {},
   "outputs": [],
   "source": []
  },
  {
   "cell_type": "code",
   "execution_count": null,
   "id": "260c19c0",
   "metadata": {},
   "outputs": [],
   "source": []
  },
  {
   "cell_type": "code",
   "execution_count": null,
   "id": "b1ddec0a",
   "metadata": {},
   "outputs": [],
   "source": []
  },
  {
   "cell_type": "code",
   "execution_count": null,
   "id": "8dbf8e69",
   "metadata": {},
   "outputs": [],
   "source": []
  },
  {
   "cell_type": "code",
   "execution_count": null,
   "id": "d8a986a8",
   "metadata": {},
   "outputs": [],
   "source": []
  },
  {
   "cell_type": "code",
   "execution_count": null,
   "id": "8712a52c",
   "metadata": {},
   "outputs": [],
   "source": []
  }
 ],
 "metadata": {
  "kernelspec": {
   "display_name": "Python 3 (ipykernel)",
   "language": "python",
   "name": "python3"
  },
  "language_info": {
   "codemirror_mode": {
    "name": "ipython",
    "version": 3
   },
   "file_extension": ".py",
   "mimetype": "text/x-python",
   "name": "python",
   "nbconvert_exporter": "python",
   "pygments_lexer": "ipython3",
   "version": "3.9.7"
  }
 },
 "nbformat": 4,
 "nbformat_minor": 5
}
