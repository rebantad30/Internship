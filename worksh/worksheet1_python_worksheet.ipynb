{
 "cells": [
  {
   "cell_type": "markdown",
   "id": "6383fdaa",
   "metadata": {},
   "source": [
    "factorial of a number"
   ]
  },
  {
   "cell_type": "code",
   "execution_count": 46,
   "id": "b1a716ae",
   "metadata": {},
   "outputs": [
    {
     "name": "stdout",
     "output_type": "stream",
     "text": [
      "Enter a number5\n",
      "factorial= 120\n"
     ]
    }
   ],
   "source": [
    "n=0\n",
    "while n==0:\n",
    "    n=int(input('Enter a number'))\n",
    "else:\n",
    "    f=1\n",
    "    if(n>0):\n",
    "        for i in range(1,n+1):\n",
    "            f=f*i\n",
    "        print(\"factorial=\",f)"
   ]
  },
  {
   "cell_type": "markdown",
   "id": "afa0c2fb",
   "metadata": {},
   "source": [
    "prime or composite check"
   ]
  },
  {
   "cell_type": "code",
   "execution_count": 42,
   "id": "1f8e40e5",
   "metadata": {},
   "outputs": [
    {
     "name": "stdout",
     "output_type": "stream",
     "text": [
      "Enter a number5\n",
      "5  is a prime number\n"
     ]
    }
   ],
   "source": [
    "n=int(input('Enter a number'))\n",
    "for i in range(2,n+1):\n",
    "    if n%i==0:\n",
    "        break\n",
    "if(n==i):\n",
    "    print(n,\" is a prime number\")\n",
    "else:\n",
    "     print(n,\" is a composite number\")\n",
    "    "
   ]
  },
  {
   "cell_type": "markdown",
   "id": "931513c5",
   "metadata": {},
   "source": [
    "pyhton program to calculate the third side of the right angled triangle"
   ]
  },
  {
   "cell_type": "code",
   "execution_count": 63,
   "id": "99cf755d",
   "metadata": {},
   "outputs": [
    {
     "name": "stdout",
     "output_type": "stream",
     "text": [
      "Enter a number3\n",
      "Enter a number4\n",
      "5.0\n"
     ]
    }
   ],
   "source": [
    "import math\n",
    "a=int(input('Enter a number'))\n",
    "b=int(input('Enter a number'))\n",
    "c=math.sqrt(pow(a,2)+pow(b,2))\n",
    "print(c)"
   ]
  },
  {
   "cell_type": "markdown",
   "id": "d6f3226d",
   "metadata": {},
   "source": [
    "to check whether a string is palindrome or not"
   ]
  },
  {
   "cell_type": "code",
   "execution_count": 38,
   "id": "6fa6c1a8",
   "metadata": {},
   "outputs": [
    {
     "name": "stdout",
     "output_type": "stream",
     "text": [
      "ENTER A STRINGfgf\n",
      "fgf is a palindrome string\n"
     ]
    }
   ],
   "source": [
    "str=input(\"ENTER A STRING\")\n",
    "s=\"\"\n",
    "l=len(str)\n",
    "for i in range((l-1),-1,-1):\n",
    "    s=s+str[i]\n",
    "#print(s)\n",
    "if(s==str):\n",
    "    print(str, \"is a palindrome string\")\n",
    "else:\n",
    "     print(str, \"is not a palindrome string\")"
   ]
  },
  {
   "cell_type": "markdown",
   "id": "0838f016",
   "metadata": {},
   "source": [
    "program to find frequency of characters in a given string"
   ]
  },
  {
   "cell_type": "code",
   "execution_count": 59,
   "id": "a5b277bf",
   "metadata": {},
   "outputs": [
    {
     "name": "stdout",
     "output_type": "stream",
     "text": [
      "ENTER A STRINGgeeks\n",
      "{'g': 1, 'e': 2, 'k': 1, 's': 1}\n"
     ]
    }
   ],
   "source": [
    "str = input(\"ENTER A STRING\")\n",
    "\n",
    "# create dictionary to store key value pair\n",
    "dict = {}\n",
    "\n",
    "for i in str:\n",
    "    # if i already appears as key in dict, increment the count\n",
    "    if i in dict:\n",
    "        dict[i] += 1\n",
    "\n",
    "    # else i appears for the first time, add to dict\n",
    "    else:\n",
    "        dict[i] = 1\n",
    "\n",
    "# printing result \n",
    "print(dict)\n",
    "\n",
    "\n"
   ]
  },
  {
   "cell_type": "code",
   "execution_count": null,
   "id": "12ef09b6",
   "metadata": {},
   "outputs": [],
   "source": []
  },
  {
   "cell_type": "code",
   "execution_count": null,
   "id": "77a305f0",
   "metadata": {},
   "outputs": [],
   "source": []
  },
  {
   "cell_type": "code",
   "execution_count": null,
   "id": "bc2fa01f",
   "metadata": {},
   "outputs": [],
   "source": []
  }
 ],
 "metadata": {
  "kernelspec": {
   "display_name": "Python 3 (ipykernel)",
   "language": "python",
   "name": "python3"
  },
  "language_info": {
   "codemirror_mode": {
    "name": "ipython",
    "version": 3
   },
   "file_extension": ".py",
   "mimetype": "text/x-python",
   "name": "python",
   "nbconvert_exporter": "python",
   "pygments_lexer": "ipython3",
   "version": "3.9.7"
  }
 },
 "nbformat": 4,
 "nbformat_minor": 5
}
