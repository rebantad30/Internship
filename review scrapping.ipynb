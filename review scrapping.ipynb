{
 "cells": [
  {
   "cell_type": "code",
   "execution_count": 4,
   "id": "b2d9e8df",
   "metadata": {},
   "outputs": [],
   "source": [
    "import pandas as pd\n",
    "import numpy as np\n",
    "import selenium\n",
    "from selenium import webdriver\n",
    "import warnings\n",
    "warnings.filterwarnings('ignore')\n",
    "import time\n",
    "from selenium.common.exceptions import StaleElementReferenceException,NoSuchElementException,ElementNotInteractableException\n",
    "from selenium.webdriver.common.by import By\n",
    "from selenium.webdriver.support.ui import WebDriverWait\n",
    "from selenium.webdriver.support import expected_conditions as EC"
   ]
  },
  {
   "cell_type": "code",
   "execution_count": 5,
   "id": "f8d551ec",
   "metadata": {},
   "outputs": [],
   "source": [
    "driver=webdriver.Chrome(r\"chromedriver.exe\")"
   ]
  },
  {
   "cell_type": "code",
   "execution_count": 13,
   "id": "4e1f4b2f",
   "metadata": {},
   "outputs": [],
   "source": [
    "driver.get('https://www.flipkart.com/televisions/pr?sid=ckf%2Cczl&p%5B%5D=facets.screen_size%255B%255D%3D60%2Binch%2B%2BAbove&p%5B%5D=facets.availability%255B%255D%3DExclude%2BOut%2Bof%2BStock&ctx=eyJjYXJkQ29udGV4dCI6eyJhdHRyaWJ1dGVzIjp7InRpdGxlIjp7Im11bHRpVmFsdWVkQXR0cmlidXRlIjp7ImtleSI6InRpdGxlIiwiaW5mZXJlbmNlVHlwZSI6IlRJVExFIiwidmFsdWVzIjpbIkxhcmdlIFNjcmVlbiBUVnMiXSwidmFsdWVUeXBlIjoiTVVMVElfVkFMVUVEIn19fX19&wid=25.productCard.PMU_V2_2&page=2')"
   ]
  },
  {
   "cell_type": "markdown",
   "id": "5b4e3528",
   "metadata": {},
   "source": [
    "## storing links of television"
   ]
  },
  {
   "cell_type": "code",
   "execution_count": 14,
   "id": "e2822127",
   "metadata": {},
   "outputs": [],
   "source": [
    "tvlink=[]\n",
    "for i in range(5):\n",
    "    #pglinktag=driver.find_elements(By.XPATH,'//a[@class=\"s-pagination-item s-pagination-next s-pagination-button s-pagination-separator\"]')\n",
    "    produrl=driver.find_elements(By.XPATH,'//a[@class=\"_1fQZEK\"]')\n",
    "    for j in produrl:\n",
    "        tvlink.append(j.get_attribute('href'))\n",
    "    \n",
    "    \n",
    "    nxtbutton=driver.find_element(By.XPATH,'//a[@class=\"_1LKTO3\"][2]')\n",
    "    driver.get(nxtbutton.get_attribute('href'))"
   ]
  },
  {
   "cell_type": "code",
   "execution_count": 36,
   "id": "f438edb4",
   "metadata": {},
   "outputs": [
    {
     "data": {
      "text/plain": [
       "120"
      ]
     },
     "execution_count": 36,
     "metadata": {},
     "output_type": "execute_result"
    }
   ],
   "source": [
    "len(tvlink)"
   ]
  },
  {
   "cell_type": "markdown",
   "id": "9b72782e",
   "metadata": {},
   "source": [
    "### storing reviews and stars of television"
   ]
  },
  {
   "cell_type": "code",
   "execution_count": 15,
   "id": "0842e986",
   "metadata": {},
   "outputs": [],
   "source": [
    "review=[]\n",
    "star=[]"
   ]
  },
  {
   "cell_type": "code",
   "execution_count": 16,
   "id": "778fdd2f",
   "metadata": {},
   "outputs": [],
   "source": [
    "for i in tvlink:\n",
    "    driver.get(i)\n",
    "    delay=10\n",
    "\n",
    "    SCROLL_PAUSE_TIME = 0.5\n",
    "\n",
    "\n",
    "    #try: \n",
    "     #   allrevtag=driver.find_element(By.XPATH,'/html/body/div[1]/div/div[3]/div[1]/div[2]/div[9]/div[7]/div/a')\n",
    "     #   driver.get(allrevtag.get_attribute('href'))\n",
    "    \n",
    "    \n",
    "    rvtag=driver.find_elements(By.XPATH,'//div[@class=\"t-ZTKy\"]//div//div')\n",
    "    for elt in rvtag:\n",
    "        review.append(elt.text)\n",
    "    \n",
    "    startag=driver.find_elements(By.XPATH,'//div[@class=\"_3LWZlK _1BLPMq\"]')\n",
    "    for elt in startag:\n",
    "        try:\n",
    "            star.append(elt.text)\n",
    "        except:\n",
    "            star.append(\"-\")"
   ]
  },
  {
   "cell_type": "code",
   "execution_count": null,
   "id": "abe82c5d",
   "metadata": {},
   "outputs": [],
   "source": []
  },
  {
   "cell_type": "code",
   "execution_count": 40,
   "id": "ba4fecf2",
   "metadata": {},
   "outputs": [],
   "source": [
    "review1=review"
   ]
  },
  {
   "cell_type": "code",
   "execution_count": 47,
   "id": "986d5048",
   "metadata": {},
   "outputs": [
    {
     "data": {
      "text/plain": [
       "287"
      ]
     },
     "execution_count": 47,
     "metadata": {},
     "output_type": "execute_result"
    }
   ],
   "source": [
    "len(review1)"
   ]
  },
  {
   "cell_type": "code",
   "execution_count": 50,
   "id": "8d032e76",
   "metadata": {},
   "outputs": [],
   "source": [
    "dftv=pd.DataFrame({'Review':review,'star':star})"
   ]
  },
  {
   "cell_type": "code",
   "execution_count": 52,
   "id": "4d566598",
   "metadata": {},
   "outputs": [],
   "source": [
    "filename='tv.xlsx'\n",
    "dftv.to_excel (filename, index = False, header=True)"
   ]
  },
  {
   "cell_type": "markdown",
   "id": "4219fe17",
   "metadata": {},
   "source": [
    "## STORING DETAILS OF MOBILES"
   ]
  },
  {
   "cell_type": "code",
   "execution_count": 6,
   "id": "8a788adc",
   "metadata": {},
   "outputs": [],
   "source": [
    "moblink=[]"
   ]
  },
  {
   "cell_type": "code",
   "execution_count": 7,
   "id": "caba26c9",
   "metadata": {},
   "outputs": [],
   "source": [
    "driver.get('https://www.flipkart.com/search?q=all+mobiles&otracker=search&otracker1=search&marketplace=FLIPKART&as-show=off&as=off&page=2')"
   ]
  },
  {
   "cell_type": "code",
   "execution_count": 8,
   "id": "95d3703f",
   "metadata": {},
   "outputs": [
    {
     "ename": "NoSuchElementException",
     "evalue": "Message: no such element: Unable to locate element: {\"method\":\"xpath\",\"selector\":\"//a[@class=\"_1LKTO3\"][2]\"}\n  (Session info: chrome=107.0.5304.122)\nStacktrace:\nBacktrace:\n\tOrdinal0 [0x0109ACD3+2075859]\n\tOrdinal0 [0x0102EE61+1633889]\n\tOrdinal0 [0x00F2B7BD+571325]\n\tOrdinal0 [0x00F5AC2F+764975]\n\tOrdinal0 [0x00F5AE1B+765467]\n\tOrdinal0 [0x00F8D0F2+970994]\n\tOrdinal0 [0x00F77364+881508]\n\tOrdinal0 [0x00F8B56A+963946]\n\tOrdinal0 [0x00F77136+880950]\n\tOrdinal0 [0x00F4FEFD+720637]\n\tOrdinal0 [0x00F50F3F+724799]\n\tGetHandleVerifier [0x0134EED2+2769538]\n\tGetHandleVerifier [0x01340D95+2711877]\n\tGetHandleVerifier [0x0112A03A+521194]\n\tGetHandleVerifier [0x01128DA0+516432]\n\tOrdinal0 [0x0103682C+1665068]\n\tOrdinal0 [0x0103B128+1683752]\n\tOrdinal0 [0x0103B215+1683989]\n\tOrdinal0 [0x01046484+1729668]\n\tBaseThreadInitThunk [0x75B7FEF9+25]\n\tRtlGetAppContainerNamedObjectPath [0x77C77BBE+286]\n\tRtlGetAppContainerNamedObjectPath [0x77C77B8E+238]\n",
     "output_type": "error",
     "traceback": [
      "\u001b[1;31m---------------------------------------------------------------------------\u001b[0m",
      "\u001b[1;31mNoSuchElementException\u001b[0m                    Traceback (most recent call last)",
      "\u001b[1;32m~\\AppData\\Local\\Temp/ipykernel_11596/3026381377.py\u001b[0m in \u001b[0;36m<module>\u001b[1;34m\u001b[0m\n\u001b[0;32m      6\u001b[0m \u001b[1;33m\u001b[0m\u001b[0m\n\u001b[0;32m      7\u001b[0m \u001b[1;33m\u001b[0m\u001b[0m\n\u001b[1;32m----> 8\u001b[1;33m     \u001b[0mnxtbutton\u001b[0m\u001b[1;33m=\u001b[0m\u001b[0mdriver\u001b[0m\u001b[1;33m.\u001b[0m\u001b[0mfind_element\u001b[0m\u001b[1;33m(\u001b[0m\u001b[0mBy\u001b[0m\u001b[1;33m.\u001b[0m\u001b[0mXPATH\u001b[0m\u001b[1;33m,\u001b[0m\u001b[1;34m'//a[@class=\"_1LKTO3\"][2]'\u001b[0m\u001b[1;33m)\u001b[0m\u001b[1;33m\u001b[0m\u001b[1;33m\u001b[0m\u001b[0m\n\u001b[0m\u001b[0;32m      9\u001b[0m     \u001b[0mdriver\u001b[0m\u001b[1;33m.\u001b[0m\u001b[0mget\u001b[0m\u001b[1;33m(\u001b[0m\u001b[0mnxtbutton\u001b[0m\u001b[1;33m.\u001b[0m\u001b[0mget_attribute\u001b[0m\u001b[1;33m(\u001b[0m\u001b[1;34m'href'\u001b[0m\u001b[1;33m)\u001b[0m\u001b[1;33m)\u001b[0m\u001b[1;33m\u001b[0m\u001b[1;33m\u001b[0m\u001b[0m\n",
      "\u001b[1;32m~\\anaconda3\\lib\\site-packages\\selenium\\webdriver\\remote\\webdriver.py\u001b[0m in \u001b[0;36mfind_element\u001b[1;34m(self, by, value)\u001b[0m\n\u001b[0;32m    854\u001b[0m             \u001b[0mvalue\u001b[0m \u001b[1;33m=\u001b[0m \u001b[1;34m'[name=\"%s\"]'\u001b[0m \u001b[1;33m%\u001b[0m \u001b[0mvalue\u001b[0m\u001b[1;33m\u001b[0m\u001b[1;33m\u001b[0m\u001b[0m\n\u001b[0;32m    855\u001b[0m \u001b[1;33m\u001b[0m\u001b[0m\n\u001b[1;32m--> 856\u001b[1;33m         return self.execute(Command.FIND_ELEMENT, {\n\u001b[0m\u001b[0;32m    857\u001b[0m             \u001b[1;34m'using'\u001b[0m\u001b[1;33m:\u001b[0m \u001b[0mby\u001b[0m\u001b[1;33m,\u001b[0m\u001b[1;33m\u001b[0m\u001b[1;33m\u001b[0m\u001b[0m\n\u001b[0;32m    858\u001b[0m             'value': value})['value']\n",
      "\u001b[1;32m~\\anaconda3\\lib\\site-packages\\selenium\\webdriver\\remote\\webdriver.py\u001b[0m in \u001b[0;36mexecute\u001b[1;34m(self, driver_command, params)\u001b[0m\n\u001b[0;32m    432\u001b[0m         \u001b[0mresponse\u001b[0m \u001b[1;33m=\u001b[0m \u001b[0mself\u001b[0m\u001b[1;33m.\u001b[0m\u001b[0mcommand_executor\u001b[0m\u001b[1;33m.\u001b[0m\u001b[0mexecute\u001b[0m\u001b[1;33m(\u001b[0m\u001b[0mdriver_command\u001b[0m\u001b[1;33m,\u001b[0m \u001b[0mparams\u001b[0m\u001b[1;33m)\u001b[0m\u001b[1;33m\u001b[0m\u001b[1;33m\u001b[0m\u001b[0m\n\u001b[0;32m    433\u001b[0m         \u001b[1;32mif\u001b[0m \u001b[0mresponse\u001b[0m\u001b[1;33m:\u001b[0m\u001b[1;33m\u001b[0m\u001b[1;33m\u001b[0m\u001b[0m\n\u001b[1;32m--> 434\u001b[1;33m             \u001b[0mself\u001b[0m\u001b[1;33m.\u001b[0m\u001b[0merror_handler\u001b[0m\u001b[1;33m.\u001b[0m\u001b[0mcheck_response\u001b[0m\u001b[1;33m(\u001b[0m\u001b[0mresponse\u001b[0m\u001b[1;33m)\u001b[0m\u001b[1;33m\u001b[0m\u001b[1;33m\u001b[0m\u001b[0m\n\u001b[0m\u001b[0;32m    435\u001b[0m             response['value'] = self._unwrap_value(\n\u001b[0;32m    436\u001b[0m                 response.get('value', None))\n",
      "\u001b[1;32m~\\anaconda3\\lib\\site-packages\\selenium\\webdriver\\remote\\errorhandler.py\u001b[0m in \u001b[0;36mcheck_response\u001b[1;34m(self, response)\u001b[0m\n\u001b[0;32m    241\u001b[0m                 \u001b[0malert_text\u001b[0m \u001b[1;33m=\u001b[0m \u001b[0mvalue\u001b[0m\u001b[1;33m[\u001b[0m\u001b[1;34m'alert'\u001b[0m\u001b[1;33m]\u001b[0m\u001b[1;33m.\u001b[0m\u001b[0mget\u001b[0m\u001b[1;33m(\u001b[0m\u001b[1;34m'text'\u001b[0m\u001b[1;33m)\u001b[0m\u001b[1;33m\u001b[0m\u001b[1;33m\u001b[0m\u001b[0m\n\u001b[0;32m    242\u001b[0m             \u001b[1;32mraise\u001b[0m \u001b[0mexception_class\u001b[0m\u001b[1;33m(\u001b[0m\u001b[0mmessage\u001b[0m\u001b[1;33m,\u001b[0m \u001b[0mscreen\u001b[0m\u001b[1;33m,\u001b[0m \u001b[0mstacktrace\u001b[0m\u001b[1;33m,\u001b[0m \u001b[0malert_text\u001b[0m\u001b[1;33m)\u001b[0m  \u001b[1;31m# type: ignore[call-arg]  # mypy is not smart enough here\u001b[0m\u001b[1;33m\u001b[0m\u001b[1;33m\u001b[0m\u001b[0m\n\u001b[1;32m--> 243\u001b[1;33m         \u001b[1;32mraise\u001b[0m \u001b[0mexception_class\u001b[0m\u001b[1;33m(\u001b[0m\u001b[0mmessage\u001b[0m\u001b[1;33m,\u001b[0m \u001b[0mscreen\u001b[0m\u001b[1;33m,\u001b[0m \u001b[0mstacktrace\u001b[0m\u001b[1;33m)\u001b[0m\u001b[1;33m\u001b[0m\u001b[1;33m\u001b[0m\u001b[0m\n\u001b[0m",
      "\u001b[1;31mNoSuchElementException\u001b[0m: Message: no such element: Unable to locate element: {\"method\":\"xpath\",\"selector\":\"//a[@class=\"_1LKTO3\"][2]\"}\n  (Session info: chrome=107.0.5304.122)\nStacktrace:\nBacktrace:\n\tOrdinal0 [0x0109ACD3+2075859]\n\tOrdinal0 [0x0102EE61+1633889]\n\tOrdinal0 [0x00F2B7BD+571325]\n\tOrdinal0 [0x00F5AC2F+764975]\n\tOrdinal0 [0x00F5AE1B+765467]\n\tOrdinal0 [0x00F8D0F2+970994]\n\tOrdinal0 [0x00F77364+881508]\n\tOrdinal0 [0x00F8B56A+963946]\n\tOrdinal0 [0x00F77136+880950]\n\tOrdinal0 [0x00F4FEFD+720637]\n\tOrdinal0 [0x00F50F3F+724799]\n\tGetHandleVerifier [0x0134EED2+2769538]\n\tGetHandleVerifier [0x01340D95+2711877]\n\tGetHandleVerifier [0x0112A03A+521194]\n\tGetHandleVerifier [0x01128DA0+516432]\n\tOrdinal0 [0x0103682C+1665068]\n\tOrdinal0 [0x0103B128+1683752]\n\tOrdinal0 [0x0103B215+1683989]\n\tOrdinal0 [0x01046484+1729668]\n\tBaseThreadInitThunk [0x75B7FEF9+25]\n\tRtlGetAppContainerNamedObjectPath [0x77C77BBE+286]\n\tRtlGetAppContainerNamedObjectPath [0x77C77B8E+238]\n"
     ]
    }
   ],
   "source": [
    "for i in range(200):\n",
    "    \n",
    "    produrl=driver.find_elements(By.XPATH,'//a[@class=\"_1fQZEK\"]')\n",
    "    for j in produrl:\n",
    "        moblink.append(j.get_attribute('href'))\n",
    "    \n",
    "    \n",
    "    nxtbutton=driver.find_element(By.XPATH,'//a[@class=\"_1LKTO3\"][2]')\n",
    "    driver.get(nxtbutton.get_attribute('href'))"
   ]
  },
  {
   "cell_type": "code",
   "execution_count": 9,
   "id": "ead91fa7",
   "metadata": {},
   "outputs": [
    {
     "data": {
      "text/plain": [
       "960"
      ]
     },
     "execution_count": 9,
     "metadata": {},
     "output_type": "execute_result"
    }
   ],
   "source": [
    "len(moblink)"
   ]
  },
  {
   "cell_type": "code",
   "execution_count": 10,
   "id": "e5acb113",
   "metadata": {},
   "outputs": [],
   "source": [
    "review2=[]\n",
    "star2=[]"
   ]
  },
  {
   "cell_type": "code",
   "execution_count": 11,
   "id": "86d6889e",
   "metadata": {},
   "outputs": [],
   "source": [
    "for i in moblink:\n",
    "    driver.get(i)\n",
    "    delay=10\n",
    "\n",
    "    SCROLL_PAUSE_TIME = 0.5\n",
    "\n",
    "\n",
    "    #try: \n",
    "     #   allrevtag=driver.find_element(By.XPATH,'/html/body/div[1]/div/div[3]/div[1]/div[2]/div[9]/div[7]/div/a')\n",
    "     #   driver.get(allrevtag.get_attribute('href'))\n",
    "    \n",
    "    \n",
    "    rvtag=driver.find_elements(By.XPATH,'//div[@class=\"t-ZTKy\"]//div//div')\n",
    "    for elt in rvtag:\n",
    "        review2.append(elt.text)\n",
    "    \n",
    "    startag=driver.find_elements(By.XPATH,'//div[@class=\"_3LWZlK _1BLPMq\"]')\n",
    "    for elt in startag:\n",
    "        try:\n",
    "            star2.append(elt.text)\n",
    "        except:\n",
    "            star2.append(\"-\")"
   ]
  },
  {
   "cell_type": "code",
   "execution_count": null,
   "id": "1b7eaf72",
   "metadata": {},
   "outputs": [],
   "source": []
  },
  {
   "cell_type": "code",
   "execution_count": 15,
   "id": "2ff7ce7f",
   "metadata": {},
   "outputs": [],
   "source": [
    "dfmob=pd.DataFrame({'Review':review2,'star':star2})"
   ]
  },
  {
   "cell_type": "code",
   "execution_count": 16,
   "id": "f61f8cdc",
   "metadata": {},
   "outputs": [],
   "source": [
    "filename='mobile2.xlsx'\n",
    "dfmob.to_excel (filename, index = False, header=True)"
   ]
  },
  {
   "cell_type": "code",
   "execution_count": null,
   "id": "1b317858",
   "metadata": {},
   "outputs": [],
   "source": []
  },
  {
   "cell_type": "markdown",
   "id": "c484bdbd",
   "metadata": {},
   "source": [
    "## STORING DETAILS OF LAPTOPS"
   ]
  },
  {
   "cell_type": "code",
   "execution_count": 30,
   "id": "0258b220",
   "metadata": {},
   "outputs": [],
   "source": [
    "driver.get('https://www.flipkart.com/search?q=all+laptops&otracker=search&otracker1=search&marketplace=FLIPKART&as-show=on&as=off&page=2')\n"
   ]
  },
  {
   "cell_type": "code",
   "execution_count": 31,
   "id": "39567e56",
   "metadata": {},
   "outputs": [],
   "source": [
    "laplink=[]"
   ]
  },
  {
   "cell_type": "code",
   "execution_count": 32,
   "id": "72775d3a",
   "metadata": {},
   "outputs": [
    {
     "name": "stdout",
     "output_type": "stream",
     "text": [
      "exception raised\n",
      "exception raised\n",
      "exception raised\n",
      "exception raised\n",
      "exception raised\n",
      "exception raised\n",
      "exception raised\n",
      "exception raised\n",
      "exception raised\n",
      "exception raised\n",
      "exception raised\n",
      "exception raised\n",
      "exception raised\n",
      "exception raised\n",
      "exception raised\n",
      "exception raised\n",
      "exception raised\n",
      "exception raised\n",
      "exception raised\n",
      "exception raised\n",
      "exception raised\n",
      "exception raised\n",
      "exception raised\n",
      "exception raised\n",
      "exception raised\n",
      "exception raised\n",
      "exception raised\n",
      "exception raised\n",
      "exception raised\n",
      "exception raised\n",
      "exception raised\n",
      "exception raised\n",
      "exception raised\n",
      "exception raised\n",
      "exception raised\n",
      "exception raised\n",
      "exception raised\n",
      "exception raised\n",
      "exception raised\n",
      "exception raised\n",
      "exception raised\n",
      "exception raised\n",
      "exception raised\n",
      "exception raised\n",
      "exception raised\n",
      "exception raised\n",
      "exception raised\n",
      "exception raised\n",
      "exception raised\n",
      "exception raised\n",
      "exception raised\n",
      "exception raised\n",
      "exception raised\n",
      "exception raised\n",
      "exception raised\n",
      "exception raised\n",
      "exception raised\n",
      "exception raised\n",
      "exception raised\n",
      "exception raised\n",
      "exception raised\n",
      "exception raised\n",
      "exception raised\n",
      "exception raised\n",
      "exception raised\n",
      "exception raised\n",
      "exception raised\n",
      "exception raised\n",
      "exception raised\n",
      "exception raised\n",
      "exception raised\n",
      "exception raised\n",
      "exception raised\n",
      "exception raised\n",
      "exception raised\n",
      "exception raised\n",
      "exception raised\n",
      "exception raised\n",
      "exception raised\n",
      "exception raised\n",
      "exception raised\n",
      "exception raised\n",
      "exception raised\n",
      "exception raised\n",
      "exception raised\n",
      "exception raised\n",
      "exception raised\n",
      "exception raised\n",
      "exception raised\n",
      "exception raised\n",
      "exception raised\n",
      "exception raised\n",
      "exception raised\n",
      "exception raised\n",
      "exception raised\n",
      "exception raised\n",
      "exception raised\n",
      "exception raised\n",
      "exception raised\n",
      "exception raised\n",
      "exception raised\n",
      "exception raised\n",
      "exception raised\n",
      "exception raised\n",
      "exception raised\n",
      "exception raised\n",
      "exception raised\n",
      "exception raised\n",
      "exception raised\n",
      "exception raised\n",
      "exception raised\n",
      "exception raised\n",
      "exception raised\n",
      "exception raised\n",
      "exception raised\n",
      "exception raised\n",
      "exception raised\n",
      "exception raised\n",
      "exception raised\n",
      "exception raised\n",
      "exception raised\n",
      "exception raised\n",
      "exception raised\n",
      "exception raised\n",
      "exception raised\n",
      "exception raised\n",
      "exception raised\n",
      "exception raised\n",
      "exception raised\n",
      "exception raised\n",
      "exception raised\n",
      "exception raised\n",
      "exception raised\n",
      "exception raised\n",
      "exception raised\n",
      "exception raised\n",
      "exception raised\n",
      "exception raised\n",
      "exception raised\n",
      "exception raised\n",
      "exception raised\n",
      "exception raised\n",
      "exception raised\n",
      "exception raised\n",
      "exception raised\n",
      "exception raised\n",
      "exception raised\n",
      "exception raised\n",
      "exception raised\n",
      "exception raised\n",
      "exception raised\n",
      "exception raised\n",
      "exception raised\n",
      "exception raised\n",
      "exception raised\n",
      "exception raised\n",
      "exception raised\n",
      "exception raised\n",
      "exception raised\n",
      "exception raised\n",
      "exception raised\n",
      "exception raised\n",
      "exception raised\n",
      "exception raised\n",
      "exception raised\n",
      "exception raised\n",
      "exception raised\n",
      "exception raised\n",
      "exception raised\n",
      "exception raised\n",
      "exception raised\n",
      "exception raised\n",
      "exception raised\n",
      "exception raised\n",
      "exception raised\n",
      "exception raised\n"
     ]
    }
   ],
   "source": [
    "for i in range(200):\n",
    "    \n",
    "    produrl=driver.find_elements(By.XPATH,'//a[@class=\"s1Q9rs\"]')\n",
    "    for j in produrl:\n",
    "        laplink.append(j.get_attribute('href'))\n",
    "    \n",
    "    try:\n",
    "        nxtbutton=driver.find_element(By.XPATH,'//a[@class=\"_1LKTO3\"][2]')\n",
    "        driver.get(nxtbutton.get_attribute('href'))\n",
    "    except:\n",
    "        print(\"exception raised\")"
   ]
  },
  {
   "cell_type": "code",
   "execution_count": 33,
   "id": "9a98007d",
   "metadata": {},
   "outputs": [
    {
     "data": {
      "text/plain": [
       "960"
      ]
     },
     "execution_count": 33,
     "metadata": {},
     "output_type": "execute_result"
    }
   ],
   "source": [
    "len(laplink)"
   ]
  },
  {
   "cell_type": "code",
   "execution_count": 34,
   "id": "a3899f7f",
   "metadata": {},
   "outputs": [],
   "source": [
    "review3=[]\n",
    "star3=[]"
   ]
  },
  {
   "cell_type": "code",
   "execution_count": null,
   "id": "c925ddfa",
   "metadata": {},
   "outputs": [],
   "source": [
    "for i in laplink:\n",
    "    driver.get(i)\n",
    "    delay=10\n",
    "\n",
    "    SCROLL_PAUSE_TIME = 0.5\n",
    "\n",
    "\n",
    "    #try: \n",
    "     #   allrevtag=driver.find_element(By.XPATH,'/html/body/div[1]/div/div[3]/div[1]/div[2]/div[9]/div[7]/div/a')\n",
    "     #   driver.get(allrevtag.get_attribute('href'))\n",
    "    \n",
    "    \n",
    "    rvtag=driver.find_elements(By.XPATH,'//div[@class=\"t-ZTKy\"]')\n",
    "    for elt in rvtag:\n",
    "        review3.append(elt.text)\n",
    "    \n",
    "    startag=driver.find_elements(By.XPATH,'//div[@class=\"_3LWZlK _1BLPMq\"]')\n",
    "    for elt in startag:\n",
    "        try:\n",
    "            star3.append(elt.text)\n",
    "        except:\n",
    "            star3.append(\"-\")"
   ]
  },
  {
   "cell_type": "code",
   "execution_count": null,
   "id": "48df0085",
   "metadata": {},
   "outputs": [],
   "source": []
  },
  {
   "cell_type": "code",
   "execution_count": 60,
   "id": "e9122e91",
   "metadata": {},
   "outputs": [
    {
     "data": {
      "text/plain": [
       "3055"
      ]
     },
     "execution_count": 60,
     "metadata": {},
     "output_type": "execute_result"
    }
   ],
   "source": [
    "len(star3)"
   ]
  },
  {
   "cell_type": "code",
   "execution_count": 61,
   "id": "84d04d95",
   "metadata": {},
   "outputs": [
    {
     "data": {
      "text/plain": [
       "3249"
      ]
     },
     "execution_count": 61,
     "metadata": {},
     "output_type": "execute_result"
    }
   ],
   "source": [
    "len(review3)"
   ]
  },
  {
   "cell_type": "code",
   "execution_count": 64,
   "id": "8e2f4337",
   "metadata": {},
   "outputs": [],
   "source": [
    "dflap=pd.DataFrame({'Review':review,'star':star})"
   ]
  },
  {
   "cell_type": "code",
   "execution_count": 65,
   "id": "68a29fed",
   "metadata": {},
   "outputs": [],
   "source": [
    "filename='laptop.xlsx'\n",
    "dflap.to_excel (filename, index = False, header=True)"
   ]
  },
  {
   "cell_type": "markdown",
   "id": "f823559b",
   "metadata": {},
   "source": [
    "## STORING DETAILS OF HEADPHONES"
   ]
  },
  {
   "cell_type": "code",
   "execution_count": 11,
   "id": "83cb1aa8",
   "metadata": {},
   "outputs": [],
   "source": [
    "driver=webdriver.Chrome(r\"chromedriver.exe\")"
   ]
  },
  {
   "cell_type": "code",
   "execution_count": 3,
   "id": "61d0aa4d",
   "metadata": {},
   "outputs": [],
   "source": [
    "driver.get('https://www.flipkart.com/search?q=all+headphones&as=on&as-show=on&otracker=AS_Query_OrganicAutoSuggest_3_13_na_na_na&otracker1=AS_Query_OrganicAutoSuggest_3_13_na_na_na&as-pos=3&as-type=RECENT&suggestionId=all+headphones&requestId=02a458f0-4a96-4f99-8800-7f77d2a4299e&as-searchtext=all+headphone&page=2')\n"
   ]
  },
  {
   "cell_type": "code",
   "execution_count": 4,
   "id": "e5235b34",
   "metadata": {},
   "outputs": [],
   "source": [
    "headlink=[]"
   ]
  },
  {
   "cell_type": "code",
   "execution_count": 5,
   "id": "65887685",
   "metadata": {},
   "outputs": [
    {
     "name": "stdout",
     "output_type": "stream",
     "text": [
      "exception raised\n",
      "exception raised\n",
      "exception raised\n",
      "exception raised\n",
      "exception raised\n",
      "exception raised\n",
      "exception raised\n",
      "exception raised\n",
      "exception raised\n",
      "exception raised\n",
      "exception raised\n",
      "exception raised\n",
      "exception raised\n",
      "exception raised\n",
      "exception raised\n",
      "exception raised\n",
      "exception raised\n",
      "exception raised\n",
      "exception raised\n",
      "exception raised\n",
      "exception raised\n",
      "exception raised\n",
      "exception raised\n",
      "exception raised\n",
      "exception raised\n",
      "exception raised\n"
     ]
    }
   ],
   "source": [
    "for i in range(50):\n",
    "    \n",
    "    produrl=driver.find_elements(By.XPATH,'//a[@class=\"s1Q9rs\"]')\n",
    "    for j in produrl:\n",
    "        headlink.append(j.get_attribute('href'))\n",
    "    \n",
    "    try:\n",
    "        nxtbutton=driver.find_element(By.XPATH,'//a[@class=\"_1LKTO3\"][2]')\n",
    "        driver.get(nxtbutton.get_attribute('href'))\n",
    "    except:\n",
    "        print(\"exception raised\")"
   ]
  },
  {
   "cell_type": "code",
   "execution_count": 13,
   "id": "6045a645",
   "metadata": {},
   "outputs": [
    {
     "data": {
      "text/plain": [
       "960"
      ]
     },
     "execution_count": 13,
     "metadata": {},
     "output_type": "execute_result"
    }
   ],
   "source": [
    "len(headlink)"
   ]
  },
  {
   "cell_type": "code",
   "execution_count": 15,
   "id": "1547e534",
   "metadata": {},
   "outputs": [],
   "source": [
    "review4=[]\n",
    "star4=[]"
   ]
  },
  {
   "cell_type": "code",
   "execution_count": 16,
   "id": "21668113",
   "metadata": {},
   "outputs": [],
   "source": [
    "for i in headlink:\n",
    "    driver.get(i)\n",
    "    delay=10\n",
    "\n",
    "    SCROLL_PAUSE_TIME = 0.5\n",
    "\n",
    "\n",
    "    #try: \n",
    "     #   allrevtag=driver.find_element(By.XPATH,'/html/body/div[1]/div/div[3]/div[1]/div[2]/div[9]/div[7]/div/a')\n",
    "     #   driver.get(allrevtag.get_attribute('href'))\n",
    "    \n",
    "    \n",
    "    rvtag=driver.find_elements(By.XPATH,'//div[@class=\"t-ZTKy\"]')\n",
    "    for elt in rvtag:\n",
    "        review4.append(elt.text)\n",
    "    \n",
    "    startag=driver.find_elements(By.XPATH,'//div[@class=\"_3LWZlK _1BLPMq\"]')\n",
    "    for elt in startag:\n",
    "        try:\n",
    "            star4.append(elt.text)\n",
    "        except:\n",
    "            star4.append(\"-\")"
   ]
  },
  {
   "cell_type": "code",
   "execution_count": 17,
   "id": "06870155",
   "metadata": {},
   "outputs": [
    {
     "data": {
      "text/plain": [
       "6819"
      ]
     },
     "execution_count": 17,
     "metadata": {},
     "output_type": "execute_result"
    }
   ],
   "source": [
    "len(star4)"
   ]
  },
  {
   "cell_type": "code",
   "execution_count": 20,
   "id": "f49375eb",
   "metadata": {},
   "outputs": [
    {
     "data": {
      "text/plain": [
       "6819"
      ]
     },
     "execution_count": 20,
     "metadata": {},
     "output_type": "execute_result"
    }
   ],
   "source": [
    "len(review4)"
   ]
  },
  {
   "cell_type": "code",
   "execution_count": 21,
   "id": "e2062ded",
   "metadata": {},
   "outputs": [],
   "source": [
    "dfheadphone=pd.DataFrame({'Review':review4,'star':star4})"
   ]
  },
  {
   "cell_type": "code",
   "execution_count": 22,
   "id": "6216d5a0",
   "metadata": {},
   "outputs": [],
   "source": [
    "filename='headphone.xlsx'\n",
    "dfheadphone.to_excel (filename, index = False, header=True)"
   ]
  },
  {
   "cell_type": "code",
   "execution_count": null,
   "id": "557200cc",
   "metadata": {},
   "outputs": [],
   "source": []
  },
  {
   "cell_type": "code",
   "execution_count": null,
   "id": "afc5eab0",
   "metadata": {},
   "outputs": [],
   "source": []
  },
  {
   "cell_type": "markdown",
   "id": "e5531886",
   "metadata": {},
   "source": [
    "## camera details"
   ]
  },
  {
   "cell_type": "code",
   "execution_count": 66,
   "id": "c9d43676",
   "metadata": {},
   "outputs": [],
   "source": [
    "driver=webdriver.Chrome(r\"chromedriver.exe\")"
   ]
  },
  {
   "cell_type": "code",
   "execution_count": 49,
   "id": "9272be71",
   "metadata": {},
   "outputs": [],
   "source": [
    "driver.get('https://www.flipkart.com/search?q=all+camera&otracker=search&otracker1=search&marketplace=FLIPKART&as-show=on&as=off&page=2')"
   ]
  },
  {
   "cell_type": "code",
   "execution_count": 65,
   "id": "e2972bb2",
   "metadata": {},
   "outputs": [],
   "source": [
    "review5=[]\n",
    "star5=[]"
   ]
  },
  {
   "cell_type": "code",
   "execution_count": 51,
   "id": "37bf78c8",
   "metadata": {},
   "outputs": [],
   "source": [
    "camlink=[]"
   ]
  },
  {
   "cell_type": "code",
   "execution_count": 52,
   "id": "3ebe9782",
   "metadata": {},
   "outputs": [
    {
     "name": "stdout",
     "output_type": "stream",
     "text": [
      "exception raised\n",
      "exception raised\n",
      "exception raised\n",
      "exception raised\n",
      "exception raised\n",
      "exception raised\n",
      "exception raised\n",
      "exception raised\n"
     ]
    }
   ],
   "source": [
    "for i in range(48):\n",
    "    \n",
    "    produrl=driver.find_elements(By.XPATH,'//a[@class=\"_1fQZEK\"]')\n",
    "    for j in produrl:\n",
    "        camlink.append(j.get_attribute('href'))\n",
    "    \n",
    "    try:\n",
    "        nxtbutton=driver.find_element(By.XPATH,'//a[@class=\"_1LKTO3\"][2]')\n",
    "        driver.get(nxtbutton.get_attribute('href'))\n",
    "    except:\n",
    "        print(\"exception raised\")"
   ]
  },
  {
   "cell_type": "code",
   "execution_count": 53,
   "id": "d5ff2e89",
   "metadata": {},
   "outputs": [
    {
     "data": {
      "text/plain": [
       "960"
      ]
     },
     "execution_count": 53,
     "metadata": {},
     "output_type": "execute_result"
    }
   ],
   "source": [
    "len(camlink)"
   ]
  },
  {
   "cell_type": "code",
   "execution_count": 67,
   "id": "0f57ae68",
   "metadata": {},
   "outputs": [],
   "source": [
    "for i in camlink:\n",
    "    driver.get(i)\n",
    "    delay=10\n",
    "\n",
    "    SCROLL_PAUSE_TIME = 0.5\n",
    "\n",
    "\n",
    "    #try: \n",
    "     #   allrevtag=driver.find_element(By.XPATH,'/html/body/div[1]/div/div[3]/div[1]/div[2]/div[9]/div[7]/div/a')\n",
    "     #   driver.get(allrevtag.get_attribute('href'))\n",
    "    \n",
    "    \n",
    "    rvtag=driver.find_elements(By.XPATH,'//div[@class=\"t-ZTKy\"]')\n",
    "    for elt in rvtag:\n",
    "        review5.append(elt.text)\n",
    "    \n",
    "    startag=driver.find_elements(By.XPATH,'//div[@class=\"_3LWZlK _1BLPMq\"]')\n",
    "    for elt in startag:\n",
    "        try:\n",
    "            star5.append(elt.text)\n",
    "        except:\n",
    "            star5.append(\"-\")\n"
   ]
  },
  {
   "cell_type": "code",
   "execution_count": 73,
   "id": "911306c6",
   "metadata": {},
   "outputs": [],
   "source": [
    "dfcam=pd.DataFrame({'Review':review5,'star':star5})"
   ]
  },
  {
   "cell_type": "code",
   "execution_count": 74,
   "id": "9110b52c",
   "metadata": {},
   "outputs": [],
   "source": [
    "filename='camera.xlsx'\n",
    "dfcam.to_excel (filename, index = False, header=True)"
   ]
  },
  {
   "cell_type": "code",
   "execution_count": null,
   "id": "f30cee33",
   "metadata": {},
   "outputs": [],
   "source": []
  },
  {
   "cell_type": "code",
   "execution_count": null,
   "id": "493ebd1f",
   "metadata": {},
   "outputs": [],
   "source": []
  },
  {
   "cell_type": "code",
   "execution_count": 82,
   "id": "ff665a9a",
   "metadata": {},
   "outputs": [],
   "source": [
    "driver=webdriver.Chrome(r\"chromedriver.exe\")"
   ]
  },
  {
   "cell_type": "code",
   "execution_count": 83,
   "id": "507fd143",
   "metadata": {},
   "outputs": [],
   "source": [
    "driver.get('https://www.flipkart.com/search?q=computer+peripherals&sid=6bo%2Ctia&as=on&as-show=on&otracker=AS_QueryStore_OrganicAutoSuggest_1_14_na_na_na&otracker1=AS_QueryStore_OrganicAutoSuggest_1_14_na_na_na&as-pos=1&as-type=RECENT&suggestionId=computer+peripherals%7CComputer+Peripherals&requestId=7439439b-1406-49b1-8e66-c6729ffdd74d&as-backfill=on&page=2')"
   ]
  },
  {
   "cell_type": "code",
   "execution_count": 77,
   "id": "141f71aa",
   "metadata": {},
   "outputs": [],
   "source": [
    "comlink=[]"
   ]
  },
  {
   "cell_type": "code",
   "execution_count": 78,
   "id": "7e5584df",
   "metadata": {},
   "outputs": [
    {
     "name": "stdout",
     "output_type": "stream",
     "text": [
      "exception raised\n",
      "exception raised\n",
      "exception raised\n",
      "exception raised\n",
      "exception raised\n",
      "exception raised\n",
      "exception raised\n",
      "exception raised\n",
      "exception raised\n",
      "exception raised\n",
      "exception raised\n",
      "exception raised\n",
      "exception raised\n",
      "exception raised\n",
      "exception raised\n",
      "exception raised\n",
      "exception raised\n",
      "exception raised\n",
      "exception raised\n",
      "exception raised\n",
      "exception raised\n",
      "exception raised\n",
      "exception raised\n",
      "exception raised\n",
      "exception raised\n",
      "exception raised\n",
      "exception raised\n",
      "exception raised\n",
      "exception raised\n",
      "exception raised\n",
      "exception raised\n",
      "exception raised\n",
      "exception raised\n",
      "exception raised\n",
      "exception raised\n",
      "exception raised\n",
      "exception raised\n",
      "exception raised\n",
      "exception raised\n",
      "exception raised\n",
      "exception raised\n",
      "exception raised\n",
      "exception raised\n",
      "exception raised\n",
      "exception raised\n",
      "exception raised\n",
      "exception raised\n",
      "exception raised\n",
      "exception raised\n",
      "exception raised\n",
      "exception raised\n",
      "exception raised\n",
      "exception raised\n",
      "exception raised\n",
      "exception raised\n",
      "exception raised\n",
      "exception raised\n",
      "exception raised\n",
      "exception raised\n",
      "exception raised\n",
      "exception raised\n",
      "exception raised\n",
      "exception raised\n",
      "exception raised\n",
      "exception raised\n",
      "exception raised\n",
      "exception raised\n",
      "exception raised\n",
      "exception raised\n",
      "exception raised\n",
      "exception raised\n",
      "exception raised\n",
      "exception raised\n",
      "exception raised\n",
      "exception raised\n",
      "exception raised\n",
      "exception raised\n",
      "exception raised\n",
      "exception raised\n",
      "exception raised\n",
      "exception raised\n",
      "exception raised\n",
      "exception raised\n",
      "exception raised\n",
      "exception raised\n",
      "exception raised\n",
      "exception raised\n",
      "exception raised\n",
      "exception raised\n",
      "exception raised\n",
      "exception raised\n",
      "exception raised\n",
      "exception raised\n",
      "exception raised\n",
      "exception raised\n",
      "exception raised\n",
      "exception raised\n",
      "exception raised\n",
      "exception raised\n",
      "exception raised\n",
      "exception raised\n",
      "exception raised\n",
      "exception raised\n",
      "exception raised\n",
      "exception raised\n",
      "exception raised\n",
      "exception raised\n",
      "exception raised\n",
      "exception raised\n",
      "exception raised\n",
      "exception raised\n",
      "exception raised\n",
      "exception raised\n",
      "exception raised\n",
      "exception raised\n",
      "exception raised\n",
      "exception raised\n",
      "exception raised\n",
      "exception raised\n",
      "exception raised\n",
      "exception raised\n",
      "exception raised\n",
      "exception raised\n",
      "exception raised\n",
      "exception raised\n",
      "exception raised\n"
     ]
    }
   ],
   "source": [
    "for i in range(150):\n",
    "    \n",
    "    produrl=driver.find_elements(By.XPATH,'//a[@class=\"s1Q9rs\"]')\n",
    "    for j in produrl:\n",
    "        comlink.append(j.get_attribute('href'))\n",
    "    \n",
    "    try:\n",
    "        nxtbutton=driver.find_element(By.XPATH,'//a[@class=\"_1LKTO3\"][2]')\n",
    "        driver.get(nxtbutton.get_attribute('href'))\n",
    "    except:\n",
    "        print(\"exception raised\")"
   ]
  },
  {
   "cell_type": "code",
   "execution_count": 84,
   "id": "23e17d1a",
   "metadata": {},
   "outputs": [
    {
     "data": {
      "text/plain": [
       "960"
      ]
     },
     "execution_count": 84,
     "metadata": {},
     "output_type": "execute_result"
    }
   ],
   "source": [
    "len(comlink)"
   ]
  },
  {
   "cell_type": "code",
   "execution_count": 85,
   "id": "5663fd7d",
   "metadata": {},
   "outputs": [],
   "source": [
    "review6=[]\n",
    "star6=[]"
   ]
  },
  {
   "cell_type": "code",
   "execution_count": 86,
   "id": "0f7db8f9",
   "metadata": {},
   "outputs": [],
   "source": [
    "for i in comlink:\n",
    "    driver.get(i)\n",
    "    delay=10\n",
    "\n",
    "    SCROLL_PAUSE_TIME = 0.5\n",
    "\n",
    "\n",
    "    #try: \n",
    "     #   allrevtag=driver.find_element(By.XPATH,'/html/body/div[1]/div/div[3]/div[1]/div[2]/div[9]/div[7]/div/a')\n",
    "     #   driver.get(allrevtag.get_attribute('href'))\n",
    "    \n",
    "    \n",
    "    rvtag=driver.find_elements(By.XPATH,'//div[@class=\"t-ZTKy\"]')\n",
    "    for elt in rvtag:\n",
    "        review6.append(elt.text)\n",
    "    \n",
    "    startag=driver.find_elements(By.XPATH,'//div[@class=\"_3LWZlK _1BLPMq\"]')\n",
    "    for elt in startag:\n",
    "        try:\n",
    "            star6.append(elt.text)\n",
    "        except:\n",
    "            star6.append(\"-\")\n"
   ]
  },
  {
   "cell_type": "code",
   "execution_count": 87,
   "id": "4a484482",
   "metadata": {},
   "outputs": [
    {
     "data": {
      "text/plain": [
       "4749"
      ]
     },
     "execution_count": 87,
     "metadata": {},
     "output_type": "execute_result"
    }
   ],
   "source": [
    "len(review6)"
   ]
  },
  {
   "cell_type": "code",
   "execution_count": 88,
   "id": "22db777e",
   "metadata": {},
   "outputs": [
    {
     "data": {
      "text/plain": [
       "3684"
      ]
     },
     "execution_count": 88,
     "metadata": {},
     "output_type": "execute_result"
    }
   ],
   "source": [
    "len(star6)"
   ]
  },
  {
   "cell_type": "code",
   "execution_count": null,
   "id": "db699cb2",
   "metadata": {},
   "outputs": [],
   "source": []
  },
  {
   "cell_type": "code",
   "execution_count": null,
   "id": "96b5e6af",
   "metadata": {},
   "outputs": [],
   "source": []
  },
  {
   "cell_type": "code",
   "execution_count": null,
   "id": "6cf40ea6",
   "metadata": {},
   "outputs": [],
   "source": []
  },
  {
   "cell_type": "code",
   "execution_count": null,
   "id": "2bbc4f27",
   "metadata": {},
   "outputs": [],
   "source": []
  },
  {
   "cell_type": "code",
   "execution_count": null,
   "id": "5f80c0fa",
   "metadata": {},
   "outputs": [],
   "source": []
  },
  {
   "cell_type": "code",
   "execution_count": null,
   "id": "d81210dd",
   "metadata": {},
   "outputs": [],
   "source": []
  }
 ],
 "metadata": {
  "kernelspec": {
   "display_name": "Python 3 (ipykernel)",
   "language": "python",
   "name": "python3"
  },
  "language_info": {
   "codemirror_mode": {
    "name": "ipython",
    "version": 3
   },
   "file_extension": ".py",
   "mimetype": "text/x-python",
   "name": "python",
   "nbconvert_exporter": "python",
   "pygments_lexer": "ipython3",
   "version": "3.9.7"
  }
 },
 "nbformat": 4,
 "nbformat_minor": 5
}
